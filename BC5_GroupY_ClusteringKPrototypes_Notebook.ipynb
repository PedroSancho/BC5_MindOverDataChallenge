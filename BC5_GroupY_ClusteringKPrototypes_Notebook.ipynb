{
 "cells": [
  {
   "cell_type": "code",
   "execution_count": 214,
   "metadata": {},
   "outputs": [],
   "source": [
    "import pandas as pd\n",
    "import numpy as np\n",
    "import matplotlib.pyplot as plt\n",
    "from pycaret.clustering import *\n",
    "\n",
    "# Remove scientific notation and round to 2 decimal cases\n",
    "pd.set_option('display.float_format', '{:.2f}'.format)"
   ]
  },
  {
   "cell_type": "code",
   "execution_count": 215,
   "metadata": {},
   "outputs": [],
   "source": [
    "df = pd.read_csv('final_data_for_bi_dwct.csv')"
   ]
  },
  {
   "cell_type": "code",
   "execution_count": 216,
   "metadata": {},
   "outputs": [],
   "source": [
    "df.drop('Unnamed: 0', axis=1, inplace=True)"
   ]
  },
  {
   "cell_type": "code",
   "execution_count": 217,
   "metadata": {
    "scrolled": true
   },
   "outputs": [
    {
     "name": "stdout",
     "output_type": "stream",
     "text": [
      "<class 'pandas.core.frame.DataFrame'>\n",
      "RangeIndex: 8067685 entries, 0 to 8067684\n",
      "Data columns (total 10 columns):\n",
      " #   Column              Dtype  \n",
      "---  ------              -----  \n",
      " 0   Quarter             object \n",
      " 1   POS_ID              int64  \n",
      " 2   ProductPackSKU_ID   int64  \n",
      " 3   Total_Value         float64\n",
      " 4   Total_Units         int64  \n",
      " 5   Purchased_Units     int64  \n",
      " 6   ProductFamily_ID    int64  \n",
      " 7   ProductCategory_ID  int64  \n",
      " 8   ProductBrand_ID     int64  \n",
      " 9   ProductName_ID      int64  \n",
      "dtypes: float64(1), int64(8), object(1)\n",
      "memory usage: 615.5+ MB\n"
     ]
    }
   ],
   "source": [
    "df.info()"
   ]
  },
  {
   "cell_type": "markdown",
   "metadata": {},
   "source": [
    "# Clustering Perspectives - POS (Value and Preferences)\n",
    "For that we will use:\n",
    "\n",
    "POS_ID as guide (groupby)\n",
    "\n",
    "Metric Features: Total_Value, Total_Units\n",
    "\n",
    "Categorical Features: ProductFamily_ID, ProductName_ID, ProductBrand_ID"
   ]
  },
  {
   "cell_type": "code",
   "execution_count": 73,
   "metadata": {
    "scrolled": true
   },
   "outputs": [
    {
     "data": {
      "text/html": [
       "<div>\n",
       "<style scoped>\n",
       "    .dataframe tbody tr th:only-of-type {\n",
       "        vertical-align: middle;\n",
       "    }\n",
       "\n",
       "    .dataframe tbody tr th {\n",
       "        vertical-align: top;\n",
       "    }\n",
       "\n",
       "    .dataframe thead th {\n",
       "        text-align: right;\n",
       "    }\n",
       "</style>\n",
       "<table border=\"1\" class=\"dataframe\">\n",
       "  <thead>\n",
       "    <tr style=\"text-align: right;\">\n",
       "      <th></th>\n",
       "      <th>Quarter</th>\n",
       "      <th>POS_ID</th>\n",
       "      <th>ProductPackSKU_ID</th>\n",
       "      <th>Total_Value</th>\n",
       "      <th>Total_Units</th>\n",
       "      <th>Purchased_Units</th>\n",
       "      <th>ProductFamily_ID</th>\n",
       "      <th>ProductCategory_ID</th>\n",
       "      <th>ProductBrand_ID</th>\n",
       "      <th>ProductName_ID</th>\n",
       "    </tr>\n",
       "  </thead>\n",
       "  <tbody>\n",
       "    <tr>\n",
       "      <th>0</th>\n",
       "      <td>2016Q1</td>\n",
       "      <td>359</td>\n",
       "      <td>4835</td>\n",
       "      <td>379062.0</td>\n",
       "      <td>599</td>\n",
       "      <td>112</td>\n",
       "      <td>15</td>\n",
       "      <td>3</td>\n",
       "      <td>828</td>\n",
       "      <td>1581</td>\n",
       "    </tr>\n",
       "    <tr>\n",
       "      <th>1</th>\n",
       "      <td>2016Q1</td>\n",
       "      <td>410</td>\n",
       "      <td>754</td>\n",
       "      <td>228068.0</td>\n",
       "      <td>490</td>\n",
       "      <td>106</td>\n",
       "      <td>9</td>\n",
       "      <td>178</td>\n",
       "      <td>127</td>\n",
       "      <td>231</td>\n",
       "    </tr>\n",
       "    <tr>\n",
       "      <th>2</th>\n",
       "      <td>2016Q1</td>\n",
       "      <td>208</td>\n",
       "      <td>4835</td>\n",
       "      <td>217423.0</td>\n",
       "      <td>311</td>\n",
       "      <td>102</td>\n",
       "      <td>15</td>\n",
       "      <td>3</td>\n",
       "      <td>828</td>\n",
       "      <td>1581</td>\n",
       "    </tr>\n",
       "    <tr>\n",
       "      <th>3</th>\n",
       "      <td>2016Q1</td>\n",
       "      <td>355</td>\n",
       "      <td>4835</td>\n",
       "      <td>191877.0</td>\n",
       "      <td>283</td>\n",
       "      <td>101</td>\n",
       "      <td>15</td>\n",
       "      <td>3</td>\n",
       "      <td>828</td>\n",
       "      <td>1581</td>\n",
       "    </tr>\n",
       "    <tr>\n",
       "      <th>4</th>\n",
       "      <td>2016Q1</td>\n",
       "      <td>239</td>\n",
       "      <td>755</td>\n",
       "      <td>295200.0</td>\n",
       "      <td>675</td>\n",
       "      <td>100</td>\n",
       "      <td>9</td>\n",
       "      <td>178</td>\n",
       "      <td>127</td>\n",
       "      <td>231</td>\n",
       "    </tr>\n",
       "    <tr>\n",
       "      <th>...</th>\n",
       "      <td>...</td>\n",
       "      <td>...</td>\n",
       "      <td>...</td>\n",
       "      <td>...</td>\n",
       "      <td>...</td>\n",
       "      <td>...</td>\n",
       "      <td>...</td>\n",
       "      <td>...</td>\n",
       "      <td>...</td>\n",
       "      <td>...</td>\n",
       "    </tr>\n",
       "    <tr>\n",
       "      <th>8067680</th>\n",
       "      <td>2019Q4</td>\n",
       "      <td>311</td>\n",
       "      <td>30</td>\n",
       "      <td>19130.0</td>\n",
       "      <td>2</td>\n",
       "      <td>1</td>\n",
       "      <td>21</td>\n",
       "      <td>109</td>\n",
       "      <td>638</td>\n",
       "      <td>9</td>\n",
       "    </tr>\n",
       "    <tr>\n",
       "      <th>8067681</th>\n",
       "      <td>2019Q4</td>\n",
       "      <td>194</td>\n",
       "      <td>6795</td>\n",
       "      <td>1147.0</td>\n",
       "      <td>1</td>\n",
       "      <td>1</td>\n",
       "      <td>9</td>\n",
       "      <td>178</td>\n",
       "      <td>1179</td>\n",
       "      <td>2217</td>\n",
       "    </tr>\n",
       "    <tr>\n",
       "      <th>8067682</th>\n",
       "      <td>2019Q4</td>\n",
       "      <td>64</td>\n",
       "      <td>2471</td>\n",
       "      <td>1075.0</td>\n",
       "      <td>1</td>\n",
       "      <td>1</td>\n",
       "      <td>21</td>\n",
       "      <td>78</td>\n",
       "      <td>427</td>\n",
       "      <td>826</td>\n",
       "    </tr>\n",
       "    <tr>\n",
       "      <th>8067683</th>\n",
       "      <td>2019Q4</td>\n",
       "      <td>311</td>\n",
       "      <td>46</td>\n",
       "      <td>1655.0</td>\n",
       "      <td>1</td>\n",
       "      <td>1</td>\n",
       "      <td>21</td>\n",
       "      <td>39</td>\n",
       "      <td>4</td>\n",
       "      <td>18</td>\n",
       "    </tr>\n",
       "    <tr>\n",
       "      <th>8067684</th>\n",
       "      <td>2019Q4</td>\n",
       "      <td>194</td>\n",
       "      <td>6776</td>\n",
       "      <td>1647.0</td>\n",
       "      <td>1</td>\n",
       "      <td>1</td>\n",
       "      <td>9</td>\n",
       "      <td>178</td>\n",
       "      <td>1174</td>\n",
       "      <td>2212</td>\n",
       "    </tr>\n",
       "  </tbody>\n",
       "</table>\n",
       "<p>8067685 rows × 10 columns</p>\n",
       "</div>"
      ],
      "text/plain": [
       "        Quarter  POS_ID  ProductPackSKU_ID  Total_Value  Total_Units  \\\n",
       "0        2016Q1     359               4835     379062.0          599   \n",
       "1        2016Q1     410                754     228068.0          490   \n",
       "2        2016Q1     208               4835     217423.0          311   \n",
       "3        2016Q1     355               4835     191877.0          283   \n",
       "4        2016Q1     239                755     295200.0          675   \n",
       "...         ...     ...                ...          ...          ...   \n",
       "8067680  2019Q4     311                 30      19130.0            2   \n",
       "8067681  2019Q4     194               6795       1147.0            1   \n",
       "8067682  2019Q4      64               2471       1075.0            1   \n",
       "8067683  2019Q4     311                 46       1655.0            1   \n",
       "8067684  2019Q4     194               6776       1647.0            1   \n",
       "\n",
       "         Purchased_Units  ProductFamily_ID  ProductCategory_ID  \\\n",
       "0                    112                15                   3   \n",
       "1                    106                 9                 178   \n",
       "2                    102                15                   3   \n",
       "3                    101                15                   3   \n",
       "4                    100                 9                 178   \n",
       "...                  ...               ...                 ...   \n",
       "8067680                1                21                 109   \n",
       "8067681                1                 9                 178   \n",
       "8067682                1                21                  78   \n",
       "8067683                1                21                  39   \n",
       "8067684                1                 9                 178   \n",
       "\n",
       "         ProductBrand_ID  ProductName_ID  \n",
       "0                    828            1581  \n",
       "1                    127             231  \n",
       "2                    828            1581  \n",
       "3                    828            1581  \n",
       "4                    127             231  \n",
       "...                  ...             ...  \n",
       "8067680              638               9  \n",
       "8067681             1179            2217  \n",
       "8067682              427             826  \n",
       "8067683                4              18  \n",
       "8067684             1174            2212  \n",
       "\n",
       "[8067685 rows x 10 columns]"
      ]
     },
     "execution_count": 73,
     "metadata": {},
     "output_type": "execute_result"
    }
   ],
   "source": [
    "df"
   ]
  },
  {
   "cell_type": "code",
   "execution_count": 218,
   "metadata": {
    "scrolled": true
   },
   "outputs": [
    {
     "data": {
      "text/html": [
       "<div>\n",
       "<style scoped>\n",
       "    .dataframe tbody tr th:only-of-type {\n",
       "        vertical-align: middle;\n",
       "    }\n",
       "\n",
       "    .dataframe tbody tr th {\n",
       "        vertical-align: top;\n",
       "    }\n",
       "\n",
       "    .dataframe thead th {\n",
       "        text-align: right;\n",
       "    }\n",
       "</style>\n",
       "<table border=\"1\" class=\"dataframe\">\n",
       "  <thead>\n",
       "    <tr style=\"text-align: right;\">\n",
       "      <th></th>\n",
       "      <th>Total_Value</th>\n",
       "      <th>Total_Units</th>\n",
       "      <th>ProductFamily_ID</th>\n",
       "      <th>ProductBrand_ID</th>\n",
       "      <th>ProductName_ID</th>\n",
       "    </tr>\n",
       "    <tr>\n",
       "      <th>POS_ID</th>\n",
       "      <th></th>\n",
       "      <th></th>\n",
       "      <th></th>\n",
       "      <th></th>\n",
       "      <th></th>\n",
       "    </tr>\n",
       "  </thead>\n",
       "  <tbody>\n",
       "    <tr>\n",
       "      <th>1</th>\n",
       "      <td>978670349.77</td>\n",
       "      <td>609151</td>\n",
       "      <td>21</td>\n",
       "      <td>1472</td>\n",
       "      <td>1228</td>\n",
       "    </tr>\n",
       "    <tr>\n",
       "      <th>2</th>\n",
       "      <td>635534919.91</td>\n",
       "      <td>390484</td>\n",
       "      <td>12</td>\n",
       "      <td>133</td>\n",
       "      <td>253</td>\n",
       "    </tr>\n",
       "    <tr>\n",
       "      <th>3</th>\n",
       "      <td>1048120296.56</td>\n",
       "      <td>602120</td>\n",
       "      <td>21</td>\n",
       "      <td>1472</td>\n",
       "      <td>253</td>\n",
       "    </tr>\n",
       "    <tr>\n",
       "      <th>4</th>\n",
       "      <td>1261300284.63</td>\n",
       "      <td>797480</td>\n",
       "      <td>21</td>\n",
       "      <td>1472</td>\n",
       "      <td>253</td>\n",
       "    </tr>\n",
       "    <tr>\n",
       "      <th>5</th>\n",
       "      <td>668177864.75</td>\n",
       "      <td>423022</td>\n",
       "      <td>21</td>\n",
       "      <td>1472</td>\n",
       "      <td>253</td>\n",
       "    </tr>\n",
       "    <tr>\n",
       "      <th>...</th>\n",
       "      <td>...</td>\n",
       "      <td>...</td>\n",
       "      <td>...</td>\n",
       "      <td>...</td>\n",
       "      <td>...</td>\n",
       "    </tr>\n",
       "    <tr>\n",
       "      <th>406</th>\n",
       "      <td>786755352.91</td>\n",
       "      <td>494233</td>\n",
       "      <td>21</td>\n",
       "      <td>427</td>\n",
       "      <td>253</td>\n",
       "    </tr>\n",
       "    <tr>\n",
       "      <th>407</th>\n",
       "      <td>1264066725.27</td>\n",
       "      <td>784910</td>\n",
       "      <td>21</td>\n",
       "      <td>427</td>\n",
       "      <td>253</td>\n",
       "    </tr>\n",
       "    <tr>\n",
       "      <th>408</th>\n",
       "      <td>707863405.60</td>\n",
       "      <td>456295</td>\n",
       "      <td>21</td>\n",
       "      <td>174</td>\n",
       "      <td>253</td>\n",
       "    </tr>\n",
       "    <tr>\n",
       "      <th>409</th>\n",
       "      <td>719256086.46</td>\n",
       "      <td>445346</td>\n",
       "      <td>21</td>\n",
       "      <td>427</td>\n",
       "      <td>253</td>\n",
       "    </tr>\n",
       "    <tr>\n",
       "      <th>410</th>\n",
       "      <td>1362467257.46</td>\n",
       "      <td>868698</td>\n",
       "      <td>21</td>\n",
       "      <td>668</td>\n",
       "      <td>253</td>\n",
       "    </tr>\n",
       "  </tbody>\n",
       "</table>\n",
       "<p>410 rows × 5 columns</p>\n",
       "</div>"
      ],
      "text/plain": [
       "         Total_Value  Total_Units  ProductFamily_ID  ProductBrand_ID  \\\n",
       "POS_ID                                                                 \n",
       "1       978670349.77       609151                21             1472   \n",
       "2       635534919.91       390484                12              133   \n",
       "3      1048120296.56       602120                21             1472   \n",
       "4      1261300284.63       797480                21             1472   \n",
       "5       668177864.75       423022                21             1472   \n",
       "...              ...          ...               ...              ...   \n",
       "406     786755352.91       494233                21              427   \n",
       "407    1264066725.27       784910                21              427   \n",
       "408     707863405.60       456295                21              174   \n",
       "409     719256086.46       445346                21              427   \n",
       "410    1362467257.46       868698                21              668   \n",
       "\n",
       "        ProductName_ID  \n",
       "POS_ID                  \n",
       "1                 1228  \n",
       "2                  253  \n",
       "3                  253  \n",
       "4                  253  \n",
       "5                  253  \n",
       "...                ...  \n",
       "406                253  \n",
       "407                253  \n",
       "408                253  \n",
       "409                253  \n",
       "410                253  \n",
       "\n",
       "[410 rows x 5 columns]"
      ]
     },
     "execution_count": 218,
     "metadata": {},
     "output_type": "execute_result"
    }
   ],
   "source": [
    "# Getting the number 1 (mode) of the 3 categorical features\n",
    "clus = df.groupby(['POS_ID']).agg({'Total_Value': 'sum','Total_Units':'sum',\\\n",
    "                                   'ProductFamily_ID': (lambda x: x.value_counts().index[0]),\\\n",
    "                                   'ProductBrand_ID': (lambda x: x.value_counts().index[0]),\\\n",
    "                                   'ProductName_ID': (lambda x: x.value_counts().index[0])})\n",
    "clus"
   ]
  },
  {
   "cell_type": "code",
   "execution_count": 219,
   "metadata": {},
   "outputs": [],
   "source": [
    "# ProductCategory didn´t work out because all stores had the same Top 1 most popular category: \"178\""
   ]
  },
  {
   "cell_type": "code",
   "execution_count": 220,
   "metadata": {},
   "outputs": [
    {
     "data": {
      "text/plain": [
       "253     370\n",
       "1228     13\n",
       "126      11\n",
       "2646      7\n",
       "1422      5\n",
       "1060      3\n",
       "1287      1\n",
       "Name: ProductName_ID, dtype: int64"
      ]
     },
     "execution_count": 220,
     "metadata": {},
     "output_type": "execute_result"
    }
   ],
   "source": [
    "# Others have different behaviours\n",
    "clus.ProductName_ID.value_counts()"
   ]
  },
  {
   "cell_type": "code",
   "execution_count": 144,
   "metadata": {
    "scrolled": true
   },
   "outputs": [
    {
     "data": {
      "text/html": [
       "<style  type=\"text/css\" >\n",
       "#T_1a09e8ba_b989_11eb_9328_04d3b00faf86row11_col1{\n",
       "            background-color:  lightgreen;\n",
       "        }</style><table id=\"T_1a09e8ba_b989_11eb_9328_04d3b00faf86\" ><thead>    <tr>        <th class=\"blank level0\" ></th>        <th class=\"col_heading level0 col0\" >Description</th>        <th class=\"col_heading level0 col1\" >Value</th>    </tr></thead><tbody>\n",
       "                <tr>\n",
       "                        <th id=\"T_1a09e8ba_b989_11eb_9328_04d3b00faf86level0_row0\" class=\"row_heading level0 row0\" >0</th>\n",
       "                        <td id=\"T_1a09e8ba_b989_11eb_9328_04d3b00faf86row0_col0\" class=\"data row0 col0\" >session_id</td>\n",
       "                        <td id=\"T_1a09e8ba_b989_11eb_9328_04d3b00faf86row0_col1\" class=\"data row0 col1\" >123</td>\n",
       "            </tr>\n",
       "            <tr>\n",
       "                        <th id=\"T_1a09e8ba_b989_11eb_9328_04d3b00faf86level0_row1\" class=\"row_heading level0 row1\" >1</th>\n",
       "                        <td id=\"T_1a09e8ba_b989_11eb_9328_04d3b00faf86row1_col0\" class=\"data row1 col0\" >Original Data</td>\n",
       "                        <td id=\"T_1a09e8ba_b989_11eb_9328_04d3b00faf86row1_col1\" class=\"data row1 col1\" >(410, 5)</td>\n",
       "            </tr>\n",
       "            <tr>\n",
       "                        <th id=\"T_1a09e8ba_b989_11eb_9328_04d3b00faf86level0_row2\" class=\"row_heading level0 row2\" >2</th>\n",
       "                        <td id=\"T_1a09e8ba_b989_11eb_9328_04d3b00faf86row2_col0\" class=\"data row2 col0\" >Missing Values</td>\n",
       "                        <td id=\"T_1a09e8ba_b989_11eb_9328_04d3b00faf86row2_col1\" class=\"data row2 col1\" >False</td>\n",
       "            </tr>\n",
       "            <tr>\n",
       "                        <th id=\"T_1a09e8ba_b989_11eb_9328_04d3b00faf86level0_row3\" class=\"row_heading level0 row3\" >3</th>\n",
       "                        <td id=\"T_1a09e8ba_b989_11eb_9328_04d3b00faf86row3_col0\" class=\"data row3 col0\" >Numeric Features</td>\n",
       "                        <td id=\"T_1a09e8ba_b989_11eb_9328_04d3b00faf86row3_col1\" class=\"data row3 col1\" >2</td>\n",
       "            </tr>\n",
       "            <tr>\n",
       "                        <th id=\"T_1a09e8ba_b989_11eb_9328_04d3b00faf86level0_row4\" class=\"row_heading level0 row4\" >4</th>\n",
       "                        <td id=\"T_1a09e8ba_b989_11eb_9328_04d3b00faf86row4_col0\" class=\"data row4 col0\" >Categorical Features</td>\n",
       "                        <td id=\"T_1a09e8ba_b989_11eb_9328_04d3b00faf86row4_col1\" class=\"data row4 col1\" >3</td>\n",
       "            </tr>\n",
       "            <tr>\n",
       "                        <th id=\"T_1a09e8ba_b989_11eb_9328_04d3b00faf86level0_row5\" class=\"row_heading level0 row5\" >5</th>\n",
       "                        <td id=\"T_1a09e8ba_b989_11eb_9328_04d3b00faf86row5_col0\" class=\"data row5 col0\" >Ordinal Features</td>\n",
       "                        <td id=\"T_1a09e8ba_b989_11eb_9328_04d3b00faf86row5_col1\" class=\"data row5 col1\" >False</td>\n",
       "            </tr>\n",
       "            <tr>\n",
       "                        <th id=\"T_1a09e8ba_b989_11eb_9328_04d3b00faf86level0_row6\" class=\"row_heading level0 row6\" >6</th>\n",
       "                        <td id=\"T_1a09e8ba_b989_11eb_9328_04d3b00faf86row6_col0\" class=\"data row6 col0\" >High Cardinality Features</td>\n",
       "                        <td id=\"T_1a09e8ba_b989_11eb_9328_04d3b00faf86row6_col1\" class=\"data row6 col1\" >False</td>\n",
       "            </tr>\n",
       "            <tr>\n",
       "                        <th id=\"T_1a09e8ba_b989_11eb_9328_04d3b00faf86level0_row7\" class=\"row_heading level0 row7\" >7</th>\n",
       "                        <td id=\"T_1a09e8ba_b989_11eb_9328_04d3b00faf86row7_col0\" class=\"data row7 col0\" >High Cardinality Method</td>\n",
       "                        <td id=\"T_1a09e8ba_b989_11eb_9328_04d3b00faf86row7_col1\" class=\"data row7 col1\" >None</td>\n",
       "            </tr>\n",
       "            <tr>\n",
       "                        <th id=\"T_1a09e8ba_b989_11eb_9328_04d3b00faf86level0_row8\" class=\"row_heading level0 row8\" >8</th>\n",
       "                        <td id=\"T_1a09e8ba_b989_11eb_9328_04d3b00faf86row8_col0\" class=\"data row8 col0\" >Transformed Data</td>\n",
       "                        <td id=\"T_1a09e8ba_b989_11eb_9328_04d3b00faf86row8_col1\" class=\"data row8 col1\" >(410, 22)</td>\n",
       "            </tr>\n",
       "            <tr>\n",
       "                        <th id=\"T_1a09e8ba_b989_11eb_9328_04d3b00faf86level0_row9\" class=\"row_heading level0 row9\" >9</th>\n",
       "                        <td id=\"T_1a09e8ba_b989_11eb_9328_04d3b00faf86row9_col0\" class=\"data row9 col0\" >CPU Jobs</td>\n",
       "                        <td id=\"T_1a09e8ba_b989_11eb_9328_04d3b00faf86row9_col1\" class=\"data row9 col1\" >-1</td>\n",
       "            </tr>\n",
       "            <tr>\n",
       "                        <th id=\"T_1a09e8ba_b989_11eb_9328_04d3b00faf86level0_row10\" class=\"row_heading level0 row10\" >10</th>\n",
       "                        <td id=\"T_1a09e8ba_b989_11eb_9328_04d3b00faf86row10_col0\" class=\"data row10 col0\" >Use GPU</td>\n",
       "                        <td id=\"T_1a09e8ba_b989_11eb_9328_04d3b00faf86row10_col1\" class=\"data row10 col1\" >False</td>\n",
       "            </tr>\n",
       "            <tr>\n",
       "                        <th id=\"T_1a09e8ba_b989_11eb_9328_04d3b00faf86level0_row11\" class=\"row_heading level0 row11\" >11</th>\n",
       "                        <td id=\"T_1a09e8ba_b989_11eb_9328_04d3b00faf86row11_col0\" class=\"data row11 col0\" >Log Experiment</td>\n",
       "                        <td id=\"T_1a09e8ba_b989_11eb_9328_04d3b00faf86row11_col1\" class=\"data row11 col1\" >True</td>\n",
       "            </tr>\n",
       "            <tr>\n",
       "                        <th id=\"T_1a09e8ba_b989_11eb_9328_04d3b00faf86level0_row12\" class=\"row_heading level0 row12\" >12</th>\n",
       "                        <td id=\"T_1a09e8ba_b989_11eb_9328_04d3b00faf86row12_col0\" class=\"data row12 col0\" >Experiment Name</td>\n",
       "                        <td id=\"T_1a09e8ba_b989_11eb_9328_04d3b00faf86row12_col1\" class=\"data row12 col1\" >perspective1</td>\n",
       "            </tr>\n",
       "            <tr>\n",
       "                        <th id=\"T_1a09e8ba_b989_11eb_9328_04d3b00faf86level0_row13\" class=\"row_heading level0 row13\" >13</th>\n",
       "                        <td id=\"T_1a09e8ba_b989_11eb_9328_04d3b00faf86row13_col0\" class=\"data row13 col0\" >USI</td>\n",
       "                        <td id=\"T_1a09e8ba_b989_11eb_9328_04d3b00faf86row13_col1\" class=\"data row13 col1\" >e225</td>\n",
       "            </tr>\n",
       "            <tr>\n",
       "                        <th id=\"T_1a09e8ba_b989_11eb_9328_04d3b00faf86level0_row14\" class=\"row_heading level0 row14\" >14</th>\n",
       "                        <td id=\"T_1a09e8ba_b989_11eb_9328_04d3b00faf86row14_col0\" class=\"data row14 col0\" >Imputation Type</td>\n",
       "                        <td id=\"T_1a09e8ba_b989_11eb_9328_04d3b00faf86row14_col1\" class=\"data row14 col1\" >simple</td>\n",
       "            </tr>\n",
       "            <tr>\n",
       "                        <th id=\"T_1a09e8ba_b989_11eb_9328_04d3b00faf86level0_row15\" class=\"row_heading level0 row15\" >15</th>\n",
       "                        <td id=\"T_1a09e8ba_b989_11eb_9328_04d3b00faf86row15_col0\" class=\"data row15 col0\" >Iterative Imputation Iteration</td>\n",
       "                        <td id=\"T_1a09e8ba_b989_11eb_9328_04d3b00faf86row15_col1\" class=\"data row15 col1\" >None</td>\n",
       "            </tr>\n",
       "            <tr>\n",
       "                        <th id=\"T_1a09e8ba_b989_11eb_9328_04d3b00faf86level0_row16\" class=\"row_heading level0 row16\" >16</th>\n",
       "                        <td id=\"T_1a09e8ba_b989_11eb_9328_04d3b00faf86row16_col0\" class=\"data row16 col0\" >Numeric Imputer</td>\n",
       "                        <td id=\"T_1a09e8ba_b989_11eb_9328_04d3b00faf86row16_col1\" class=\"data row16 col1\" >mean</td>\n",
       "            </tr>\n",
       "            <tr>\n",
       "                        <th id=\"T_1a09e8ba_b989_11eb_9328_04d3b00faf86level0_row17\" class=\"row_heading level0 row17\" >17</th>\n",
       "                        <td id=\"T_1a09e8ba_b989_11eb_9328_04d3b00faf86row17_col0\" class=\"data row17 col0\" >Iterative Imputation Numeric Model</td>\n",
       "                        <td id=\"T_1a09e8ba_b989_11eb_9328_04d3b00faf86row17_col1\" class=\"data row17 col1\" >None</td>\n",
       "            </tr>\n",
       "            <tr>\n",
       "                        <th id=\"T_1a09e8ba_b989_11eb_9328_04d3b00faf86level0_row18\" class=\"row_heading level0 row18\" >18</th>\n",
       "                        <td id=\"T_1a09e8ba_b989_11eb_9328_04d3b00faf86row18_col0\" class=\"data row18 col0\" >Categorical Imputer</td>\n",
       "                        <td id=\"T_1a09e8ba_b989_11eb_9328_04d3b00faf86row18_col1\" class=\"data row18 col1\" >mode</td>\n",
       "            </tr>\n",
       "            <tr>\n",
       "                        <th id=\"T_1a09e8ba_b989_11eb_9328_04d3b00faf86level0_row19\" class=\"row_heading level0 row19\" >19</th>\n",
       "                        <td id=\"T_1a09e8ba_b989_11eb_9328_04d3b00faf86row19_col0\" class=\"data row19 col0\" >Iterative Imputation Categorical Model</td>\n",
       "                        <td id=\"T_1a09e8ba_b989_11eb_9328_04d3b00faf86row19_col1\" class=\"data row19 col1\" >None</td>\n",
       "            </tr>\n",
       "            <tr>\n",
       "                        <th id=\"T_1a09e8ba_b989_11eb_9328_04d3b00faf86level0_row20\" class=\"row_heading level0 row20\" >20</th>\n",
       "                        <td id=\"T_1a09e8ba_b989_11eb_9328_04d3b00faf86row20_col0\" class=\"data row20 col0\" >Unknown Categoricals Handling</td>\n",
       "                        <td id=\"T_1a09e8ba_b989_11eb_9328_04d3b00faf86row20_col1\" class=\"data row20 col1\" >least_frequent</td>\n",
       "            </tr>\n",
       "            <tr>\n",
       "                        <th id=\"T_1a09e8ba_b989_11eb_9328_04d3b00faf86level0_row21\" class=\"row_heading level0 row21\" >21</th>\n",
       "                        <td id=\"T_1a09e8ba_b989_11eb_9328_04d3b00faf86row21_col0\" class=\"data row21 col0\" >Normalize</td>\n",
       "                        <td id=\"T_1a09e8ba_b989_11eb_9328_04d3b00faf86row21_col1\" class=\"data row21 col1\" >False</td>\n",
       "            </tr>\n",
       "            <tr>\n",
       "                        <th id=\"T_1a09e8ba_b989_11eb_9328_04d3b00faf86level0_row22\" class=\"row_heading level0 row22\" >22</th>\n",
       "                        <td id=\"T_1a09e8ba_b989_11eb_9328_04d3b00faf86row22_col0\" class=\"data row22 col0\" >Normalize Method</td>\n",
       "                        <td id=\"T_1a09e8ba_b989_11eb_9328_04d3b00faf86row22_col1\" class=\"data row22 col1\" >None</td>\n",
       "            </tr>\n",
       "            <tr>\n",
       "                        <th id=\"T_1a09e8ba_b989_11eb_9328_04d3b00faf86level0_row23\" class=\"row_heading level0 row23\" >23</th>\n",
       "                        <td id=\"T_1a09e8ba_b989_11eb_9328_04d3b00faf86row23_col0\" class=\"data row23 col0\" >Transformation</td>\n",
       "                        <td id=\"T_1a09e8ba_b989_11eb_9328_04d3b00faf86row23_col1\" class=\"data row23 col1\" >False</td>\n",
       "            </tr>\n",
       "            <tr>\n",
       "                        <th id=\"T_1a09e8ba_b989_11eb_9328_04d3b00faf86level0_row24\" class=\"row_heading level0 row24\" >24</th>\n",
       "                        <td id=\"T_1a09e8ba_b989_11eb_9328_04d3b00faf86row24_col0\" class=\"data row24 col0\" >Transformation Method</td>\n",
       "                        <td id=\"T_1a09e8ba_b989_11eb_9328_04d3b00faf86row24_col1\" class=\"data row24 col1\" >None</td>\n",
       "            </tr>\n",
       "            <tr>\n",
       "                        <th id=\"T_1a09e8ba_b989_11eb_9328_04d3b00faf86level0_row25\" class=\"row_heading level0 row25\" >25</th>\n",
       "                        <td id=\"T_1a09e8ba_b989_11eb_9328_04d3b00faf86row25_col0\" class=\"data row25 col0\" >PCA</td>\n",
       "                        <td id=\"T_1a09e8ba_b989_11eb_9328_04d3b00faf86row25_col1\" class=\"data row25 col1\" >False</td>\n",
       "            </tr>\n",
       "            <tr>\n",
       "                        <th id=\"T_1a09e8ba_b989_11eb_9328_04d3b00faf86level0_row26\" class=\"row_heading level0 row26\" >26</th>\n",
       "                        <td id=\"T_1a09e8ba_b989_11eb_9328_04d3b00faf86row26_col0\" class=\"data row26 col0\" >PCA Method</td>\n",
       "                        <td id=\"T_1a09e8ba_b989_11eb_9328_04d3b00faf86row26_col1\" class=\"data row26 col1\" >None</td>\n",
       "            </tr>\n",
       "            <tr>\n",
       "                        <th id=\"T_1a09e8ba_b989_11eb_9328_04d3b00faf86level0_row27\" class=\"row_heading level0 row27\" >27</th>\n",
       "                        <td id=\"T_1a09e8ba_b989_11eb_9328_04d3b00faf86row27_col0\" class=\"data row27 col0\" >PCA Components</td>\n",
       "                        <td id=\"T_1a09e8ba_b989_11eb_9328_04d3b00faf86row27_col1\" class=\"data row27 col1\" >None</td>\n",
       "            </tr>\n",
       "            <tr>\n",
       "                        <th id=\"T_1a09e8ba_b989_11eb_9328_04d3b00faf86level0_row28\" class=\"row_heading level0 row28\" >28</th>\n",
       "                        <td id=\"T_1a09e8ba_b989_11eb_9328_04d3b00faf86row28_col0\" class=\"data row28 col0\" >Ignore Low Variance</td>\n",
       "                        <td id=\"T_1a09e8ba_b989_11eb_9328_04d3b00faf86row28_col1\" class=\"data row28 col1\" >False</td>\n",
       "            </tr>\n",
       "            <tr>\n",
       "                        <th id=\"T_1a09e8ba_b989_11eb_9328_04d3b00faf86level0_row29\" class=\"row_heading level0 row29\" >29</th>\n",
       "                        <td id=\"T_1a09e8ba_b989_11eb_9328_04d3b00faf86row29_col0\" class=\"data row29 col0\" >Combine Rare Levels</td>\n",
       "                        <td id=\"T_1a09e8ba_b989_11eb_9328_04d3b00faf86row29_col1\" class=\"data row29 col1\" >False</td>\n",
       "            </tr>\n",
       "            <tr>\n",
       "                        <th id=\"T_1a09e8ba_b989_11eb_9328_04d3b00faf86level0_row30\" class=\"row_heading level0 row30\" >30</th>\n",
       "                        <td id=\"T_1a09e8ba_b989_11eb_9328_04d3b00faf86row30_col0\" class=\"data row30 col0\" >Rare Level Threshold</td>\n",
       "                        <td id=\"T_1a09e8ba_b989_11eb_9328_04d3b00faf86row30_col1\" class=\"data row30 col1\" >None</td>\n",
       "            </tr>\n",
       "            <tr>\n",
       "                        <th id=\"T_1a09e8ba_b989_11eb_9328_04d3b00faf86level0_row31\" class=\"row_heading level0 row31\" >31</th>\n",
       "                        <td id=\"T_1a09e8ba_b989_11eb_9328_04d3b00faf86row31_col0\" class=\"data row31 col0\" >Numeric Binning</td>\n",
       "                        <td id=\"T_1a09e8ba_b989_11eb_9328_04d3b00faf86row31_col1\" class=\"data row31 col1\" >False</td>\n",
       "            </tr>\n",
       "            <tr>\n",
       "                        <th id=\"T_1a09e8ba_b989_11eb_9328_04d3b00faf86level0_row32\" class=\"row_heading level0 row32\" >32</th>\n",
       "                        <td id=\"T_1a09e8ba_b989_11eb_9328_04d3b00faf86row32_col0\" class=\"data row32 col0\" >Remove Outliers</td>\n",
       "                        <td id=\"T_1a09e8ba_b989_11eb_9328_04d3b00faf86row32_col1\" class=\"data row32 col1\" >False</td>\n",
       "            </tr>\n",
       "            <tr>\n",
       "                        <th id=\"T_1a09e8ba_b989_11eb_9328_04d3b00faf86level0_row33\" class=\"row_heading level0 row33\" >33</th>\n",
       "                        <td id=\"T_1a09e8ba_b989_11eb_9328_04d3b00faf86row33_col0\" class=\"data row33 col0\" >Outliers Threshold</td>\n",
       "                        <td id=\"T_1a09e8ba_b989_11eb_9328_04d3b00faf86row33_col1\" class=\"data row33 col1\" >None</td>\n",
       "            </tr>\n",
       "            <tr>\n",
       "                        <th id=\"T_1a09e8ba_b989_11eb_9328_04d3b00faf86level0_row34\" class=\"row_heading level0 row34\" >34</th>\n",
       "                        <td id=\"T_1a09e8ba_b989_11eb_9328_04d3b00faf86row34_col0\" class=\"data row34 col0\" >Remove Multicollinearity</td>\n",
       "                        <td id=\"T_1a09e8ba_b989_11eb_9328_04d3b00faf86row34_col1\" class=\"data row34 col1\" >False</td>\n",
       "            </tr>\n",
       "            <tr>\n",
       "                        <th id=\"T_1a09e8ba_b989_11eb_9328_04d3b00faf86level0_row35\" class=\"row_heading level0 row35\" >35</th>\n",
       "                        <td id=\"T_1a09e8ba_b989_11eb_9328_04d3b00faf86row35_col0\" class=\"data row35 col0\" >Multicollinearity Threshold</td>\n",
       "                        <td id=\"T_1a09e8ba_b989_11eb_9328_04d3b00faf86row35_col1\" class=\"data row35 col1\" >None</td>\n",
       "            </tr>\n",
       "            <tr>\n",
       "                        <th id=\"T_1a09e8ba_b989_11eb_9328_04d3b00faf86level0_row36\" class=\"row_heading level0 row36\" >36</th>\n",
       "                        <td id=\"T_1a09e8ba_b989_11eb_9328_04d3b00faf86row36_col0\" class=\"data row36 col0\" >Clustering</td>\n",
       "                        <td id=\"T_1a09e8ba_b989_11eb_9328_04d3b00faf86row36_col1\" class=\"data row36 col1\" >False</td>\n",
       "            </tr>\n",
       "            <tr>\n",
       "                        <th id=\"T_1a09e8ba_b989_11eb_9328_04d3b00faf86level0_row37\" class=\"row_heading level0 row37\" >37</th>\n",
       "                        <td id=\"T_1a09e8ba_b989_11eb_9328_04d3b00faf86row37_col0\" class=\"data row37 col0\" >Clustering Iteration</td>\n",
       "                        <td id=\"T_1a09e8ba_b989_11eb_9328_04d3b00faf86row37_col1\" class=\"data row37 col1\" >None</td>\n",
       "            </tr>\n",
       "            <tr>\n",
       "                        <th id=\"T_1a09e8ba_b989_11eb_9328_04d3b00faf86level0_row38\" class=\"row_heading level0 row38\" >38</th>\n",
       "                        <td id=\"T_1a09e8ba_b989_11eb_9328_04d3b00faf86row38_col0\" class=\"data row38 col0\" >Polynomial Features</td>\n",
       "                        <td id=\"T_1a09e8ba_b989_11eb_9328_04d3b00faf86row38_col1\" class=\"data row38 col1\" >False</td>\n",
       "            </tr>\n",
       "            <tr>\n",
       "                        <th id=\"T_1a09e8ba_b989_11eb_9328_04d3b00faf86level0_row39\" class=\"row_heading level0 row39\" >39</th>\n",
       "                        <td id=\"T_1a09e8ba_b989_11eb_9328_04d3b00faf86row39_col0\" class=\"data row39 col0\" >Polynomial Degree</td>\n",
       "                        <td id=\"T_1a09e8ba_b989_11eb_9328_04d3b00faf86row39_col1\" class=\"data row39 col1\" >None</td>\n",
       "            </tr>\n",
       "            <tr>\n",
       "                        <th id=\"T_1a09e8ba_b989_11eb_9328_04d3b00faf86level0_row40\" class=\"row_heading level0 row40\" >40</th>\n",
       "                        <td id=\"T_1a09e8ba_b989_11eb_9328_04d3b00faf86row40_col0\" class=\"data row40 col0\" >Trignometry Features</td>\n",
       "                        <td id=\"T_1a09e8ba_b989_11eb_9328_04d3b00faf86row40_col1\" class=\"data row40 col1\" >False</td>\n",
       "            </tr>\n",
       "            <tr>\n",
       "                        <th id=\"T_1a09e8ba_b989_11eb_9328_04d3b00faf86level0_row41\" class=\"row_heading level0 row41\" >41</th>\n",
       "                        <td id=\"T_1a09e8ba_b989_11eb_9328_04d3b00faf86row41_col0\" class=\"data row41 col0\" >Polynomial Threshold</td>\n",
       "                        <td id=\"T_1a09e8ba_b989_11eb_9328_04d3b00faf86row41_col1\" class=\"data row41 col1\" >None</td>\n",
       "            </tr>\n",
       "            <tr>\n",
       "                        <th id=\"T_1a09e8ba_b989_11eb_9328_04d3b00faf86level0_row42\" class=\"row_heading level0 row42\" >42</th>\n",
       "                        <td id=\"T_1a09e8ba_b989_11eb_9328_04d3b00faf86row42_col0\" class=\"data row42 col0\" >Group Features</td>\n",
       "                        <td id=\"T_1a09e8ba_b989_11eb_9328_04d3b00faf86row42_col1\" class=\"data row42 col1\" >False</td>\n",
       "            </tr>\n",
       "            <tr>\n",
       "                        <th id=\"T_1a09e8ba_b989_11eb_9328_04d3b00faf86level0_row43\" class=\"row_heading level0 row43\" >43</th>\n",
       "                        <td id=\"T_1a09e8ba_b989_11eb_9328_04d3b00faf86row43_col0\" class=\"data row43 col0\" >Feature Selection</td>\n",
       "                        <td id=\"T_1a09e8ba_b989_11eb_9328_04d3b00faf86row43_col1\" class=\"data row43 col1\" >False</td>\n",
       "            </tr>\n",
       "            <tr>\n",
       "                        <th id=\"T_1a09e8ba_b989_11eb_9328_04d3b00faf86level0_row44\" class=\"row_heading level0 row44\" >44</th>\n",
       "                        <td id=\"T_1a09e8ba_b989_11eb_9328_04d3b00faf86row44_col0\" class=\"data row44 col0\" >Feature Selection Method</td>\n",
       "                        <td id=\"T_1a09e8ba_b989_11eb_9328_04d3b00faf86row44_col1\" class=\"data row44 col1\" >classic</td>\n",
       "            </tr>\n",
       "            <tr>\n",
       "                        <th id=\"T_1a09e8ba_b989_11eb_9328_04d3b00faf86level0_row45\" class=\"row_heading level0 row45\" >45</th>\n",
       "                        <td id=\"T_1a09e8ba_b989_11eb_9328_04d3b00faf86row45_col0\" class=\"data row45 col0\" >Features Selection Threshold</td>\n",
       "                        <td id=\"T_1a09e8ba_b989_11eb_9328_04d3b00faf86row45_col1\" class=\"data row45 col1\" >None</td>\n",
       "            </tr>\n",
       "            <tr>\n",
       "                        <th id=\"T_1a09e8ba_b989_11eb_9328_04d3b00faf86level0_row46\" class=\"row_heading level0 row46\" >46</th>\n",
       "                        <td id=\"T_1a09e8ba_b989_11eb_9328_04d3b00faf86row46_col0\" class=\"data row46 col0\" >Feature Interaction</td>\n",
       "                        <td id=\"T_1a09e8ba_b989_11eb_9328_04d3b00faf86row46_col1\" class=\"data row46 col1\" >False</td>\n",
       "            </tr>\n",
       "            <tr>\n",
       "                        <th id=\"T_1a09e8ba_b989_11eb_9328_04d3b00faf86level0_row47\" class=\"row_heading level0 row47\" >47</th>\n",
       "                        <td id=\"T_1a09e8ba_b989_11eb_9328_04d3b00faf86row47_col0\" class=\"data row47 col0\" >Feature Ratio</td>\n",
       "                        <td id=\"T_1a09e8ba_b989_11eb_9328_04d3b00faf86row47_col1\" class=\"data row47 col1\" >False</td>\n",
       "            </tr>\n",
       "            <tr>\n",
       "                        <th id=\"T_1a09e8ba_b989_11eb_9328_04d3b00faf86level0_row48\" class=\"row_heading level0 row48\" >48</th>\n",
       "                        <td id=\"T_1a09e8ba_b989_11eb_9328_04d3b00faf86row48_col0\" class=\"data row48 col0\" >Interaction Threshold</td>\n",
       "                        <td id=\"T_1a09e8ba_b989_11eb_9328_04d3b00faf86row48_col1\" class=\"data row48 col1\" >None</td>\n",
       "            </tr>\n",
       "    </tbody></table>"
      ],
      "text/plain": [
       "<pandas.io.formats.style.Styler at 0x1575c8f78d0>"
      ]
     },
     "metadata": {},
     "output_type": "display_data"
    }
   ],
   "source": [
    "# Setting up using pycaret. \n",
    "# This library automatically produces preprocessing steps, checking for high cardinality,\n",
    "# Missing values, and encodes the categorical data\n",
    "\n",
    "clu_set = setup(clus, session_id=123, log_experiment=True, log_plots = True, \n",
    "             experiment_name='perspective1')"
   ]
  },
  {
   "cell_type": "code",
   "execution_count": 222,
   "metadata": {
    "scrolled": false
   },
   "outputs": [],
   "source": [
    "# Testing different models from pycaret clustering library"
   ]
  },
  {
   "cell_type": "code",
   "execution_count": 146,
   "metadata": {
    "scrolled": false
   },
   "outputs": [
    {
     "data": {
      "text/html": [
       "<div>\n",
       "<style scoped>\n",
       "    .dataframe tbody tr th:only-of-type {\n",
       "        vertical-align: middle;\n",
       "    }\n",
       "\n",
       "    .dataframe tbody tr th {\n",
       "        vertical-align: top;\n",
       "    }\n",
       "\n",
       "    .dataframe thead th {\n",
       "        text-align: right;\n",
       "    }\n",
       "</style>\n",
       "<table border=\"1\" class=\"dataframe\">\n",
       "  <thead>\n",
       "    <tr style=\"text-align: right;\">\n",
       "      <th></th>\n",
       "      <th>Silhouette</th>\n",
       "      <th>Calinski-Harabasz</th>\n",
       "      <th>Davies-Bouldin</th>\n",
       "      <th>Homogeneity</th>\n",
       "      <th>Rand Index</th>\n",
       "      <th>Completeness</th>\n",
       "    </tr>\n",
       "  </thead>\n",
       "  <tbody>\n",
       "    <tr>\n",
       "      <th>0</th>\n",
       "      <td>0.5445</td>\n",
       "      <td>1356.6451</td>\n",
       "      <td>0.5039</td>\n",
       "      <td>0</td>\n",
       "      <td>0</td>\n",
       "      <td>0</td>\n",
       "    </tr>\n",
       "  </tbody>\n",
       "</table>\n",
       "</div>"
      ],
      "text/plain": [
       "   Silhouette  Calinski-Harabasz  Davies-Bouldin  Homogeneity  Rand Index  \\\n",
       "0      0.5445          1356.6451          0.5039            0           0   \n",
       "\n",
       "   Completeness  \n",
       "0             0  "
      ]
     },
     "metadata": {},
     "output_type": "display_data"
    }
   ],
   "source": [
    "kmeans = create_model('kmeans', num_clusters = 5)"
   ]
  },
  {
   "cell_type": "code",
   "execution_count": 147,
   "metadata": {
    "scrolled": false
   },
   "outputs": [
    {
     "data": {
      "text/html": [
       "<div>\n",
       "<style scoped>\n",
       "    .dataframe tbody tr th:only-of-type {\n",
       "        vertical-align: middle;\n",
       "    }\n",
       "\n",
       "    .dataframe tbody tr th {\n",
       "        vertical-align: top;\n",
       "    }\n",
       "\n",
       "    .dataframe thead th {\n",
       "        text-align: right;\n",
       "    }\n",
       "</style>\n",
       "<table border=\"1\" class=\"dataframe\">\n",
       "  <thead>\n",
       "    <tr style=\"text-align: right;\">\n",
       "      <th></th>\n",
       "      <th>Silhouette</th>\n",
       "      <th>Calinski-Harabasz</th>\n",
       "      <th>Davies-Bouldin</th>\n",
       "      <th>Homogeneity</th>\n",
       "      <th>Rand Index</th>\n",
       "      <th>Completeness</th>\n",
       "    </tr>\n",
       "  </thead>\n",
       "  <tbody>\n",
       "    <tr>\n",
       "      <th>0</th>\n",
       "      <td>-0.2147</td>\n",
       "      <td>9.4065</td>\n",
       "      <td>2.831</td>\n",
       "      <td>0</td>\n",
       "      <td>0</td>\n",
       "      <td>0</td>\n",
       "    </tr>\n",
       "  </tbody>\n",
       "</table>\n",
       "</div>"
      ],
      "text/plain": [
       "   Silhouette  Calinski-Harabasz  Davies-Bouldin  Homogeneity  Rand Index  \\\n",
       "0     -0.2147             9.4065           2.831            0           0   \n",
       "\n",
       "   Completeness  \n",
       "0             0  "
      ]
     },
     "metadata": {},
     "output_type": "display_data"
    }
   ],
   "source": [
    "kmodes = create_model('kmodes', num_clusters = 4)"
   ]
  },
  {
   "cell_type": "code",
   "execution_count": 148,
   "metadata": {
    "scrolled": true
   },
   "outputs": [
    {
     "data": {
      "text/html": [
       "<div>\n",
       "<style scoped>\n",
       "    .dataframe tbody tr th:only-of-type {\n",
       "        vertical-align: middle;\n",
       "    }\n",
       "\n",
       "    .dataframe tbody tr th {\n",
       "        vertical-align: top;\n",
       "    }\n",
       "\n",
       "    .dataframe thead th {\n",
       "        text-align: right;\n",
       "    }\n",
       "</style>\n",
       "<table border=\"1\" class=\"dataframe\">\n",
       "  <thead>\n",
       "    <tr style=\"text-align: right;\">\n",
       "      <th></th>\n",
       "      <th>Silhouette</th>\n",
       "      <th>Calinski-Harabasz</th>\n",
       "      <th>Davies-Bouldin</th>\n",
       "      <th>Homogeneity</th>\n",
       "      <th>Rand Index</th>\n",
       "      <th>Completeness</th>\n",
       "    </tr>\n",
       "  </thead>\n",
       "  <tbody>\n",
       "    <tr>\n",
       "      <th>0</th>\n",
       "      <td>0.5151</td>\n",
       "      <td>991.2058</td>\n",
       "      <td>0.565</td>\n",
       "      <td>0</td>\n",
       "      <td>0</td>\n",
       "      <td>0</td>\n",
       "    </tr>\n",
       "  </tbody>\n",
       "</table>\n",
       "</div>"
      ],
      "text/plain": [
       "   Silhouette  Calinski-Harabasz  Davies-Bouldin  Homogeneity  Rand Index  \\\n",
       "0      0.5151           991.2058           0.565            0           0   \n",
       "\n",
       "   Completeness  \n",
       "0             0  "
      ]
     },
     "metadata": {},
     "output_type": "display_data"
    }
   ],
   "source": [
    "hclust = create_model('hclust', num_clusters = 4)"
   ]
  },
  {
   "cell_type": "code",
   "execution_count": null,
   "metadata": {},
   "outputs": [],
   "source": [
    "# after testing the best algorithms with 4 clusters, we proceed to check the elbow, distributions and silhouette"
   ]
  },
  {
   "cell_type": "code",
   "execution_count": 149,
   "metadata": {
    "scrolled": false
   },
   "outputs": [
    {
     "data": {
      "text/html": [
       "<div>\n",
       "<style scoped>\n",
       "    .dataframe tbody tr th:only-of-type {\n",
       "        vertical-align: middle;\n",
       "    }\n",
       "\n",
       "    .dataframe tbody tr th {\n",
       "        vertical-align: top;\n",
       "    }\n",
       "\n",
       "    .dataframe thead th {\n",
       "        text-align: right;\n",
       "    }\n",
       "</style>\n",
       "<table border=\"1\" class=\"dataframe\">\n",
       "  <thead>\n",
       "    <tr style=\"text-align: right;\">\n",
       "      <th></th>\n",
       "      <th>Total_Value</th>\n",
       "      <th>Total_Units</th>\n",
       "      <th>ProductFamily_ID</th>\n",
       "      <th>ProductBrand_ID</th>\n",
       "      <th>ProductName_ID</th>\n",
       "      <th>Cluster</th>\n",
       "    </tr>\n",
       "    <tr>\n",
       "      <th>POS_ID</th>\n",
       "      <th></th>\n",
       "      <th></th>\n",
       "      <th></th>\n",
       "      <th></th>\n",
       "      <th></th>\n",
       "      <th></th>\n",
       "    </tr>\n",
       "  </thead>\n",
       "  <tbody>\n",
       "    <tr>\n",
       "      <th>1</th>\n",
       "      <td>9.786703e+08</td>\n",
       "      <td>609151</td>\n",
       "      <td>21</td>\n",
       "      <td>1472</td>\n",
       "      <td>1228</td>\n",
       "      <td>Cluster 0</td>\n",
       "    </tr>\n",
       "    <tr>\n",
       "      <th>2</th>\n",
       "      <td>6.355349e+08</td>\n",
       "      <td>390484</td>\n",
       "      <td>12</td>\n",
       "      <td>133</td>\n",
       "      <td>253</td>\n",
       "      <td>Cluster 1</td>\n",
       "    </tr>\n",
       "    <tr>\n",
       "      <th>3</th>\n",
       "      <td>1.048120e+09</td>\n",
       "      <td>602120</td>\n",
       "      <td>21</td>\n",
       "      <td>1472</td>\n",
       "      <td>253</td>\n",
       "      <td>Cluster 0</td>\n",
       "    </tr>\n",
       "    <tr>\n",
       "      <th>4</th>\n",
       "      <td>1.261300e+09</td>\n",
       "      <td>797480</td>\n",
       "      <td>21</td>\n",
       "      <td>1472</td>\n",
       "      <td>253</td>\n",
       "      <td>Cluster 2</td>\n",
       "    </tr>\n",
       "    <tr>\n",
       "      <th>5</th>\n",
       "      <td>6.681779e+08</td>\n",
       "      <td>423022</td>\n",
       "      <td>21</td>\n",
       "      <td>1472</td>\n",
       "      <td>253</td>\n",
       "      <td>Cluster 1</td>\n",
       "    </tr>\n",
       "  </tbody>\n",
       "</table>\n",
       "</div>"
      ],
      "text/plain": [
       "         Total_Value  Total_Units  ProductFamily_ID  ProductBrand_ID  \\\n",
       "POS_ID                                                                 \n",
       "1       9.786703e+08       609151                21             1472   \n",
       "2       6.355349e+08       390484                12              133   \n",
       "3       1.048120e+09       602120                21             1472   \n",
       "4       1.261300e+09       797480                21             1472   \n",
       "5       6.681779e+08       423022                21             1472   \n",
       "\n",
       "        ProductName_ID    Cluster  \n",
       "POS_ID                             \n",
       "1                 1228  Cluster 0  \n",
       "2                  253  Cluster 1  \n",
       "3                  253  Cluster 0  \n",
       "4                  253  Cluster 2  \n",
       "5                  253  Cluster 1  "
      ]
     },
     "execution_count": 149,
     "metadata": {},
     "output_type": "execute_result"
    }
   ],
   "source": [
    "kmeans_results = assign_model(kmeans)\n",
    "kmeans_results.head()"
   ]
  },
  {
   "cell_type": "code",
   "execution_count": 150,
   "metadata": {
    "scrolled": true
   },
   "outputs": [
    {
     "data": {
      "image/png": "[encoded data removed]",
      "text/plain": [
       "<Figure size 576x396 with 1 Axes>"
      ]
     },
     "metadata": {},
     "output_type": "display_data"
    }
   ],
   "source": [
    "plot_model(kmeans, plot = 'elbow')"
   ]
  },
  {
   "cell_type": "code",
   "execution_count": 227,
   "metadata": {},
   "outputs": [],
   "source": [
    "# elbow showed the best option is K=5, so we will iterate again with that number"
   ]
  },
  {
   "cell_type": "code",
   "execution_count": 151,
   "metadata": {
    "scrolled": true
   },
   "outputs": [
    {
     "data": {
      "application/vnd.plotly.v1+json": {
       "config": {
        "plotlyServerURL": "https://plot.ly"
       },
       "data": [
        {
         "customdata": [
          [
           null
          ],
          [
           423678311
          ],
          [
           454984073.6667
          ],
          [
           510871643.6959001
          ],
          [
           1074209423.1547
          ],
          [
           803877851.4614997
          ],
          [
           319691422.1614
          ],
          [
           910584281.5209999
          ],
          [
           433219647.98710006
          ],
          [
           1164621093.5215
          ],
          [
           766171118.2041999
          ],
          [
           822446892.6213001
          ],
          [
           650900764.5673002
          ],
          [
           468129422.2925
          ],
          [
           716186008.0729003
          ],
          [
           911564334.5165999
          ],
          [
           877062301.2766997
          ],
          [
           1363672735.907099
          ],
          [
           585100322.5569999
          ],
          [
           1946545686.4424007
          ],
          [
           231359109.653
          ],
          [
           656733903.8346999
          ],
          [
           661668956.4976002
          ],
          [
           486775562.7856
          ],
          [
           1639873025.5622
          ],
          [
           548844535.0493
          ],
          [
           1604784067.2512999
          ],
          [
           512483945.81329995
          ],
          [
           595693511.7448001
          ],
          [
           1221876719.8955998
          ],
          [
           690713945.8333
          ],
          [
           947365941.1408999
          ],
          [
           1004070734.6649002
          ],
          [
           1069967101.174
          ],
          [
           664389107.7104999
          ],
          [
           393079391.5
          ],
          [
           1333924098.2401001
          ],
          [
           384022543.7564
          ],
          [
           752686689.2569001
          ],
          [
           959322286.2156998
          ],
          [
           803536031.7170999
          ],
          [
           739035149.013
          ],
          [
           1278850248.2944007
          ],
          [
           467374216.3
          ],
          [
           963880366.9252998
          ],
          [
           1251509973.5224
          ],
          [
           338593974.44079995
          ],
          [
           222658481
          ],
          [
           676749694.6448002
          ],
          [
           564055066.6308
          ],
          [
           811685985.5058001
          ],
          [
           617250922.1316998
          ],
          [
           1268647712.5110998
          ],
          [
           1305667712.7896
          ],
          [
           597142296.1273
          ],
          [
           467390892.16709995
          ],
          [
           518904031.7676
          ],
          [
           561044579.3220999
          ],
          [
           413500696
          ],
          [
           515782289.2390999
          ],
          [
           1076397269.7009
          ],
          [
           646307708.2104
          ],
          [
           778009849.7458999
          ],
          [
           392414105.9936001
          ],
          [
           815136333.3887999
          ],
          [
           457451654.0325001
          ],
          [
           923168809.9266001
          ],
          [
           980509027.6268998
          ],
          [
           562096760.6
          ],
          [
           306930979.765
          ],
          [
           419339432.5997999
          ],
          [
           1108835405.5988
          ],
          [
           799594195.928
          ],
          [
           922135649.0012
          ],
          [
           976254863.1318002
          ],
          [
           844377199.405
          ],
          [
           425764712.9116
          ],
          [
           569898220.072
          ],
          [
           690722046.579
          ],
          [
           1477278997.0577002
          ],
          [
           1210704291.0865
          ],
          [
           1495054312.7382
          ],
          [
           764773964.407
          ],
          [
           655600856.9059
          ],
          [
           641204756.6255001
          ],
          [
           846561426.7871
          ],
          [
           1042288905.1294999
          ],
          [
           1301694284.7874
          ],
          [
           748638776.6263
          ],
          [
           1160743311.5015001
          ],
          [
           1269881528.3039002
          ],
          [
           660710326
          ],
          [
           1238840838.0685997
          ],
          [
           626035612.7858
          ],
          [
           776550497.6666
          ],
          [
           828762099.7712001
          ],
          [
           706115921.9305999
          ],
          [
           491619166.9649
          ],
          [
           483765370.3333
          ],
          [
           635534919.9069
          ],
          [
           648294652.5291001
          ],
          [
           815194447.605
          ]
         ],
         "hovertemplate": "Cluster=Cluster 0<br>0=%{x}<br>1=%{y}<br>2=%{z}<br>Feature=%{customdata[0]}<extra></extra>",
         "legendgroup": "Cluster 0",
         "marker": {
          "color": "#636efa",
          "opacity": 0.7,
          "symbol": "circle"
         },
         "mode": "markers",
         "name": "Cluster 0",
         "scene": "scene",
         "showlegend": true,
         "type": "scatter3d",
         "x": [
          -85.89923095703125,
          -5.627274990081787,
          -65.4615478515625,
          -20.242725372314453,
          -49.96852493286133,
          -53.95825958251953,
          -6.468657970428467,
          -2.8016018867492676,
          62.34785079956055,
          -69.24130249023438,
          -33.081275939941406,
          -16.92533302307129,
          1.3963345289230347,
          13.38884162902832,
          -40.079689025878906,
          83.00465393066406,
          -5.78806209564209,
          -0.8131775259971619,
          -6.522243499755859,
          -19.13827133178711,
          11.419395446777344,
          -29.176708221435547,
          -36.4640007019043,
          11.380012512207031,
          -23.892662048339844,
          12.517374992370605,
          -12.391512870788574,
          32.672645568847656,
          -6.551577091217041,
          -8.452877044677734,
          -39.32005310058594,
          -22.80646514892578,
          40.050148010253906,
          -66.82530975341797,
          10.709653854370117,
          -3.711968421936035,
          -40.660675048828125,
          -19.160356521606445,
          -45.508155822753906,
          -48.5609016418457,
          9.722504615783691,
          -5.656147480010986,
          -7.0186944007873535,
          -22.63934898376465,
          -19.429149627685547,
          14.003094673156738,
          -77.792724609375,
          -12.39998722076416,
          9.57945442199707,
          -1.38479745388031,
          -33.9426155090332,
          66.17285919189453,
          -29.622041702270508,
          -30.799907684326172,
          12.303730010986328,
          -30.823989868164062,
          -69.86541748046875,
          59.28889083862305,
          -66.4803237915039,
          -34.352012634277344,
          74.4373550415039,
          47.262603759765625,
          -1.208556056022644,
          -39.959354400634766,
          -5.294968605041504,
          -75.90660858154297,
          -40.74806213378906,
          -31.057985305786133,
          7.190443992614746,
          -20.928855895996094,
          -18.380844116210938,
          78.43504333496094,
          -27.121822357177734,
          -54.84587097167969,
          62.145606994628906,
          45.47502136230469,
          -19.728981018066406,
          -2.4847049713134766,
          -15.855762481689453,
          -2.0457630157470703,
          -27.782102584838867,
          13.2144775390625,
          -96.30176544189453,
          73.40960693359375,
          -23.06936264038086,
          74.3603286743164,
          -30.61165428161621,
          -110.88777923583984,
          -47.626163482666016,
          -1.287613868713379,
          -19.50832748413086,
          -22.024524688720703,
          -20.90678596496582,
          -54.153377532958984,
          -1.9944511651992798,
          52.95582962036133,
          -15.580684661865234,
          -11.865775108337402,
          -38.27521514892578,
          62.65995788574219,
          45.79494857788086,
          -123.80994415283203
         ],
         "y": [
          72.35826873779297,
          -50.12760925292969,
          75.87943267822266,
          -39.93275451660156,
          -39.22458267211914,
          -43.73776626586914,
          -54.979705810546875,
          -30.36854362487793,
          -38.16424560546875,
          -41.17893981933594,
          37.946659088134766,
          124.51715850830078,
          -102.9974594116211,
          -58.843040466308594,
          -16.454662322998047,
          -22.96538543701172,
          -83.26112365722656,
          -41.09010314941406,
          -37.086387634277344,
          -57.110267639160156,
          7.900244235992432,
          -33.65987014770508,
          -81.8671875,
          -68.31947326660156,
          -70.79794311523438,
          -13.610723495483398,
          -98.60475158691406,
          17.76600456237793,
          -71.36161804199219,
          -68.67498016357422,
          -100.08415985107422,
          -34.690093994140625,
          -1.4934062957763672,
          -35.04672622680664,
          -82.73567962646484,
          -15.175437927246094,
          -79.33940124511719,
          -72.0673599243164,
          -83.02877044677734,
          -60.314720153808594,
          -11.27807903289795,
          -31.09330177307129,
          -13.067428588867188,
          -80.28335571289062,
          -13.809802055358887,
          -28.98679542541504,
          -88.7057876586914,
          -90.08104705810547,
          -48.18675231933594,
          -64.28289031982422,
          -62.15105056762695,
          -28.622013092041016,
          -48.518707275390625,
          -87.88784790039062,
          -92.2933578491211,
          -27.41615104675293,
          -58.77301025390625,
          6.390220642089844,
          -60.24504089355469,
          -100.33628845214844,
          45.35556411743164,
          -13.21347427368164,
          -86.76119232177734,
          -51.652225494384766,
          71.17211151123047,
          -8.965392112731934,
          -59.267578125,
          -46.022003173828125,
          -32.76588821411133,
          -88.71322631835938,
          -46.07143783569336,
          -2.4381868839263916,
          -93.7761001586914,
          -52.02992248535156,
          -3.7102456092834473,
          -27.519786834716797,
          -109.78353881835938,
          -43.66807174682617,
          -103.24806213378906,
          2.8795506954193115,
          -0.04767625406384468,
          -31.408206939697266,
          -50.290061950683594,
          -24.151124954223633,
          -24.11027717590332,
          -4.179059982299805,
          -70.4190444946289,
          5.951247692108154,
          -19.36571502685547,
          -94.49061584472656,
          -90.90768432617188,
          -64.42003631591797,
          -6.888439178466797,
          -34.0654411315918,
          -20.946388244628906,
          -10.022911071777344,
          -29.605987548828125,
          -109.03690338134766,
          -37.851539611816406,
          -15.235515594482422,
          8.714791297912598,
          -4.07350492477417
         ],
         "z": [
          30.523788452148438,
          -41.44890213012695,
          40.844825744628906,
          -53.7573127746582,
          75.81749725341797,
          53.6462516784668,
          39.81301498413086,
          85.474609375,
          53.6510009765625,
          68.11247253417969,
          98.4213638305664,
          30.236774444580078,
          50.57997131347656,
          57.96901321411133,
          107.64424896240234,
          61.346885681152344,
          41.74592208862305,
          60.031585693359375,
          -0.7237498760223389,
          -13.928894996643066,
          56.25577163696289,
          115.68238830566406,
          21.500688552856445,
          38.8960075378418,
          40.22810363769531,
          86.55014038085938,
          -13.49005126953125,
          97.208984375,
          23.265525817871094,
          57.74489212036133,
          7.209042549133301,
          -15.192375183105469,
          59.205692291259766,
          88.70008850097656,
          57.57020568847656,
          71.89273071289062,
          -28.81039047241211,
          -74.3648452758789,
          -6.870400428771973,
          74.5802230834961,
          109.72842407226562,
          111.31590270996094,
          99.05025482177734,
          -17.06892204284668,
          117.54922485351562,
          71.4454574584961,
          24.74913787841797,
          62.72978210449219,
          78.51252746582031,
          -25.771656036376953,
          93.51541900634766,
          75.69502258300781,
          77.5728530883789,
          -55.957801818847656,
          34.114723205566406,
          74.79338073730469,
          82.16059112548828,
          55.89900207519531,
          60.14580535888672,
          -14.257472038269043,
          58.274391174316406,
          44.12064743041992,
          -55.32805633544922,
          111.25811004638672,
          -75.25047302246094,
          111.73709106445312,
          -17.935251235961914,
          -32.55839920043945,
          -36.49308776855469,
          3.51643967628479,
          99.26443481445312,
          49.664459228515625,
          46.95301818847656,
          93.95758819580078,
          33.38993835449219,
          63.92001724243164,
          4.730198383331299,
          -20.85276985168457,
          -40.813079833984375,
          89.10320281982422,
          101.30824279785156,
          98.93670654296875,
          10.73941707611084,
          40.50077438354492,
          95.9076156616211,
          73.09941864013672,
          1.5036792755126953,
          10.878440856933594,
          87.07563781738281,
          17.51486587524414,
          27.3122501373291,
          -36.30411148071289,
          81.76493072509766,
          107.4358901977539,
          -17.90874671936035,
          77.8783950805664,
          -34.168296813964844,
          33.91133117675781,
          94.13016510009766,
          58.0106201171875,
          40.07051467895508,
          -71.30517578125
         ]
        },
        {
         "customdata": [
          [
           1120210013.9105
          ],
          [
           1038609976.6796998
          ],
          [
           407449876.6665
          ],
          [
           989039915.4806002
          ],
          [
           584267337.9401999
          ],
          [
           1036811206.0792998
          ],
          [
           619318226.9077001
          ],
          [
           822171077.6913998
          ],
          [
           266602911.26400006
          ],
          [
           313248156.8835
          ],
          [
           558361719.8284
          ],
          [
           497666021
          ],
          [
           573058942.5
          ],
          [
           689942317.1189001
          ],
          [
           502829989.1000999
          ],
          [
           481824968
          ],
          [
           643101697.7714001
          ],
          [
           1334471121.8870997
          ],
          [
           1198623565.779
          ],
          [
           256500155.879
          ],
          [
           426202388.43289995
          ],
          [
           236508211.5
          ],
          [
           360549196.5678
          ],
          [
           734963580.1779001
          ],
          [
           1138652163.3837996
          ],
          [
           804725263.7512003
          ],
          [
           1198396642.388
          ],
          [
           707863405.5951
          ],
          [
           870815777
          ],
          [
           601784402.4365001
          ],
          [
           1261300284.6283998
          ],
          [
           1169364296.2509003
          ],
          [
           420595017.9760001
          ],
          [
           814491500.1788
          ],
          [
           1264066725.2656
          ],
          [
           668177864.7501
          ],
          [
           431857115.2647
          ],
          [
           629466842
          ],
          [
           605180801.141
          ],
          [
           1317090927.3523996
          ],
          [
           688385520.2087
          ],
          [
           728796501.4586002
          ],
          [
           1249078174.933
          ],
          [
           1017714154.7754003
          ],
          [
           978670349.7655998
          ],
          [
           915407526.6067
          ],
          [
           1134115409.7233
          ],
          [
           1196780448.4078999
          ],
          [
           914073525.1349998
          ],
          [
           916159089.2551998
          ],
          [
           610284613.257
          ],
          [
           919051528.3386999
          ],
          [
           816767478.9854
          ],
          [
           686799015.0436
          ],
          [
           1200281657.5049996
          ],
          [
           698669399.9336
          ],
          [
           1041173202.9808
          ],
          [
           462872555.533
          ],
          [
           842079794.5753999
          ],
          [
           946285681.9358003
          ],
          [
           383583600.4772
          ],
          [
           776987786.7663
          ],
          [
           1988502924.024199
          ],
          [
           863907921.6895998
          ],
          [
           829719219.1971
          ],
          [
           438096417.8522001
          ],
          [
           565531149.8959999
          ],
          [
           233675398.06230003
          ],
          [
           759757671.3715
          ],
          [
           527105279.12259984
          ],
          [
           1309677292.6081007
          ],
          [
           621042508.1495
          ],
          [
           1876968376.9563007
          ],
          [
           911519953.7163002
          ],
          [
           905863662.6653999
          ],
          [
           1113355206.7336998
          ],
          [
           543883657.8899
          ],
          [
           801690042.9162
          ],
          [
           1012136370.1281003
          ],
          [
           578876465.9920001
          ],
          [
           1108002036.2167006
          ],
          [
           451921677.143
          ],
          [
           657377908.9419999
          ],
          [
           1215017819.746
          ],
          [
           999067352.8643
          ],
          [
           362450015.04370004
          ],
          [
           327783377
          ],
          [
           536027858.8508999
          ],
          [
           384224905.7232
          ],
          [
           576464014.6334
          ],
          [
           685773467.8024998
          ],
          [
           458537177.94929993
          ],
          [
           462235879.4983
          ],
          [
           759866119.4906999
          ],
          [
           703413314.6466999
          ],
          [
           773083948.8960001
          ],
          [
           822074196.9736998
          ],
          [
           1308067315.4334002
          ],
          [
           898082177.6540003
          ],
          [
           467056188.0106
          ],
          [
           2039309795.3119
          ],
          [
           673824625.1828
          ],
          [
           1000566465.531
          ],
          [
           674888485.0566
          ],
          [
           489993922.8906
          ],
          [
           493160729.8334
          ],
          [
           824109424.0454
          ],
          [
           785372857.7037
          ],
          [
           851522767.5877999
          ],
          [
           1505714563.4963
          ],
          [
           441706589.553
          ],
          [
           699858456.9185
          ],
          [
           890767965.9209
          ],
          [
           1191857875.7558005
          ],
          [
           929912787.4232001
          ],
          [
           613668804
          ],
          [
           1069079402.6281999
          ],
          [
           554261527.2014999
          ],
          [
           469904820.9618999
          ],
          [
           557007539.882
          ],
          [
           791763232.5484998
          ],
          [
           634563724.9027001
          ],
          [
           907003000.1725999
          ],
          [
           576107202
          ],
          [
           485005843.6687001
          ],
          [
           900759999.3516003
          ],
          [
           838459301.8989998
          ],
          [
           957311751.9592004
          ],
          [
           792259542.3900002
          ],
          [
           893233052.3929
          ],
          [
           1407608673.3586
          ],
          [
           615562047.9184
          ],
          [
           476319957
          ]
         ],
         "hovertemplate": "Cluster=Cluster 1<br>0=%{x}<br>1=%{y}<br>2=%{z}<br>Feature=%{customdata[0]}<extra></extra>",
         "legendgroup": "Cluster 1",
         "marker": {
          "color": "#EF553B",
          "opacity": 0.7,
          "symbol": "circle"
         },
         "mode": "markers",
         "name": "Cluster 1",
         "scene": "scene",
         "showlegend": true,
         "type": "scatter3d",
         "x": [
          -10.641005516052246,
          -75.03559112548828,
          -27.763927459716797,
          -60.2828254699707,
          -48.628536224365234,
          -76.50415802001953,
          -86.92135620117188,
          4.628428936004639,
          -85.03247833251953,
          -36.02593231201172,
          5.310144424438477,
          -92.64623260498047,
          -44.279449462890625,
          20.608797073364258,
          8.606800079345703,
          -80.16399383544922,
          7.494522571563721,
          -56.926734924316406,
          -103.24308013916016,
          -30.181961059570312,
          -73.2564468383789,
          -39.718780517578125,
          -75.0427474975586,
          -3.4240078926086426,
          -74.82213592529297,
          -57.03573226928711,
          -106.09864044189453,
          -55.31781005859375,
          -65.15582275390625,
          -43.16580581665039,
          -56.81914520263672,
          -51.4598503112793,
          -53.36796188354492,
          -105.86469268798828,
          -55.191810607910156,
          -90.8368911743164,
          -84.52836608886719,
          -26.8493595123291,
          -80.18209838867188,
          -23.028121948242188,
          -43.604461669921875,
          -78.55986022949219,
          -43.22404479980469,
          -80.00897979736328,
          -78.39009094238281,
          -57.73103332519531,
          -88.21859741210938,
          64.0252456665039,
          -6.940552711486816,
          -73.82691955566406,
          -4.830404281616211,
          -72.51775360107422,
          -36.43808364868164,
          9.806622505187988,
          78.63101959228516,
          -67.01252746582031,
          -27.843013763427734,
          -107.26483917236328,
          -94.76373291015625,
          -76.05984497070312,
          -97.14381408691406,
          -68.53424072265625,
          -51.55656051635742,
          -78.10708618164062,
          -107.28826904296875,
          -109.70333099365234,
          -95.25518035888672,
          -94.0368881225586,
          1.48662531375885,
          -88.73351287841797,
          -18.72215461730957,
          -5.793356895446777,
          -105.24104309082031,
          -69.15087127685547,
          12.641319274902344,
          -98.90050506591797,
          -44.556034088134766,
          -24.06233024597168,
          11.390128135681152,
          -26.69170570373535,
          -44.25531005859375,
          -90.75392150878906,
          -85.34793090820312,
          65.96139526367188,
          -92.0339584350586,
          27.640005111694336,
          -61.069068908691406,
          -24.6895809173584,
          17.976789474487305,
          -21.128925323486328,
          -107.42417907714844,
          -78.75044250488281,
          -39.82518005371094,
          -85.56075286865234,
          52.71467208862305,
          -84.22247314453125,
          -11.929194450378418,
          -58.968074798583984,
          -55.62855529785156,
          -60.82758712768555,
          46.209022521972656,
          -72.82649993896484,
          -83.85782623291016,
          -44.85129928588867,
          -75.17264556884766,
          18.29884147644043,
          -86.62074279785156,
          34.631229400634766,
          -77.0409164428711,
          1.7815896272659302,
          -61.154361724853516,
          -91.66657257080078,
          -70.15828704833984,
          -42.668174743652344,
          10.814337730407715,
          -97.30838012695312,
          13.837336540222168,
          -27.46776008605957,
          25.696277618408203,
          -8.668989181518555,
          -2.363349437713623,
          -7.20985221862793,
          -97.59691619873047,
          46.8245735168457,
          -105.30427551269531,
          -85.97200012207031,
          -40.32130813598633,
          2.0839221477508545,
          16.715917587280273,
          -88.26338958740234,
          25.97757911682129,
          -31.569725036621094,
          -17.386398315429688
         ],
         "y": [
          26.88548469543457,
          22.37784194946289,
          79.99968719482422,
          72.65843200683594,
          57.424983978271484,
          -93.52633666992188,
          -9.838927268981934,
          66.3031005859375,
          46.05784606933594,
          -21.926748275756836,
          56.29534149169922,
          26.420082092285156,
          -6.703927040100098,
          45.88854217529297,
          31.048738479614258,
          -2.5192627906799316,
          36.07144546508789,
          13.423340797424316,
          -8.23287582397461,
          12.490076065063477,
          -34.43062210083008,
          80.74861907958984,
          17.31027603149414,
          36.26930618286133,
          -41.79153823852539,
          83.10710906982422,
          37.19562530517578,
          21.886045455932617,
          61.540157318115234,
          64.0851058959961,
          -22.06610107421875,
          -41.31756591796875,
          43.61431884765625,
          -6.9568986892700195,
          19.313005447387695,
          25.545194625854492,
          43.913177490234375,
          57.36837387084961,
          24.269472122192383,
          -0.9993435144424438,
          -3.357032060623169,
          74.61958312988281,
          17.183435440063477,
          43.601097106933594,
          9.805965423583984,
          -15.412989616394043,
          -43.7134895324707,
          -64.88068389892578,
          69.05288696289062,
          -62.60810852050781,
          30.947223663330078,
          56.182064056396484,
          -17.58745765686035,
          48.28321838378906,
          -67.71324157714844,
          -23.3802547454834,
          20.899660110473633,
          12.904474258422852,
          31.14004135131836,
          -30.29441261291504,
          -42.8931884765625,
          36.2596549987793,
          -18.80525016784668,
          -4.449042320251465,
          -10.097235679626465,
          10.3043851852417,
          60.931583404541016,
          1.2948967218399048,
          78.45281219482422,
          26.81716537475586,
          87.193115234375,
          44.39292526245117,
          -29.45268440246582,
          30.865339279174805,
          34.24292755126953,
          -8.739620208740234,
          1.8588632345199585,
          66.6011962890625,
          60.7872314453125,
          80.08426666259766,
          96.41868591308594,
          -22.830598831176758,
          94.22958374023438,
          31.56144905090332,
          9.848819732666016,
          36.856624603271484,
          51.11018371582031,
          41.72953414916992,
          50.82695007324219,
          -7.780501365661621,
          -23.81981658935547,
          63.891624450683594,
          7.742004871368408,
          -21.69568634033203,
          -30.764490127563477,
          -23.829418182373047,
          118.17157745361328,
          40.202857971191406,
          -28.844135284423828,
          1.305591344833374,
          -63.37468719482422,
          -11.909995079040527,
          -14.183000564575195,
          68.97857666015625,
          37.739437103271484,
          42.49879837036133,
          -54.44384002685547,
          65.1814193725586,
          -14.674399375915527,
          67.62589263916016,
          -13.072619438171387,
          1.3480775356292725,
          32.25794982910156,
          29.658306121826172,
          16.850975036621094,
          11.411388397216797,
          18.146825790405273,
          1.1407917737960815,
          23.953481674194336,
          71.54027557373047,
          49.07292556762695,
          53.46721267700195,
          -29.24970054626465,
          -83.88999938964844,
          31.09751319885254,
          -31.172714233398438,
          28.8247127532959,
          13.026298522949219,
          242.72389221191406,
          47.36334228515625,
          62.19594955444336,
          45.88922119140625,
          52.31301498413086
         ],
         "z": [
          -8.755452156066895,
          57.785850524902344,
          -37.030616760253906,
          -21.931137084960938,
          -11.03013801574707,
          -22.902637481689453,
          -32.34846115112305,
          53.36481857299805,
          -46.70003128051758,
          7.569070339202881,
          -35.856719970703125,
          47.37131881713867,
          -11.399245262145996,
          2.4546926021575928,
          8.521825790405273,
          -51.14976119995117,
          -10.134289741516113,
          20.882007598876953,
          -45.814735412597656,
          20.023984909057617,
          -6.857951641082764,
          -15.869508743286133,
          78.46481323242188,
          -29.97175407409668,
          41.34819030761719,
          -3.239081621170044,
          -24.702495574951172,
          67.874755859375,
          2.5462238788604736,
          -30.67693519592285,
          -0.2171381562948227,
          -66.44695281982422,
          39.882049560546875,
          75.52534484863281,
          43.723655700683594,
          -33.701141357421875,
          -26.697086334228516,
          -1.620902419090271,
          -52.16960906982422,
          37.28898620605469,
          11.607463836669922,
          -9.989069938659668,
          3.4391684532165527,
          54.54042053222656,
          -32.92038345336914,
          20.075302124023438,
          77.25674438476562,
          80.58753204345703,
          -3.9993033409118652,
          -28.16925048828125,
          23.404438018798828,
          -16.60199546813965,
          30.166160583496094,
          22.060434341430664,
          59.273231506347656,
          53.1096076965332,
          39.653343200683594,
          -29.76572608947754,
          68.48956298828125,
          -28.328168869018555,
          43.50540542602539,
          -12.195858001708984,
          -59.53571701049805,
          52.928062438964844,
          -24.497373580932617,
          54.273170471191406,
          -23.63163948059082,
          37.79332733154297,
          -20.95718002319336,
          -12.984419822692871,
          -18.187034606933594,
          5.277419567108154,
          65.32415771484375,
          -33.2896842956543,
          38.40941619873047,
          55.66273880004883,
          33.041778564453125,
          -19.745412826538086,
          -14.707510948181152,
          0.923867404460907,
          40.012542724609375,
          -11.115387916564941,
          -30.144088745117188,
          86.90137481689453,
          67.22712707519531,
          22.90066909790039,
          -32.841243743896484,
          -19.12364959716797,
          49.479087829589844,
          17.33423614501953,
          42.969032287597656,
          -36.576438903808594,
          53.85753631591797,
          38.264190673828125,
          -103.60355377197266,
          -47.97493362426758,
          -18.165847778320312,
          59.23808288574219,
          -19.380966186523438,
          0.28730493783950806,
          -79.31979370117188,
          -16.12310028076172,
          72.2973861694336,
          6.6442084312438965,
          74.79185485839844,
          -25.849407196044922,
          58.602603912353516,
          -4.446827411651611,
          4.886222839355469,
          31.18675994873047,
          -32.46631622314453,
          -15.587875366210938,
          37.27204895019531,
          27.380348205566406,
          -16.089614868164062,
          -49.12154006958008,
          22.313098907470703,
          -1.0199592113494873,
          0.46906957030296326,
          -36.8891487121582,
          40.36810302734375,
          -17.628517150878906,
          -31.209352493286133,
          57.70469284057617,
          -47.38253402709961,
          57.84672546386719,
          54.20085525512695,
          3.699563980102539,
          7.804903507232666,
          -5.5900139808654785,
          34.69122314453125,
          46.57032012939453,
          -36.470821380615234
         ]
        },
        {
         "customdata": [
          [
           1874296729.5358
          ],
          [
           424179415
          ],
          [
           1234217737.7556002
          ],
          [
           1471505493.1983016
          ],
          [
           540930837.333
          ],
          [
           1282848053.8525999
          ],
          [
           584955241.8602002
          ],
          [
           1140355509.6644
          ],
          [
           996026276
          ],
          [
           477707817.9318
          ],
          [
           1290233374.3125
          ],
          [
           777764109.2959
          ],
          [
           1885980155.6267009
          ],
          [
           262413693.37639996
          ],
          [
           482204992.0623
          ],
          [
           290718459.9505
          ],
          [
           913195998.346
          ],
          [
           605603051
          ],
          [
           1416623446.2125998
          ],
          [
           955220800.6667
          ],
          [
           786755352.9120998
          ],
          [
           996036219.5338
          ],
          [
           1131001863.9279
          ],
          [
           1274327245.0180001
          ],
          [
           835289764.2666
          ],
          [
           1218366360.0148997
          ],
          [
           719256086.4566002
          ],
          [
           404766791.45719993
          ],
          [
           960741046.0084999
          ],
          [
           829448940.5689
          ],
          [
           548287089.2142
          ],
          [
           1426604282.5762005
          ],
          [
           1041530085.8783001
          ],
          [
           574438375.6909999
          ],
          [
           306694268
          ],
          [
           783271392.0971999
          ],
          [
           429282595.4323001
          ],
          [
           1624717242.2251005
          ],
          [
           984695719.7760998
          ],
          [
           585560570.2822998
          ],
          [
           508325452.2
          ],
          [
           852905861.5925999
          ],
          [
           523499343.63199997
          ],
          [
           523889395
          ],
          [
           1587122413.2056003
          ],
          [
           1118299470.0098994
          ],
          [
           586849417.5984002
          ],
          [
           1002260709.9547
          ],
          [
           438050582.8333
          ],
          [
           1048120296.5631
          ],
          [
           1180317904.8852
          ],
          [
           575834324.6928
          ],
          [
           581236402.027
          ],
          [
           1035170270.0628997
          ],
          [
           1038554952.1249995
          ],
          [
           600817385.9239
          ],
          [
           679693170.1613998
          ],
          [
           364284082
          ],
          [
           1013070165.3360997
          ]
         ],
         "hovertemplate": "Cluster=Cluster 2<br>0=%{x}<br>1=%{y}<br>2=%{z}<br>Feature=%{customdata[0]}<extra></extra>",
         "legendgroup": "Cluster 2",
         "marker": {
          "color": "#00cc96",
          "opacity": 0.7,
          "symbol": "circle"
         },
         "mode": "markers",
         "name": "Cluster 2",
         "scene": "scene",
         "showlegend": true,
         "type": "scatter3d",
         "x": [
          92.30290985107422,
          41.89695739746094,
          55.810970306396484,
          27.551349639892578,
          24.437257766723633,
          28.317386627197266,
          -5.015384197235107,
          73.03016662597656,
          96.55497741699219,
          101.8016586303711,
          42.38935470581055,
          101.21102142333984,
          22.94386100769043,
          71.98501586914062,
          85.92546081542969,
          74.94641876220703,
          84.19681549072266,
          52.116119384765625,
          -69.02500915527344,
          38.5501708984375,
          74.20606231689453,
          -69.50633239746094,
          69.65775299072266,
          84.98381805419922,
          63.42937469482422,
          61.77003860473633,
          81.6781005859375,
          83.22137451171875,
          44.23978042602539,
          -13.910050392150879,
          44.3270263671875,
          74.08790588378906,
          24.023056030273438,
          64.3691635131836,
          63.37356185913086,
          100.05621337890625,
          42.139034271240234,
          72.4569091796875,
          60.43053436279297,
          38.50984573364258,
          84.77152252197266,
          91.81051635742188,
          17.888242721557617,
          46.756046295166016,
          61.90614700317383,
          45.75952911376953,
          27.259645462036133,
          100.23101806640625,
          27.60018539428711,
          -36.373497009277344,
          -57.45784378051758,
          118.09976959228516,
          23.895326614379883,
          28.96274757385254,
          -58.18064498901367,
          48.99552917480469,
          16.630651473999023,
          75.74325561523438,
          -42.00757598876953
         ],
         "y": [
          -57.9404411315918,
          -0.6956387162208557,
          -28.407398223876953,
          -5.902036666870117,
          -84.0418930053711,
          -20.984195709228516,
          56.394161224365234,
          -101.21668243408203,
          -55.66222381591797,
          -33.66153335571289,
          -64.77197265625,
          -3.048909902572632,
          -55.49210739135742,
          -39.539119720458984,
          -37.97328567504883,
          -19.66733169555664,
          -37.64705276489258,
          -56.73385238647461,
          20.895038604736328,
          -96.39380645751953,
          -56.206478118896484,
          -3.091101884841919,
          -72.92619323730469,
          -55.32621383666992,
          -37.41334533691406,
          -50.810977935791016,
          -36.836021423339844,
          -17.3134765625,
          -76.4222412109375,
          29.11493492126465,
          -66.67009735107422,
          26.593143463134766,
          -26.561634063720703,
          -30.87339210510254,
          -76.02376556396484,
          -22.48674964904785,
          -22.37963104248047,
          -51.68511962890625,
          -92.30877685546875,
          -39.47751998901367,
          -74.45394134521484,
          -35.012107849121094,
          -32.2916145324707,
          -16.599456787109375,
          -72.4046630859375,
          -86.48309326171875,
          -64.28711700439453,
          -11.758758544921875,
          -79.27056121826172,
          35.702049255371094,
          -73.05242156982422,
          -15.061958312988281,
          -12.122162818908691,
          -42.47322463989258,
          47.281673431396484,
          -96.4538345336914,
          45.86509323120117,
          -20.370206832885742,
          -242.59239196777344
         ],
         "z": [
          2.45208477973938,
          19.58736801147461,
          -34.72869873046875,
          35.363433837890625,
          -14.830583572387695,
          -2.8408615589141846,
          84.04757690429688,
          -28.873830795288086,
          -18.981103897094727,
          -54.07103729248047,
          -24.48007583618164,
          -60.929012298583984,
          11.928237915039062,
          -26.583715438842773,
          -5.913909435272217,
          -37.423805236816406,
          -68.86502838134766,
          -5.443020820617676,
          -88.45658111572266,
          -2.246975898742676,
          -13.874551773071289,
          -91.16023254394531,
          -32.5333366394043,
          -37.123416900634766,
          -6.904980659484863,
          -40.1124267578125,
          -47.74822235107422,
          -59.26536178588867,
          -3.854640245437622,
          122.9902572631836,
          15.588340759277344,
          40.13026809692383,
          34.8176155090332,
          -56.3450927734375,
          7.829911708831787,
          -71.78038787841797,
          26.152366638183594,
          8.068312644958496,
          -7.0536699295043945,
          14.133129119873047,
          -11.382384300231934,
          -26.785186767578125,
          14.165022850036621,
          7.505716323852539,
          -14.240683555603027,
          -23.753772735595703,
          -8.461552619934082,
          -42.244258880615234,
          8.369241714477539,
          -112.62227630615234,
          36.32891082763672,
          -54.184226989746094,
          15.894384384155273,
          -6.361226558685303,
          -77.97789764404297,
          21.364665985107422,
          91.80243682861328,
          -16.727949142456055,
          39.3409423828125
         ]
        },
        {
         "customdata": [
          [
           350896033.96680003
          ],
          [
           608125665
          ],
          [
           698567267.3971
          ],
          [
           1197372963.4457996
          ],
          [
           560433637.4572
          ],
          [
           734067091.768
          ],
          [
           791008794.4116
          ],
          [
           631925694.1307999
          ],
          [
           852974313.8837999
          ],
          [
           696001248.1092999
          ],
          [
           635328802.3419
          ],
          [
           1404915007.27
          ],
          [
           1042237047.5209
          ],
          [
           766209360.2466
          ],
          [
           771315283.6747999
          ],
          [
           674380684.7863
          ],
          [
           253577495.54709995
          ],
          [
           663550012.0347
          ],
          [
           628293081.416
          ],
          [
           752055977.176
          ],
          [
           578458725.75
          ],
          [
           812170943.6929998
          ],
          [
           1039503052.2722999
          ],
          [
           531548929.3334
          ],
          [
           922216620.8741001
          ],
          [
           558049486.9505999
          ],
          [
           814459607.1964998
          ],
          [
           622637042.855
          ],
          [
           1796778665.2555
          ],
          [
           772137615.7865
          ],
          [
           919038927.1364
          ],
          [
           349908991.56969994
          ],
          [
           997378619.5302001
          ],
          [
           614040196.7794001
          ],
          [
           1220390976.4309
          ],
          [
           404861199.6397
          ],
          [
           397945051.68376
          ],
          [
           718609104.8334999
          ],
          [
           931572407.9125003
          ],
          [
           266418896.93350002
          ],
          [
           364609804.9578999
          ],
          [
           486305557.29129994
          ],
          [
           970532958.2013
          ],
          [
           990809308.5361
          ],
          [
           530225528.9801
          ],
          [
           532929245.64869994
          ],
          [
           574321253.7484
          ],
          [
           946367842.802
          ],
          [
           1054730303.001
          ],
          [
           523296292.5
          ],
          [
           519250289
          ],
          [
           463849408.3983001
          ],
          [
           2370246101.6712003
          ],
          [
           1289131466.8477
          ],
          [
           841540175.7370001
          ],
          [
           335799210.0989
          ],
          [
           212674193.535
          ],
          [
           634324113.4115
          ],
          [
           369559949.5364001
          ],
          [
           616178351.4707
          ],
          [
           492472975.9787
          ],
          [
           476208590.7251
          ],
          [
           645784860.4860002
          ],
          [
           1038790167.6832007
          ],
          [
           500043112.9050001
          ],
          [
           595450128.7409
          ],
          [
           147502335
          ],
          [
           711961280.1460003
          ],
          [
           427715418.41110003
          ],
          [
           284323922.7299001
          ],
          [
           1442814788.7218006
          ],
          [
           684973717.2682
          ],
          [
           1005136740.7399999
          ],
          [
           675799533
          ],
          [
           1266455081.0529003
          ],
          [
           481777417
          ],
          [
           246980870.0073
          ],
          [
           349915627
          ],
          [
           597410616
          ],
          [
           520704612
          ],
          [
           954730257.1873001
          ],
          [
           732281805.7708
          ],
          [
           737470634.6410999
          ],
          [
           588486260.344
          ],
          [
           682044240.4861999
          ],
          [
           260065697.33070004
          ],
          [
           659716794.25
          ],
          [
           645540855.6638001
          ],
          [
           421427287.1329001
          ],
          [
           349396786.90379995
          ],
          [
           579252860.3333
          ],
          [
           431841694.706
          ],
          [
           327180283.26329994
          ],
          [
           753615489.515
          ],
          [
           590273306.0935999
          ],
          [
           450022448.2671
          ],
          [
           378420460.4118
          ],
          [
           1001577914.4626001
          ],
          [
           357800262.6833
          ],
          [
           893136968.3176
          ],
          [
           558301923.8277
          ],
          [
           315225883.0402
          ],
          [
           679629547.7758
          ]
         ],
         "hovertemplate": "Cluster=Cluster 3<br>0=%{x}<br>1=%{y}<br>2=%{z}<br>Feature=%{customdata[0]}<extra></extra>",
         "legendgroup": "Cluster 3",
         "marker": {
          "color": "#ab63fa",
          "opacity": 0.7,
          "symbol": "circle"
         },
         "mode": "markers",
         "name": "Cluster 3",
         "scene": "scene",
         "showlegend": true,
         "type": "scatter3d",
         "x": [
          69.24149322509766,
          32.373207092285156,
          103.9278793334961,
          101.51390838623047,
          28.098007202148438,
          29.55052947998047,
          27.11225700378418,
          -22.328210830688477,
          -39.51508331298828,
          -21.49001693725586,
          28.189311981201172,
          -8.041043281555176,
          91.07518005371094,
          -31.194400787353516,
          2.788658380508423,
          47.31842041015625,
          76.40191650390625,
          51.1309928894043,
          42.87776565551758,
          62.2154541015625,
          -9.297826766967773,
          43.27010726928711,
          -38.35017013549805,
          -15.160088539123535,
          -24.346384048461914,
          31.995376586914062,
          -4.302507400512695,
          -1.6698368787765503,
          26.689796447753906,
          -33.13081741333008,
          -8.119386672973633,
          81.00418090820312,
          55.28584289550781,
          63.9952507019043,
          9.839770317077637,
          11.466278076171875,
          71.5157470703125,
          52.716697692871094,
          -84.27546691894531,
          66.95687866210938,
          -105.78825378417969,
          65.08539581298828,
          39.568416595458984,
          18.825563430786133,
          10.889472007751465,
          -19.892440795898438,
          69.40363311767578,
          20.90692138671875,
          47.37929153442383,
          49.431480407714844,
          28.498605728149414,
          10.081437110900879,
          4.052608966827393,
          10.45431900024414,
          97.5704116821289,
          51.3036003112793,
          12.653297424316406,
          60.27041244506836,
          63.62432861328125,
          -37.40790939331055,
          -26.3101863861084,
          -6.638357639312744,
          85.2173843383789,
          -12.152442932128906,
          52.26979446411133,
          71.81124114990234,
          48.982887268066406,
          43.287925720214844,
          67.61351776123047,
          50.45011901855469,
          89.48921203613281,
          52.83597183227539,
          -20.466466903686523,
          52.5897102355957,
          -27.975204467773438,
          81.14136505126953,
          15.45276165008545,
          49.74546432495117,
          101.44985961914062,
          58.880409240722656,
          20.033113479614258,
          37.05055618286133,
          35.32957458496094,
          2.042661666870117,
          -4.255792140960693,
          27.053104400634766,
          68.92052459716797,
          24.444780349731445,
          28.610366821289062,
          63.848751068115234,
          39.986778259277344,
          75.12823486328125,
          78.00347900390625,
          36.303672790527344,
          27.133302688598633,
          35.0137825012207,
          87.90164947509766,
          -8.088571548461914,
          71.39806365966797,
          -63.808040618896484,
          87.69833374023438,
          -10.023628234863281,
          88.12226104736328
         ],
         "y": [
          30.981962203979492,
          -99.55883026123047,
          68.4573745727539,
          49.97910690307617,
          99.22258758544922,
          -15.840450286865234,
          30.466129302978516,
          99.08879852294922,
          115.68204498291016,
          9.256935119628906,
          31.914539337158203,
          -22.225107192993164,
          68.9948501586914,
          -1.2322173118591309,
          43.372779846191406,
          70.62357330322266,
          21.949018478393555,
          88.36009216308594,
          -4.656899452209473,
          10.135819435119629,
          -1.8364839553833008,
          42.33249282836914,
          3.531406879425049,
          25.83957290649414,
          -14.78305721282959,
          21.3526668548584,
          84.4434585571289,
          15.190556526184082,
          70.07315063476562,
          26.187175750732422,
          3.1120975017547607,
          59.39718246459961,
          88.90850830078125,
          106.79379272460938,
          -20.478439331054688,
          -5.529843330383301,
          28.057735443115234,
          11.507505416870117,
          -67.48883819580078,
          70.0074462890625,
          68.03520202636719,
          49.3668098449707,
          38.26345443725586,
          94.70574188232422,
          109.65066528320312,
          15.137396812438965,
          74.94691467285156,
          77.33295440673828,
          1.8062008619308472,
          7.09375,
          10.111125946044922,
          100.99163818359375,
          13.073811531066895,
          -7.220523357391357,
          49.58445739746094,
          97.43718719482422,
          -27.087387084960938,
          32.119625091552734,
          -19.902788162231445,
          20.019392013549805,
          -7.017961025238037,
          -4.092792987823486,
          58.714115142822266,
          37.1847038269043,
          76.28560638427734,
          88.30320739746094,
          29.81450843811035,
          18.473289489746094,
          77.0246810913086,
          28.477455139160156,
          22.576047897338867,
          33.16387939453125,
          13.368915557861328,
          81.30660247802734,
          43.68232727050781,
          37.71223068237305,
          80.61005401611328,
          108.04164123535156,
          33.181583404541016,
          13.409971237182617,
          90.79765319824219,
          17.73271942138672,
          83.65865325927734,
          89.77071380615234,
          -22.382394790649414,
          -66.9809799194336,
          99.98560333251953,
          -126.38383483886719,
          8.997395515441895,
          31.8880672454834,
          105.34600067138672,
          54.539127349853516,
          89.22722625732422,
          83.61283874511719,
          0.617759108543396,
          90.56661224365234,
          79.42008209228516,
          -2.4282684326171875,
          13.638233184814453,
          88.77230834960938,
          85.24481964111328,
          27.0278263092041,
          40.41534423828125
         ],
         "z": [
          9.2258882522583,
          -53.99728775024414,
          -13.949769020080566,
          0.5130099058151245,
          28.75132942199707,
          -93.69023895263672,
          -82.30630493164062,
          67.57846069335938,
          4.43275260925293,
          -69.16691589355469,
          -59.269622802734375,
          -93.82060241699219,
          -32.51816177368164,
          -54.38386917114258,
          -166.17662048339844,
          -38.67990493774414,
          -26.854137420654297,
          -22.84547233581543,
          -77.53602600097656,
          -72.33432006835938,
          -82.2354507446289,
          -73.4806900024414,
          -79.000732421875,
          -57.37519836425781,
          -74.88546752929688,
          -103.1995620727539,
          45.25496292114258,
          -71.50907897949219,
          55.54335403442383,
          -75.93399810791016,
          -182.0999298095703,
          10.69409465789795,
          -46.422096252441406,
          -53.28055953979492,
          -107.70751190185547,
          -92.96065521240234,
          -50.35348129272461,
          -24.564931869506836,
          -4.231749534606934,
          -51.698280334472656,
          1.2494478225708008,
          -1.0307302474975586,
          67.26422882080078,
          7.259638786315918,
          20.954050064086914,
          -90.50048065185547,
          -11.28561019897461,
          21.497079849243164,
          -56.13761901855469,
          -94.65817260742188,
          -60.23240661621094,
          41.70625305175781,
          -98.5027847290039,
          -72.09732818603516,
          -25.858108520507812,
          -69.38211059570312,
          -85.1522216796875,
          -11.412575721740723,
          -156.2957000732422,
          -55.753135681152344,
          -95.70667266845703,
          -107.00787353515625,
          -10.184847831726074,
          -76.5196304321289,
          -66.22230529785156,
          -72.40930938720703,
          -56.79623794555664,
          -72.61028289794922,
          -31.733535766601562,
          -90.21804809570312,
          2.8736636638641357,
          -36.012699127197266,
          -41.417545318603516,
          12.535453796386719,
          -61.67483901977539,
          -9.6940336227417,
          40.2412223815918,
          -34.28608703613281,
          -13.08486270904541,
          -44.66170883178711,
          57.329532623291016,
          -41.65678787231445,
          -56.498714447021484,
          23.636274337768555,
          -72.21775817871094,
          -57.57954406738281,
          -29.545419692993164,
          -0.6320246458053589,
          -85.758544921875,
          -72.08055114746094,
          -53.182071685791016,
          -27.65955924987793,
          -46.92009353637695,
          40.37494659423828,
          -108.10152435302734,
          -36.07820510864258,
          -0.24173593521118164,
          -57.63066482543945,
          -7.246866703033447,
          -47.67816925048828,
          -19.84650993347168,
          69.46038055419922,
          13.894132614135742
         ]
        },
        {
         "customdata": [
          [
           259093601.76720005
          ],
          [
           761640179.5730001
          ],
          [
           916908480.1450999
          ],
          [
           961646883.0011997
          ],
          [
           1199980094.6602998
          ],
          [
           763818139.5341002
          ],
          [
           562669550.1732001
          ],
          [
           443983195.3724
          ],
          [
           1078355578.3846998
          ],
          [
           552947115.6665
          ],
          [
           1147669930.0689
          ],
          [
           1704254745.3667002
          ],
          [
           1113166067.8463998
          ]
         ],
         "hovertemplate": "Cluster=Cluster 4<br>0=%{x}<br>1=%{y}<br>2=%{z}<br>Feature=%{customdata[0]}<extra></extra>",
         "legendgroup": "Cluster 4",
         "marker": {
          "color": "#FFA15A",
          "opacity": 0.7,
          "symbol": "circle"
         },
         "mode": "markers",
         "name": "Cluster 4",
         "scene": "scene",
         "showlegend": true,
         "type": "scatter3d",
         "x": [
          108.31861877441406,
          134.60757446289062,
          119.23735046386719,
          -128.19119262695312,
          -127.14563751220703,
          128.50489807128906,
          105.38321685791016,
          117.86798095703125,
          120.8192138671875,
          115.87792205810547,
          119.94684600830078,
          109.68402862548828,
          127.8623046875
         ],
         "y": [
          -14.186205863952637,
          -12.993209838867188,
          -0.7132388353347778,
          -34.609195709228516,
          -55.69805908203125,
          -12.57503604888916,
          -14.399820327758789,
          -24.74217987060547,
          -22.302762985229492,
          4.654865741729736,
          -28.07611083984375,
          -4.645505905151367,
          -6.304093360900879
         ],
         "z": [
          19.879655838012695,
          -0.6717960834503174,
          3.746565818786621,
          -11.850560188293457,
          -2.1474294662475586,
          18.986242294311523,
          -0.3116001486778259,
          -34.21601104736328,
          -11.636282920837402,
          25.611112594604492,
          7.9148268699646,
          -22.57893943786621,
          -31.417558670043945
         ]
        }
       ],
       "layout": {
        "height": 800,
        "legend": {
         "title": {
          "text": "Cluster"
         },
         "tracegroupgap": 0
        },
        "scene": {
         "domain": {
          "x": [
           0,
           1
          ],
          "y": [
           0,
           1
          ]
         },
         "xaxis": {
          "title": {
           "text": "0"
          }
         },
         "yaxis": {
          "title": {
           "text": "1"
          }
         },
         "zaxis": {
          "title": {
           "text": "2"
          }
         }
        },
        "template": {
         "data": {
          "bar": [
           {
            "error_x": {
             "color": "#2a3f5f"
            },
            "error_y": {
             "color": "#2a3f5f"
            },
            "marker": {
             "line": {
              "color": "#E5ECF6",
              "width": 0.5
             }
            },
            "type": "bar"
           }
          ],
          "barpolar": [
           {
            "marker": {
             "line": {
              "color": "#E5ECF6",
              "width": 0.5
             }
            },
            "type": "barpolar"
           }
          ],
          "carpet": [
           {
            "aaxis": {
             "endlinecolor": "#2a3f5f",
             "gridcolor": "white",
             "linecolor": "white",
             "minorgridcolor": "white",
             "startlinecolor": "#2a3f5f"
            },
            "baxis": {
             "endlinecolor": "#2a3f5f",
             "gridcolor": "white",
             "linecolor": "white",
             "minorgridcolor": "white",
             "startlinecolor": "#2a3f5f"
            },
            "type": "carpet"
           }
          ],
          "choropleth": [
           {
            "colorbar": {
             "outlinewidth": 0,
             "ticks": ""
            },
            "type": "choropleth"
           }
          ],
          "contour": [
           {
            "colorbar": {
             "outlinewidth": 0,
             "ticks": ""
            },
            "colorscale": [
             [
              0,
              "#0d0887"
             ],
             [
              0.1111111111111111,
              "#46039f"
             ],
             [
              0.2222222222222222,
              "#7201a8"
             ],
             [
              0.3333333333333333,
              "#9c179e"
             ],
             [
              0.4444444444444444,
              "#bd3786"
             ],
             [
              0.5555555555555556,
              "#d8576b"
             ],
             [
              0.6666666666666666,
              "#ed7953"
             ],
             [
              0.7777777777777778,
              "#fb9f3a"
             ],
             [
              0.8888888888888888,
              "#fdca26"
             ],
             [
              1,
              "#f0f921"
             ]
            ],
            "type": "contour"
           }
          ],
          "contourcarpet": [
           {
            "colorbar": {
             "outlinewidth": 0,
             "ticks": ""
            },
            "type": "contourcarpet"
           }
          ],
          "heatmap": [
           {
            "colorbar": {
             "outlinewidth": 0,
             "ticks": ""
            },
            "colorscale": [
             [
              0,
              "#0d0887"
             ],
             [
              0.1111111111111111,
              "#46039f"
             ],
             [
              0.2222222222222222,
              "#7201a8"
             ],
             [
              0.3333333333333333,
              "#9c179e"
             ],
             [
              0.4444444444444444,
              "#bd3786"
             ],
             [
              0.5555555555555556,
              "#d8576b"
             ],
             [
              0.6666666666666666,
              "#ed7953"
             ],
             [
              0.7777777777777778,
              "#fb9f3a"
             ],
             [
              0.8888888888888888,
              "#fdca26"
             ],
             [
              1,
              "#f0f921"
             ]
            ],
            "type": "heatmap"
           }
          ],
          "heatmapgl": [
           {
            "colorbar": {
             "outlinewidth": 0,
             "ticks": ""
            },
            "colorscale": [
             [
              0,
              "#0d0887"
             ],
             [
              0.1111111111111111,
              "#46039f"
             ],
             [
              0.2222222222222222,
              "#7201a8"
             ],
             [
              0.3333333333333333,
              "#9c179e"
             ],
             [
              0.4444444444444444,
              "#bd3786"
             ],
             [
              0.5555555555555556,
              "#d8576b"
             ],
             [
              0.6666666666666666,
              "#ed7953"
             ],
             [
              0.7777777777777778,
              "#fb9f3a"
             ],
             [
              0.8888888888888888,
              "#fdca26"
             ],
             [
              1,
              "#f0f921"
             ]
            ],
            "type": "heatmapgl"
           }
          ],
          "histogram": [
           {
            "marker": {
             "colorbar": {
              "outlinewidth": 0,
              "ticks": ""
             }
            },
            "type": "histogram"
           }
          ],
          "histogram2d": [
           {
            "colorbar": {
             "outlinewidth": 0,
             "ticks": ""
            },
            "colorscale": [
             [
              0,
              "#0d0887"
             ],
             [
              0.1111111111111111,
              "#46039f"
             ],
             [
              0.2222222222222222,
              "#7201a8"
             ],
             [
              0.3333333333333333,
              "#9c179e"
             ],
             [
              0.4444444444444444,
              "#bd3786"
             ],
             [
              0.5555555555555556,
              "#d8576b"
             ],
             [
              0.6666666666666666,
              "#ed7953"
             ],
             [
              0.7777777777777778,
              "#fb9f3a"
             ],
             [
              0.8888888888888888,
              "#fdca26"
             ],
             [
              1,
              "#f0f921"
             ]
            ],
            "type": "histogram2d"
           }
          ],
          "histogram2dcontour": [
           {
            "colorbar": {
             "outlinewidth": 0,
             "ticks": ""
            },
            "colorscale": [
             [
              0,
              "#0d0887"
             ],
             [
              0.1111111111111111,
              "#46039f"
             ],
             [
              0.2222222222222222,
              "#7201a8"
             ],
             [
              0.3333333333333333,
              "#9c179e"
             ],
             [
              0.4444444444444444,
              "#bd3786"
             ],
             [
              0.5555555555555556,
              "#d8576b"
             ],
             [
              0.6666666666666666,
              "#ed7953"
             ],
             [
              0.7777777777777778,
              "#fb9f3a"
             ],
             [
              0.8888888888888888,
              "#fdca26"
             ],
             [
              1,
              "#f0f921"
             ]
            ],
            "type": "histogram2dcontour"
           }
          ],
          "mesh3d": [
           {
            "colorbar": {
             "outlinewidth": 0,
             "ticks": ""
            },
            "type": "mesh3d"
           }
          ],
          "parcoords": [
           {
            "line": {
             "colorbar": {
              "outlinewidth": 0,
              "ticks": ""
             }
            },
            "type": "parcoords"
           }
          ],
          "pie": [
           {
            "automargin": true,
            "type": "pie"
           }
          ],
          "scatter": [
           {
            "marker": {
             "colorbar": {
              "outlinewidth": 0,
              "ticks": ""
             }
            },
            "type": "scatter"
           }
          ],
          "scatter3d": [
           {
            "line": {
             "colorbar": {
              "outlinewidth": 0,
              "ticks": ""
             }
            },
            "marker": {
             "colorbar": {
              "outlinewidth": 0,
              "ticks": ""
             }
            },
            "type": "scatter3d"
           }
          ],
          "scattercarpet": [
           {
            "marker": {
             "colorbar": {
              "outlinewidth": 0,
              "ticks": ""
             }
            },
            "type": "scattercarpet"
           }
          ],
          "scattergeo": [
           {
            "marker": {
             "colorbar": {
              "outlinewidth": 0,
              "ticks": ""
             }
            },
            "type": "scattergeo"
           }
          ],
          "scattergl": [
           {
            "marker": {
             "colorbar": {
              "outlinewidth": 0,
              "ticks": ""
             }
            },
            "type": "scattergl"
           }
          ],
          "scattermapbox": [
           {
            "marker": {
             "colorbar": {
              "outlinewidth": 0,
              "ticks": ""
             }
            },
            "type": "scattermapbox"
           }
          ],
          "scatterpolar": [
           {
            "marker": {
             "colorbar": {
              "outlinewidth": 0,
              "ticks": ""
             }
            },
            "type": "scatterpolar"
           }
          ],
          "scatterpolargl": [
           {
            "marker": {
             "colorbar": {
              "outlinewidth": 0,
              "ticks": ""
             }
            },
            "type": "scatterpolargl"
           }
          ],
          "scatterternary": [
           {
            "marker": {
             "colorbar": {
              "outlinewidth": 0,
              "ticks": ""
             }
            },
            "type": "scatterternary"
           }
          ],
          "surface": [
           {
            "colorbar": {
             "outlinewidth": 0,
             "ticks": ""
            },
            "colorscale": [
             [
              0,
              "#0d0887"
             ],
             [
              0.1111111111111111,
              "#46039f"
             ],
             [
              0.2222222222222222,
              "#7201a8"
             ],
             [
              0.3333333333333333,
              "#9c179e"
             ],
             [
              0.4444444444444444,
              "#bd3786"
             ],
             [
              0.5555555555555556,
              "#d8576b"
             ],
             [
              0.6666666666666666,
              "#ed7953"
             ],
             [
              0.7777777777777778,
              "#fb9f3a"
             ],
             [
              0.8888888888888888,
              "#fdca26"
             ],
             [
              1,
              "#f0f921"
             ]
            ],
            "type": "surface"
           }
          ],
          "table": [
           {
            "cells": {
             "fill": {
              "color": "#EBF0F8"
             },
             "line": {
              "color": "white"
             }
            },
            "header": {
             "fill": {
              "color": "#C8D4E3"
             },
             "line": {
              "color": "white"
             }
            },
            "type": "table"
           }
          ]
         },
         "layout": {
          "annotationdefaults": {
           "arrowcolor": "#2a3f5f",
           "arrowhead": 0,
           "arrowwidth": 1
          },
          "autotypenumbers": "strict",
          "coloraxis": {
           "colorbar": {
            "outlinewidth": 0,
            "ticks": ""
           }
          },
          "colorscale": {
           "diverging": [
            [
             0,
             "#8e0152"
            ],
            [
             0.1,
             "#c51b7d"
            ],
            [
             0.2,
             "#de77ae"
            ],
            [
             0.3,
             "#f1b6da"
            ],
            [
             0.4,
             "#fde0ef"
            ],
            [
             0.5,
             "#f7f7f7"
            ],
            [
             0.6,
             "#e6f5d0"
            ],
            [
             0.7,
             "#b8e186"
            ],
            [
             0.8,
             "#7fbc41"
            ],
            [
             0.9,
             "#4d9221"
            ],
            [
             1,
             "#276419"
            ]
           ],
           "sequential": [
            [
             0,
             "#0d0887"
            ],
            [
             0.1111111111111111,
             "#46039f"
            ],
            [
             0.2222222222222222,
             "#7201a8"
            ],
            [
             0.3333333333333333,
             "#9c179e"
            ],
            [
             0.4444444444444444,
             "#bd3786"
            ],
            [
             0.5555555555555556,
             "#d8576b"
            ],
            [
             0.6666666666666666,
             "#ed7953"
            ],
            [
             0.7777777777777778,
             "#fb9f3a"
            ],
            [
             0.8888888888888888,
             "#fdca26"
            ],
            [
             1,
             "#f0f921"
            ]
           ],
           "sequentialminus": [
            [
             0,
             "#0d0887"
            ],
            [
             0.1111111111111111,
             "#46039f"
            ],
            [
             0.2222222222222222,
             "#7201a8"
            ],
            [
             0.3333333333333333,
             "#9c179e"
            ],
            [
             0.4444444444444444,
             "#bd3786"
            ],
            [
             0.5555555555555556,
             "#d8576b"
            ],
            [
             0.6666666666666666,
             "#ed7953"
            ],
            [
             0.7777777777777778,
             "#fb9f3a"
            ],
            [
             0.8888888888888888,
             "#fdca26"
            ],
            [
             1,
             "#f0f921"
            ]
           ]
          },
          "colorway": [
           "#636efa",
           "#EF553B",
           "#00cc96",
           "#ab63fa",
           "#FFA15A",
           "#19d3f3",
           "#FF6692",
           "#B6E880",
           "#FF97FF",
           "#FECB52"
          ],
          "font": {
           "color": "#2a3f5f"
          },
          "geo": {
           "bgcolor": "white",
           "lakecolor": "white",
           "landcolor": "#E5ECF6",
           "showlakes": true,
           "showland": true,
           "subunitcolor": "white"
          },
          "hoverlabel": {
           "align": "left"
          },
          "hovermode": "closest",
          "mapbox": {
           "style": "light"
          },
          "paper_bgcolor": "white",
          "plot_bgcolor": "#E5ECF6",
          "polar": {
           "angularaxis": {
            "gridcolor": "white",
            "linecolor": "white",
            "ticks": ""
           },
           "bgcolor": "#E5ECF6",
           "radialaxis": {
            "gridcolor": "white",
            "linecolor": "white",
            "ticks": ""
           }
          },
          "scene": {
           "xaxis": {
            "backgroundcolor": "#E5ECF6",
            "gridcolor": "white",
            "gridwidth": 2,
            "linecolor": "white",
            "showbackground": true,
            "ticks": "",
            "zerolinecolor": "white"
           },
           "yaxis": {
            "backgroundcolor": "#E5ECF6",
            "gridcolor": "white",
            "gridwidth": 2,
            "linecolor": "white",
            "showbackground": true,
            "ticks": "",
            "zerolinecolor": "white"
           },
           "zaxis": {
            "backgroundcolor": "#E5ECF6",
            "gridcolor": "white",
            "gridwidth": 2,
            "linecolor": "white",
            "showbackground": true,
            "ticks": "",
            "zerolinecolor": "white"
           }
          },
          "shapedefaults": {
           "line": {
            "color": "#2a3f5f"
           }
          },
          "ternary": {
           "aaxis": {
            "gridcolor": "white",
            "linecolor": "white",
            "ticks": ""
           },
           "baxis": {
            "gridcolor": "white",
            "linecolor": "white",
            "ticks": ""
           },
           "bgcolor": "#E5ECF6",
           "caxis": {
            "gridcolor": "white",
            "linecolor": "white",
            "ticks": ""
           }
          },
          "title": {
           "x": 0.05
          },
          "xaxis": {
           "automargin": true,
           "gridcolor": "white",
           "linecolor": "white",
           "ticks": "",
           "title": {
            "standoff": 15
           },
           "zerolinecolor": "white",
           "zerolinewidth": 2
          },
          "yaxis": {
           "automargin": true,
           "gridcolor": "white",
           "linecolor": "white",
           "ticks": "",
           "title": {
            "standoff": 15
           },
           "zerolinecolor": "white",
           "zerolinewidth": 2
          }
         }
        },
        "title": {
         "text": "3d TSNE Plot for Clusters"
        },
        "width": 900
       }
      },
      "text/html": [
       "<div>                            <div id=\"a6ced8bb-c28e-4e37-a181-ea491f06597d\" class=\"plotly-graph-div\" style=\"height:800px; width:900px;\"></div>            <script type=\"text/javascript\">                require([\"plotly\"], function(Plotly) {                    window.PLOTLYENV=window.PLOTLYENV || {};                                    if (document.getElementById(\"a6ced8bb-c28e-4e37-a181-ea491f06597d\")) {                    Plotly.newPlot(                        \"a6ced8bb-c28e-4e37-a181-ea491f06597d\",                        [{\"customdata\": [[null], [423678311.0], [454984073.6667], [510871643.6959001], [1074209423.1547], [803877851.4614997], [319691422.1614], [910584281.5209999], [433219647.98710006], [1164621093.5215], [766171118.2041999], [822446892.6213001], [650900764.5673002], [468129422.2925], [716186008.0729003], [911564334.5165999], [877062301.2766997], [1363672735.907099], [585100322.5569999], [1946545686.4424007], [231359109.653], [656733903.8346999], [661668956.4976002], [486775562.7856], [1639873025.5622], [548844535.0493], [1604784067.2512999], [512483945.81329995], [595693511.7448001], [1221876719.8955998], [690713945.8333], [947365941.1408999], [1004070734.6649002], [1069967101.174], [664389107.7104999], [393079391.5], [1333924098.2401001], [384022543.7564], [752686689.2569001], [959322286.2156998], [803536031.7170999], [739035149.013], [1278850248.2944007], [467374216.3], [963880366.9252998], [1251509973.5224], [338593974.44079995], [222658481.0], [676749694.6448002], [564055066.6308], [811685985.5058001], [617250922.1316998], [1268647712.5110998], [1305667712.7896], [597142296.1273], [467390892.16709995], [518904031.7676], [561044579.3220999], [413500696.0], [515782289.2390999], [1076397269.7009], [646307708.2104], [778009849.7458999], [392414105.9936001], [815136333.3887999], [457451654.0325001], [923168809.9266001], [980509027.6268998], [562096760.6], [306930979.765], [419339432.5997999], [1108835405.5988], [799594195.928], [922135649.0012], [976254863.1318002], [844377199.405], [425764712.9116], [569898220.072], [690722046.579], [1477278997.0577002], [1210704291.0865], [1495054312.7382], [764773964.407], [655600856.9059], [641204756.6255001], [846561426.7871], [1042288905.1294999], [1301694284.7874], [748638776.6263], [1160743311.5015001], [1269881528.3039002], [660710326.0], [1238840838.0685997], [626035612.7858], [776550497.6666], [828762099.7712001], [706115921.9305999], [491619166.9649], [483765370.3333], [635534919.9069], [648294652.5291001], [815194447.605]], \"hovertemplate\": \"Cluster=Cluster 0<br>0=%{x}<br>1=%{y}<br>2=%{z}<br>Feature=%{customdata[0]}<extra></extra>\", \"legendgroup\": \"Cluster 0\", \"marker\": {\"color\": \"#636efa\", \"opacity\": 0.7, \"symbol\": \"circle\"}, \"mode\": \"markers\", \"name\": \"Cluster 0\", \"scene\": \"scene\", \"showlegend\": true, \"type\": \"scatter3d\", \"x\": [-85.89923095703125, -5.627274990081787, -65.4615478515625, -20.242725372314453, -49.96852493286133, -53.95825958251953, -6.468657970428467, -2.8016018867492676, 62.34785079956055, -69.24130249023438, -33.081275939941406, -16.92533302307129, 1.3963345289230347, 13.38884162902832, -40.079689025878906, 83.00465393066406, -5.78806209564209, -0.8131775259971619, -6.522243499755859, -19.13827133178711, 11.419395446777344, -29.176708221435547, -36.4640007019043, 11.380012512207031, -23.892662048339844, 12.517374992370605, -12.391512870788574, 32.672645568847656, -6.551577091217041, -8.452877044677734, -39.32005310058594, -22.80646514892578, 40.050148010253906, -66.82530975341797, 10.709653854370117, -3.711968421936035, -40.660675048828125, -19.160356521606445, -45.508155822753906, -48.5609016418457, 9.722504615783691, -5.656147480010986, -7.0186944007873535, -22.63934898376465, -19.429149627685547, 14.003094673156738, -77.792724609375, -12.39998722076416, 9.57945442199707, -1.38479745388031, -33.9426155090332, 66.17285919189453, -29.622041702270508, -30.799907684326172, 12.303730010986328, -30.823989868164062, -69.86541748046875, 59.28889083862305, -66.4803237915039, -34.352012634277344, 74.4373550415039, 47.262603759765625, -1.208556056022644, -39.959354400634766, -5.294968605041504, -75.90660858154297, -40.74806213378906, -31.057985305786133, 7.190443992614746, -20.928855895996094, -18.380844116210938, 78.43504333496094, -27.121822357177734, -54.84587097167969, 62.145606994628906, 45.47502136230469, -19.728981018066406, -2.4847049713134766, -15.855762481689453, -2.0457630157470703, -27.782102584838867, 13.2144775390625, -96.30176544189453, 73.40960693359375, -23.06936264038086, 74.3603286743164, -30.61165428161621, -110.88777923583984, -47.626163482666016, -1.287613868713379, -19.50832748413086, -22.024524688720703, -20.90678596496582, -54.153377532958984, -1.9944511651992798, 52.95582962036133, -15.580684661865234, -11.865775108337402, -38.27521514892578, 62.65995788574219, 45.79494857788086, -123.80994415283203], \"y\": [72.35826873779297, -50.12760925292969, 75.87943267822266, -39.93275451660156, -39.22458267211914, -43.73776626586914, -54.979705810546875, -30.36854362487793, -38.16424560546875, -41.17893981933594, 37.946659088134766, 124.51715850830078, -102.9974594116211, -58.843040466308594, -16.454662322998047, -22.96538543701172, -83.26112365722656, -41.09010314941406, -37.086387634277344, -57.110267639160156, 7.900244235992432, -33.65987014770508, -81.8671875, -68.31947326660156, -70.79794311523438, -13.610723495483398, -98.60475158691406, 17.76600456237793, -71.36161804199219, -68.67498016357422, -100.08415985107422, -34.690093994140625, -1.4934062957763672, -35.04672622680664, -82.73567962646484, -15.175437927246094, -79.33940124511719, -72.0673599243164, -83.02877044677734, -60.314720153808594, -11.27807903289795, -31.09330177307129, -13.067428588867188, -80.28335571289062, -13.809802055358887, -28.98679542541504, -88.7057876586914, -90.08104705810547, -48.18675231933594, -64.28289031982422, -62.15105056762695, -28.622013092041016, -48.518707275390625, -87.88784790039062, -92.2933578491211, -27.41615104675293, -58.77301025390625, 6.390220642089844, -60.24504089355469, -100.33628845214844, 45.35556411743164, -13.21347427368164, -86.76119232177734, -51.652225494384766, 71.17211151123047, -8.965392112731934, -59.267578125, -46.022003173828125, -32.76588821411133, -88.71322631835938, -46.07143783569336, -2.4381868839263916, -93.7761001586914, -52.02992248535156, -3.7102456092834473, -27.519786834716797, -109.78353881835938, -43.66807174682617, -103.24806213378906, 2.8795506954193115, -0.04767625406384468, -31.408206939697266, -50.290061950683594, -24.151124954223633, -24.11027717590332, -4.179059982299805, -70.4190444946289, 5.951247692108154, -19.36571502685547, -94.49061584472656, -90.90768432617188, -64.42003631591797, -6.888439178466797, -34.0654411315918, -20.946388244628906, -10.022911071777344, -29.605987548828125, -109.03690338134766, -37.851539611816406, -15.235515594482422, 8.714791297912598, -4.07350492477417], \"z\": [30.523788452148438, -41.44890213012695, 40.844825744628906, -53.7573127746582, 75.81749725341797, 53.6462516784668, 39.81301498413086, 85.474609375, 53.6510009765625, 68.11247253417969, 98.4213638305664, 30.236774444580078, 50.57997131347656, 57.96901321411133, 107.64424896240234, 61.346885681152344, 41.74592208862305, 60.031585693359375, -0.7237498760223389, -13.928894996643066, 56.25577163696289, 115.68238830566406, 21.500688552856445, 38.8960075378418, 40.22810363769531, 86.55014038085938, -13.49005126953125, 97.208984375, 23.265525817871094, 57.74489212036133, 7.209042549133301, -15.192375183105469, 59.205692291259766, 88.70008850097656, 57.57020568847656, 71.89273071289062, -28.81039047241211, -74.3648452758789, -6.870400428771973, 74.5802230834961, 109.72842407226562, 111.31590270996094, 99.05025482177734, -17.06892204284668, 117.54922485351562, 71.4454574584961, 24.74913787841797, 62.72978210449219, 78.51252746582031, -25.771656036376953, 93.51541900634766, 75.69502258300781, 77.5728530883789, -55.957801818847656, 34.114723205566406, 74.79338073730469, 82.16059112548828, 55.89900207519531, 60.14580535888672, -14.257472038269043, 58.274391174316406, 44.12064743041992, -55.32805633544922, 111.25811004638672, -75.25047302246094, 111.73709106445312, -17.935251235961914, -32.55839920043945, -36.49308776855469, 3.51643967628479, 99.26443481445312, 49.664459228515625, 46.95301818847656, 93.95758819580078, 33.38993835449219, 63.92001724243164, 4.730198383331299, -20.85276985168457, -40.813079833984375, 89.10320281982422, 101.30824279785156, 98.93670654296875, 10.73941707611084, 40.50077438354492, 95.9076156616211, 73.09941864013672, 1.5036792755126953, 10.878440856933594, 87.07563781738281, 17.51486587524414, 27.3122501373291, -36.30411148071289, 81.76493072509766, 107.4358901977539, -17.90874671936035, 77.8783950805664, -34.168296813964844, 33.91133117675781, 94.13016510009766, 58.0106201171875, 40.07051467895508, -71.30517578125]}, {\"customdata\": [[1120210013.9105], [1038609976.6796998], [407449876.6665], [989039915.4806002], [584267337.9401999], [1036811206.0792998], [619318226.9077001], [822171077.6913998], [266602911.26400006], [313248156.8835], [558361719.8284], [497666021.0], [573058942.5], [689942317.1189001], [502829989.1000999], [481824968.0], [643101697.7714001], [1334471121.8870997], [1198623565.779], [256500155.879], [426202388.43289995], [236508211.5], [360549196.5678], [734963580.1779001], [1138652163.3837996], [804725263.7512003], [1198396642.388], [707863405.5951], [870815777.0], [601784402.4365001], [1261300284.6283998], [1169364296.2509003], [420595017.9760001], [814491500.1788], [1264066725.2656], [668177864.7501], [431857115.2647], [629466842.0], [605180801.141], [1317090927.3523996], [688385520.2087], [728796501.4586002], [1249078174.933], [1017714154.7754003], [978670349.7655998], [915407526.6067], [1134115409.7233], [1196780448.4078999], [914073525.1349998], [916159089.2551998], [610284613.257], [919051528.3386999], [816767478.9854], [686799015.0436], [1200281657.5049996], [698669399.9336], [1041173202.9808], [462872555.533], [842079794.5753999], [946285681.9358003], [383583600.4772], [776987786.7663], [1988502924.024199], [863907921.6895998], [829719219.1971], [438096417.8522001], [565531149.8959999], [233675398.06230003], [759757671.3715], [527105279.12259984], [1309677292.6081007], [621042508.1495], [1876968376.9563007], [911519953.7163002], [905863662.6653999], [1113355206.7336998], [543883657.8899], [801690042.9162], [1012136370.1281003], [578876465.9920001], [1108002036.2167006], [451921677.143], [657377908.9419999], [1215017819.746], [999067352.8643], [362450015.04370004], [327783377.0], [536027858.8508999], [384224905.7232], [576464014.6334], [685773467.8024998], [458537177.94929993], [462235879.4983], [759866119.4906999], [703413314.6466999], [773083948.8960001], [822074196.9736998], [1308067315.4334002], [898082177.6540003], [467056188.0106], [2039309795.3119], [673824625.1828], [1000566465.531], [674888485.0566], [489993922.8906], [493160729.8334], [824109424.0454], [785372857.7037], [851522767.5877999], [1505714563.4963], [441706589.553], [699858456.9185], [890767965.9209], [1191857875.7558005], [929912787.4232001], [613668804.0], [1069079402.6281999], [554261527.2014999], [469904820.9618999], [557007539.882], [791763232.5484998], [634563724.9027001], [907003000.1725999], [576107202.0], [485005843.6687001], [900759999.3516003], [838459301.8989998], [957311751.9592004], [792259542.3900002], [893233052.3929], [1407608673.3586], [615562047.9184], [476319957.0]], \"hovertemplate\": \"Cluster=Cluster 1<br>0=%{x}<br>1=%{y}<br>2=%{z}<br>Feature=%{customdata[0]}<extra></extra>\", \"legendgroup\": \"Cluster 1\", \"marker\": {\"color\": \"#EF553B\", \"opacity\": 0.7, \"symbol\": \"circle\"}, \"mode\": \"markers\", \"name\": \"Cluster 1\", \"scene\": \"scene\", \"showlegend\": true, \"type\": \"scatter3d\", \"x\": [-10.641005516052246, -75.03559112548828, -27.763927459716797, -60.2828254699707, -48.628536224365234, -76.50415802001953, -86.92135620117188, 4.628428936004639, -85.03247833251953, -36.02593231201172, 5.310144424438477, -92.64623260498047, -44.279449462890625, 20.608797073364258, 8.606800079345703, -80.16399383544922, 7.494522571563721, -56.926734924316406, -103.24308013916016, -30.181961059570312, -73.2564468383789, -39.718780517578125, -75.0427474975586, -3.4240078926086426, -74.82213592529297, -57.03573226928711, -106.09864044189453, -55.31781005859375, -65.15582275390625, -43.16580581665039, -56.81914520263672, -51.4598503112793, -53.36796188354492, -105.86469268798828, -55.191810607910156, -90.8368911743164, -84.52836608886719, -26.8493595123291, -80.18209838867188, -23.028121948242188, -43.604461669921875, -78.55986022949219, -43.22404479980469, -80.00897979736328, -78.39009094238281, -57.73103332519531, -88.21859741210938, 64.0252456665039, -6.940552711486816, -73.82691955566406, -4.830404281616211, -72.51775360107422, -36.43808364868164, 9.806622505187988, 78.63101959228516, -67.01252746582031, -27.843013763427734, -107.26483917236328, -94.76373291015625, -76.05984497070312, -97.14381408691406, -68.53424072265625, -51.55656051635742, -78.10708618164062, -107.28826904296875, -109.70333099365234, -95.25518035888672, -94.0368881225586, 1.48662531375885, -88.73351287841797, -18.72215461730957, -5.793356895446777, -105.24104309082031, -69.15087127685547, 12.641319274902344, -98.90050506591797, -44.556034088134766, -24.06233024597168, 11.390128135681152, -26.69170570373535, -44.25531005859375, -90.75392150878906, -85.34793090820312, 65.96139526367188, -92.0339584350586, 27.640005111694336, -61.069068908691406, -24.6895809173584, 17.976789474487305, -21.128925323486328, -107.42417907714844, -78.75044250488281, -39.82518005371094, -85.56075286865234, 52.71467208862305, -84.22247314453125, -11.929194450378418, -58.968074798583984, -55.62855529785156, -60.82758712768555, 46.209022521972656, -72.82649993896484, -83.85782623291016, -44.85129928588867, -75.17264556884766, 18.29884147644043, -86.62074279785156, 34.631229400634766, -77.0409164428711, 1.7815896272659302, -61.154361724853516, -91.66657257080078, -70.15828704833984, -42.668174743652344, 10.814337730407715, -97.30838012695312, 13.837336540222168, -27.46776008605957, 25.696277618408203, -8.668989181518555, -2.363349437713623, -7.20985221862793, -97.59691619873047, 46.8245735168457, -105.30427551269531, -85.97200012207031, -40.32130813598633, 2.0839221477508545, 16.715917587280273, -88.26338958740234, 25.97757911682129, -31.569725036621094, -17.386398315429688], \"y\": [26.88548469543457, 22.37784194946289, 79.99968719482422, 72.65843200683594, 57.424983978271484, -93.52633666992188, -9.838927268981934, 66.3031005859375, 46.05784606933594, -21.926748275756836, 56.29534149169922, 26.420082092285156, -6.703927040100098, 45.88854217529297, 31.048738479614258, -2.5192627906799316, 36.07144546508789, 13.423340797424316, -8.23287582397461, 12.490076065063477, -34.43062210083008, 80.74861907958984, 17.31027603149414, 36.26930618286133, -41.79153823852539, 83.10710906982422, 37.19562530517578, 21.886045455932617, 61.540157318115234, 64.0851058959961, -22.06610107421875, -41.31756591796875, 43.61431884765625, -6.9568986892700195, 19.313005447387695, 25.545194625854492, 43.913177490234375, 57.36837387084961, 24.269472122192383, -0.9993435144424438, -3.357032060623169, 74.61958312988281, 17.183435440063477, 43.601097106933594, 9.805965423583984, -15.412989616394043, -43.7134895324707, -64.88068389892578, 69.05288696289062, -62.60810852050781, 30.947223663330078, 56.182064056396484, -17.58745765686035, 48.28321838378906, -67.71324157714844, -23.3802547454834, 20.899660110473633, 12.904474258422852, 31.14004135131836, -30.29441261291504, -42.8931884765625, 36.2596549987793, -18.80525016784668, -4.449042320251465, -10.097235679626465, 10.3043851852417, 60.931583404541016, 1.2948967218399048, 78.45281219482422, 26.81716537475586, 87.193115234375, 44.39292526245117, -29.45268440246582, 30.865339279174805, 34.24292755126953, -8.739620208740234, 1.8588632345199585, 66.6011962890625, 60.7872314453125, 80.08426666259766, 96.41868591308594, -22.830598831176758, 94.22958374023438, 31.56144905090332, 9.848819732666016, 36.856624603271484, 51.11018371582031, 41.72953414916992, 50.82695007324219, -7.780501365661621, -23.81981658935547, 63.891624450683594, 7.742004871368408, -21.69568634033203, -30.764490127563477, -23.829418182373047, 118.17157745361328, 40.202857971191406, -28.844135284423828, 1.305591344833374, -63.37468719482422, -11.909995079040527, -14.183000564575195, 68.97857666015625, 37.739437103271484, 42.49879837036133, -54.44384002685547, 65.1814193725586, -14.674399375915527, 67.62589263916016, -13.072619438171387, 1.3480775356292725, 32.25794982910156, 29.658306121826172, 16.850975036621094, 11.411388397216797, 18.146825790405273, 1.1407917737960815, 23.953481674194336, 71.54027557373047, 49.07292556762695, 53.46721267700195, -29.24970054626465, -83.88999938964844, 31.09751319885254, -31.172714233398438, 28.8247127532959, 13.026298522949219, 242.72389221191406, 47.36334228515625, 62.19594955444336, 45.88922119140625, 52.31301498413086], \"z\": [-8.755452156066895, 57.785850524902344, -37.030616760253906, -21.931137084960938, -11.03013801574707, -22.902637481689453, -32.34846115112305, 53.36481857299805, -46.70003128051758, 7.569070339202881, -35.856719970703125, 47.37131881713867, -11.399245262145996, 2.4546926021575928, 8.521825790405273, -51.14976119995117, -10.134289741516113, 20.882007598876953, -45.814735412597656, 20.023984909057617, -6.857951641082764, -15.869508743286133, 78.46481323242188, -29.97175407409668, 41.34819030761719, -3.239081621170044, -24.702495574951172, 67.874755859375, 2.5462238788604736, -30.67693519592285, -0.2171381562948227, -66.44695281982422, 39.882049560546875, 75.52534484863281, 43.723655700683594, -33.701141357421875, -26.697086334228516, -1.620902419090271, -52.16960906982422, 37.28898620605469, 11.607463836669922, -9.989069938659668, 3.4391684532165527, 54.54042053222656, -32.92038345336914, 20.075302124023438, 77.25674438476562, 80.58753204345703, -3.9993033409118652, -28.16925048828125, 23.404438018798828, -16.60199546813965, 30.166160583496094, 22.060434341430664, 59.273231506347656, 53.1096076965332, 39.653343200683594, -29.76572608947754, 68.48956298828125, -28.328168869018555, 43.50540542602539, -12.195858001708984, -59.53571701049805, 52.928062438964844, -24.497373580932617, 54.273170471191406, -23.63163948059082, 37.79332733154297, -20.95718002319336, -12.984419822692871, -18.187034606933594, 5.277419567108154, 65.32415771484375, -33.2896842956543, 38.40941619873047, 55.66273880004883, 33.041778564453125, -19.745412826538086, -14.707510948181152, 0.923867404460907, 40.012542724609375, -11.115387916564941, -30.144088745117188, 86.90137481689453, 67.22712707519531, 22.90066909790039, -32.841243743896484, -19.12364959716797, 49.479087829589844, 17.33423614501953, 42.969032287597656, -36.576438903808594, 53.85753631591797, 38.264190673828125, -103.60355377197266, -47.97493362426758, -18.165847778320312, 59.23808288574219, -19.380966186523438, 0.28730493783950806, -79.31979370117188, -16.12310028076172, 72.2973861694336, 6.6442084312438965, 74.79185485839844, -25.849407196044922, 58.602603912353516, -4.446827411651611, 4.886222839355469, 31.18675994873047, -32.46631622314453, -15.587875366210938, 37.27204895019531, 27.380348205566406, -16.089614868164062, -49.12154006958008, 22.313098907470703, -1.0199592113494873, 0.46906957030296326, -36.8891487121582, 40.36810302734375, -17.628517150878906, -31.209352493286133, 57.70469284057617, -47.38253402709961, 57.84672546386719, 54.20085525512695, 3.699563980102539, 7.804903507232666, -5.5900139808654785, 34.69122314453125, 46.57032012939453, -36.470821380615234]}, {\"customdata\": [[1874296729.5358], [424179415.0], [1234217737.7556002], [1471505493.1983016], [540930837.333], [1282848053.8525999], [584955241.8602002], [1140355509.6644], [996026276.0], [477707817.9318], [1290233374.3125], [777764109.2959], [1885980155.6267009], [262413693.37639996], [482204992.0623], [290718459.9505], [913195998.346], [605603051.0], [1416623446.2125998], [955220800.6667], [786755352.9120998], [996036219.5338], [1131001863.9279], [1274327245.0180001], [835289764.2666], [1218366360.0148997], [719256086.4566002], [404766791.45719993], [960741046.0084999], [829448940.5689], [548287089.2142], [1426604282.5762005], [1041530085.8783001], [574438375.6909999], [306694268.0], [783271392.0971999], [429282595.4323001], [1624717242.2251005], [984695719.7760998], [585560570.2822998], [508325452.2], [852905861.5925999], [523499343.63199997], [523889395.0], [1587122413.2056003], [1118299470.0098994], [586849417.5984002], [1002260709.9547], [438050582.8333], [1048120296.5631], [1180317904.8852], [575834324.6928], [581236402.027], [1035170270.0628997], [1038554952.1249995], [600817385.9239], [679693170.1613998], [364284082.0], [1013070165.3360997]], \"hovertemplate\": \"Cluster=Cluster 2<br>0=%{x}<br>1=%{y}<br>2=%{z}<br>Feature=%{customdata[0]}<extra></extra>\", \"legendgroup\": \"Cluster 2\", \"marker\": {\"color\": \"#00cc96\", \"opacity\": 0.7, \"symbol\": \"circle\"}, \"mode\": \"markers\", \"name\": \"Cluster 2\", \"scene\": \"scene\", \"showlegend\": true, \"type\": \"scatter3d\", \"x\": [92.30290985107422, 41.89695739746094, 55.810970306396484, 27.551349639892578, 24.437257766723633, 28.317386627197266, -5.015384197235107, 73.03016662597656, 96.55497741699219, 101.8016586303711, 42.38935470581055, 101.21102142333984, 22.94386100769043, 71.98501586914062, 85.92546081542969, 74.94641876220703, 84.19681549072266, 52.116119384765625, -69.02500915527344, 38.5501708984375, 74.20606231689453, -69.50633239746094, 69.65775299072266, 84.98381805419922, 63.42937469482422, 61.77003860473633, 81.6781005859375, 83.22137451171875, 44.23978042602539, -13.910050392150879, 44.3270263671875, 74.08790588378906, 24.023056030273438, 64.3691635131836, 63.37356185913086, 100.05621337890625, 42.139034271240234, 72.4569091796875, 60.43053436279297, 38.50984573364258, 84.77152252197266, 91.81051635742188, 17.888242721557617, 46.756046295166016, 61.90614700317383, 45.75952911376953, 27.259645462036133, 100.23101806640625, 27.60018539428711, -36.373497009277344, -57.45784378051758, 118.09976959228516, 23.895326614379883, 28.96274757385254, -58.18064498901367, 48.99552917480469, 16.630651473999023, 75.74325561523438, -42.00757598876953], \"y\": [-57.9404411315918, -0.6956387162208557, -28.407398223876953, -5.902036666870117, -84.0418930053711, -20.984195709228516, 56.394161224365234, -101.21668243408203, -55.66222381591797, -33.66153335571289, -64.77197265625, -3.048909902572632, -55.49210739135742, -39.539119720458984, -37.97328567504883, -19.66733169555664, -37.64705276489258, -56.73385238647461, 20.895038604736328, -96.39380645751953, -56.206478118896484, -3.091101884841919, -72.92619323730469, -55.32621383666992, -37.41334533691406, -50.810977935791016, -36.836021423339844, -17.3134765625, -76.4222412109375, 29.11493492126465, -66.67009735107422, 26.593143463134766, -26.561634063720703, -30.87339210510254, -76.02376556396484, -22.48674964904785, -22.37963104248047, -51.68511962890625, -92.30877685546875, -39.47751998901367, -74.45394134521484, -35.012107849121094, -32.2916145324707, -16.599456787109375, -72.4046630859375, -86.48309326171875, -64.28711700439453, -11.758758544921875, -79.27056121826172, 35.702049255371094, -73.05242156982422, -15.061958312988281, -12.122162818908691, -42.47322463989258, 47.281673431396484, -96.4538345336914, 45.86509323120117, -20.370206832885742, -242.59239196777344], \"z\": [2.45208477973938, 19.58736801147461, -34.72869873046875, 35.363433837890625, -14.830583572387695, -2.8408615589141846, 84.04757690429688, -28.873830795288086, -18.981103897094727, -54.07103729248047, -24.48007583618164, -60.929012298583984, 11.928237915039062, -26.583715438842773, -5.913909435272217, -37.423805236816406, -68.86502838134766, -5.443020820617676, -88.45658111572266, -2.246975898742676, -13.874551773071289, -91.16023254394531, -32.5333366394043, -37.123416900634766, -6.904980659484863, -40.1124267578125, -47.74822235107422, -59.26536178588867, -3.854640245437622, 122.9902572631836, 15.588340759277344, 40.13026809692383, 34.8176155090332, -56.3450927734375, 7.829911708831787, -71.78038787841797, 26.152366638183594, 8.068312644958496, -7.0536699295043945, 14.133129119873047, -11.382384300231934, -26.785186767578125, 14.165022850036621, 7.505716323852539, -14.240683555603027, -23.753772735595703, -8.461552619934082, -42.244258880615234, 8.369241714477539, -112.62227630615234, 36.32891082763672, -54.184226989746094, 15.894384384155273, -6.361226558685303, -77.97789764404297, 21.364665985107422, 91.80243682861328, -16.727949142456055, 39.3409423828125]}, {\"customdata\": [[350896033.96680003], [608125665.0], [698567267.3971], [1197372963.4457996], [560433637.4572], [734067091.768], [791008794.4116], [631925694.1307999], [852974313.8837999], [696001248.1092999], [635328802.3419], [1404915007.27], [1042237047.5209], [766209360.2466], [771315283.6747999], [674380684.7863], [253577495.54709995], [663550012.0347], [628293081.416], [752055977.176], [578458725.75], [812170943.6929998], [1039503052.2722999], [531548929.3334], [922216620.8741001], [558049486.9505999], [814459607.1964998], [622637042.855], [1796778665.2555], [772137615.7865], [919038927.1364], [349908991.56969994], [997378619.5302001], [614040196.7794001], [1220390976.4309], [404861199.6397], [397945051.68376], [718609104.8334999], [931572407.9125003], [266418896.93350002], [364609804.9578999], [486305557.29129994], [970532958.2013], [990809308.5361], [530225528.9801], [532929245.64869994], [574321253.7484], [946367842.802], [1054730303.001], [523296292.5], [519250289.0], [463849408.3983001], [2370246101.6712003], [1289131466.8477], [841540175.7370001], [335799210.0989], [212674193.535], [634324113.4115], [369559949.5364001], [616178351.4707], [492472975.9787], [476208590.7251], [645784860.4860002], [1038790167.6832007], [500043112.9050001], [595450128.7409], [147502335.0], [711961280.1460003], [427715418.41110003], [284323922.7299001], [1442814788.7218006], [684973717.2682], [1005136740.7399999], [675799533.0], [1266455081.0529003], [481777417.0], [246980870.0073], [349915627.0], [597410616.0], [520704612.0], [954730257.1873001], [732281805.7708], [737470634.6410999], [588486260.344], [682044240.4861999], [260065697.33070004], [659716794.25], [645540855.6638001], [421427287.1329001], [349396786.90379995], [579252860.3333], [431841694.706], [327180283.26329994], [753615489.515], [590273306.0935999], [450022448.2671], [378420460.4118], [1001577914.4626001], [357800262.6833], [893136968.3176], [558301923.8277], [315225883.0402], [679629547.7758]], \"hovertemplate\": \"Cluster=Cluster 3<br>0=%{x}<br>1=%{y}<br>2=%{z}<br>Feature=%{customdata[0]}<extra></extra>\", \"legendgroup\": \"Cluster 3\", \"marker\": {\"color\": \"#ab63fa\", \"opacity\": 0.7, \"symbol\": \"circle\"}, \"mode\": \"markers\", \"name\": \"Cluster 3\", \"scene\": \"scene\", \"showlegend\": true, \"type\": \"scatter3d\", \"x\": [69.24149322509766, 32.373207092285156, 103.9278793334961, 101.51390838623047, 28.098007202148438, 29.55052947998047, 27.11225700378418, -22.328210830688477, -39.51508331298828, -21.49001693725586, 28.189311981201172, -8.041043281555176, 91.07518005371094, -31.194400787353516, 2.788658380508423, 47.31842041015625, 76.40191650390625, 51.1309928894043, 42.87776565551758, 62.2154541015625, -9.297826766967773, 43.27010726928711, -38.35017013549805, -15.160088539123535, -24.346384048461914, 31.995376586914062, -4.302507400512695, -1.6698368787765503, 26.689796447753906, -33.13081741333008, -8.119386672973633, 81.00418090820312, 55.28584289550781, 63.9952507019043, 9.839770317077637, 11.466278076171875, 71.5157470703125, 52.716697692871094, -84.27546691894531, 66.95687866210938, -105.78825378417969, 65.08539581298828, 39.568416595458984, 18.825563430786133, 10.889472007751465, -19.892440795898438, 69.40363311767578, 20.90692138671875, 47.37929153442383, 49.431480407714844, 28.498605728149414, 10.081437110900879, 4.052608966827393, 10.45431900024414, 97.5704116821289, 51.3036003112793, 12.653297424316406, 60.27041244506836, 63.62432861328125, -37.40790939331055, -26.3101863861084, -6.638357639312744, 85.2173843383789, -12.152442932128906, 52.26979446411133, 71.81124114990234, 48.982887268066406, 43.287925720214844, 67.61351776123047, 50.45011901855469, 89.48921203613281, 52.83597183227539, -20.466466903686523, 52.5897102355957, -27.975204467773438, 81.14136505126953, 15.45276165008545, 49.74546432495117, 101.44985961914062, 58.880409240722656, 20.033113479614258, 37.05055618286133, 35.32957458496094, 2.042661666870117, -4.255792140960693, 27.053104400634766, 68.92052459716797, 24.444780349731445, 28.610366821289062, 63.848751068115234, 39.986778259277344, 75.12823486328125, 78.00347900390625, 36.303672790527344, 27.133302688598633, 35.0137825012207, 87.90164947509766, -8.088571548461914, 71.39806365966797, -63.808040618896484, 87.69833374023438, -10.023628234863281, 88.12226104736328], \"y\": [30.981962203979492, -99.55883026123047, 68.4573745727539, 49.97910690307617, 99.22258758544922, -15.840450286865234, 30.466129302978516, 99.08879852294922, 115.68204498291016, 9.256935119628906, 31.914539337158203, -22.225107192993164, 68.9948501586914, -1.2322173118591309, 43.372779846191406, 70.62357330322266, 21.949018478393555, 88.36009216308594, -4.656899452209473, 10.135819435119629, -1.8364839553833008, 42.33249282836914, 3.531406879425049, 25.83957290649414, -14.78305721282959, 21.3526668548584, 84.4434585571289, 15.190556526184082, 70.07315063476562, 26.187175750732422, 3.1120975017547607, 59.39718246459961, 88.90850830078125, 106.79379272460938, -20.478439331054688, -5.529843330383301, 28.057735443115234, 11.507505416870117, -67.48883819580078, 70.0074462890625, 68.03520202636719, 49.3668098449707, 38.26345443725586, 94.70574188232422, 109.65066528320312, 15.137396812438965, 74.94691467285156, 77.33295440673828, 1.8062008619308472, 7.09375, 10.111125946044922, 100.99163818359375, 13.073811531066895, -7.220523357391357, 49.58445739746094, 97.43718719482422, -27.087387084960938, 32.119625091552734, -19.902788162231445, 20.019392013549805, -7.017961025238037, -4.092792987823486, 58.714115142822266, 37.1847038269043, 76.28560638427734, 88.30320739746094, 29.81450843811035, 18.473289489746094, 77.0246810913086, 28.477455139160156, 22.576047897338867, 33.16387939453125, 13.368915557861328, 81.30660247802734, 43.68232727050781, 37.71223068237305, 80.61005401611328, 108.04164123535156, 33.181583404541016, 13.409971237182617, 90.79765319824219, 17.73271942138672, 83.65865325927734, 89.77071380615234, -22.382394790649414, -66.9809799194336, 99.98560333251953, -126.38383483886719, 8.997395515441895, 31.8880672454834, 105.34600067138672, 54.539127349853516, 89.22722625732422, 83.61283874511719, 0.617759108543396, 90.56661224365234, 79.42008209228516, -2.4282684326171875, 13.638233184814453, 88.77230834960938, 85.24481964111328, 27.0278263092041, 40.41534423828125], \"z\": [9.2258882522583, -53.99728775024414, -13.949769020080566, 0.5130099058151245, 28.75132942199707, -93.69023895263672, -82.30630493164062, 67.57846069335938, 4.43275260925293, -69.16691589355469, -59.269622802734375, -93.82060241699219, -32.51816177368164, -54.38386917114258, -166.17662048339844, -38.67990493774414, -26.854137420654297, -22.84547233581543, -77.53602600097656, -72.33432006835938, -82.2354507446289, -73.4806900024414, -79.000732421875, -57.37519836425781, -74.88546752929688, -103.1995620727539, 45.25496292114258, -71.50907897949219, 55.54335403442383, -75.93399810791016, -182.0999298095703, 10.69409465789795, -46.422096252441406, -53.28055953979492, -107.70751190185547, -92.96065521240234, -50.35348129272461, -24.564931869506836, -4.231749534606934, -51.698280334472656, 1.2494478225708008, -1.0307302474975586, 67.26422882080078, 7.259638786315918, 20.954050064086914, -90.50048065185547, -11.28561019897461, 21.497079849243164, -56.13761901855469, -94.65817260742188, -60.23240661621094, 41.70625305175781, -98.5027847290039, -72.09732818603516, -25.858108520507812, -69.38211059570312, -85.1522216796875, -11.412575721740723, -156.2957000732422, -55.753135681152344, -95.70667266845703, -107.00787353515625, -10.184847831726074, -76.5196304321289, -66.22230529785156, -72.40930938720703, -56.79623794555664, -72.61028289794922, -31.733535766601562, -90.21804809570312, 2.8736636638641357, -36.012699127197266, -41.417545318603516, 12.535453796386719, -61.67483901977539, -9.6940336227417, 40.2412223815918, -34.28608703613281, -13.08486270904541, -44.66170883178711, 57.329532623291016, -41.65678787231445, -56.498714447021484, 23.636274337768555, -72.21775817871094, -57.57954406738281, -29.545419692993164, -0.6320246458053589, -85.758544921875, -72.08055114746094, -53.182071685791016, -27.65955924987793, -46.92009353637695, 40.37494659423828, -108.10152435302734, -36.07820510864258, -0.24173593521118164, -57.63066482543945, -7.246866703033447, -47.67816925048828, -19.84650993347168, 69.46038055419922, 13.894132614135742]}, {\"customdata\": [[259093601.76720005], [761640179.5730001], [916908480.1450999], [961646883.0011997], [1199980094.6602998], [763818139.5341002], [562669550.1732001], [443983195.3724], [1078355578.3846998], [552947115.6665], [1147669930.0689], [1704254745.3667002], [1113166067.8463998]], \"hovertemplate\": \"Cluster=Cluster 4<br>0=%{x}<br>1=%{y}<br>2=%{z}<br>Feature=%{customdata[0]}<extra></extra>\", \"legendgroup\": \"Cluster 4\", \"marker\": {\"color\": \"#FFA15A\", \"opacity\": 0.7, \"symbol\": \"circle\"}, \"mode\": \"markers\", \"name\": \"Cluster 4\", \"scene\": \"scene\", \"showlegend\": true, \"type\": \"scatter3d\", \"x\": [108.31861877441406, 134.60757446289062, 119.23735046386719, -128.19119262695312, -127.14563751220703, 128.50489807128906, 105.38321685791016, 117.86798095703125, 120.8192138671875, 115.87792205810547, 119.94684600830078, 109.68402862548828, 127.8623046875], \"y\": [-14.186205863952637, -12.993209838867188, -0.7132388353347778, -34.609195709228516, -55.69805908203125, -12.57503604888916, -14.399820327758789, -24.74217987060547, -22.302762985229492, 4.654865741729736, -28.07611083984375, -4.645505905151367, -6.304093360900879], \"z\": [19.879655838012695, -0.6717960834503174, 3.746565818786621, -11.850560188293457, -2.1474294662475586, 18.986242294311523, -0.3116001486778259, -34.21601104736328, -11.636282920837402, 25.611112594604492, 7.9148268699646, -22.57893943786621, -31.417558670043945]}],                        {\"height\": 800, \"legend\": {\"title\": {\"text\": \"Cluster\"}, \"tracegroupgap\": 0}, \"scene\": {\"domain\": {\"x\": [0.0, 1.0], \"y\": [0.0, 1.0]}, \"xaxis\": {\"title\": {\"text\": \"0\"}}, \"yaxis\": {\"title\": {\"text\": \"1\"}}, \"zaxis\": {\"title\": {\"text\": \"2\"}}}, \"template\": {\"data\": {\"bar\": [{\"error_x\": {\"color\": \"#2a3f5f\"}, \"error_y\": {\"color\": \"#2a3f5f\"}, \"marker\": {\"line\": {\"color\": \"#E5ECF6\", \"width\": 0.5}}, \"type\": \"bar\"}], \"barpolar\": [{\"marker\": {\"line\": {\"color\": \"#E5ECF6\", \"width\": 0.5}}, \"type\": \"barpolar\"}], \"carpet\": [{\"aaxis\": {\"endlinecolor\": \"#2a3f5f\", \"gridcolor\": \"white\", \"linecolor\": \"white\", \"minorgridcolor\": \"white\", \"startlinecolor\": \"#2a3f5f\"}, \"baxis\": {\"endlinecolor\": \"#2a3f5f\", \"gridcolor\": \"white\", \"linecolor\": \"white\", \"minorgridcolor\": \"white\", \"startlinecolor\": \"#2a3f5f\"}, \"type\": \"carpet\"}], \"choropleth\": [{\"colorbar\": {\"outlinewidth\": 0, \"ticks\": \"\"}, \"type\": \"choropleth\"}], \"contour\": [{\"colorbar\": {\"outlinewidth\": 0, \"ticks\": \"\"}, \"colorscale\": [[0.0, \"#0d0887\"], [0.1111111111111111, \"#46039f\"], [0.2222222222222222, \"#7201a8\"], [0.3333333333333333, \"#9c179e\"], [0.4444444444444444, \"#bd3786\"], [0.5555555555555556, \"#d8576b\"], [0.6666666666666666, \"#ed7953\"], [0.7777777777777778, \"#fb9f3a\"], [0.8888888888888888, \"#fdca26\"], [1.0, \"#f0f921\"]], \"type\": \"contour\"}], \"contourcarpet\": [{\"colorbar\": {\"outlinewidth\": 0, \"ticks\": \"\"}, \"type\": \"contourcarpet\"}], \"heatmap\": [{\"colorbar\": {\"outlinewidth\": 0, \"ticks\": \"\"}, \"colorscale\": [[0.0, \"#0d0887\"], [0.1111111111111111, \"#46039f\"], [0.2222222222222222, \"#7201a8\"], [0.3333333333333333, \"#9c179e\"], [0.4444444444444444, \"#bd3786\"], [0.5555555555555556, \"#d8576b\"], [0.6666666666666666, \"#ed7953\"], [0.7777777777777778, \"#fb9f3a\"], [0.8888888888888888, \"#fdca26\"], [1.0, \"#f0f921\"]], \"type\": \"heatmap\"}], \"heatmapgl\": [{\"colorbar\": {\"outlinewidth\": 0, \"ticks\": \"\"}, \"colorscale\": [[0.0, \"#0d0887\"], [0.1111111111111111, \"#46039f\"], [0.2222222222222222, \"#7201a8\"], [0.3333333333333333, \"#9c179e\"], [0.4444444444444444, \"#bd3786\"], [0.5555555555555556, \"#d8576b\"], [0.6666666666666666, \"#ed7953\"], [0.7777777777777778, \"#fb9f3a\"], [0.8888888888888888, \"#fdca26\"], [1.0, \"#f0f921\"]], \"type\": \"heatmapgl\"}], \"histogram\": [{\"marker\": {\"colorbar\": {\"outlinewidth\": 0, \"ticks\": \"\"}}, \"type\": \"histogram\"}], \"histogram2d\": [{\"colorbar\": {\"outlinewidth\": 0, \"ticks\": \"\"}, \"colorscale\": [[0.0, \"#0d0887\"], [0.1111111111111111, \"#46039f\"], [0.2222222222222222, \"#7201a8\"], [0.3333333333333333, \"#9c179e\"], [0.4444444444444444, \"#bd3786\"], [0.5555555555555556, \"#d8576b\"], [0.6666666666666666, \"#ed7953\"], [0.7777777777777778, \"#fb9f3a\"], [0.8888888888888888, \"#fdca26\"], [1.0, \"#f0f921\"]], \"type\": \"histogram2d\"}], \"histogram2dcontour\": [{\"colorbar\": {\"outlinewidth\": 0, \"ticks\": \"\"}, \"colorscale\": [[0.0, \"#0d0887\"], [0.1111111111111111, \"#46039f\"], [0.2222222222222222, \"#7201a8\"], [0.3333333333333333, \"#9c179e\"], [0.4444444444444444, \"#bd3786\"], [0.5555555555555556, \"#d8576b\"], [0.6666666666666666, \"#ed7953\"], [0.7777777777777778, \"#fb9f3a\"], [0.8888888888888888, \"#fdca26\"], [1.0, \"#f0f921\"]], \"type\": \"histogram2dcontour\"}], \"mesh3d\": [{\"colorbar\": {\"outlinewidth\": 0, \"ticks\": \"\"}, \"type\": \"mesh3d\"}], \"parcoords\": [{\"line\": {\"colorbar\": {\"outlinewidth\": 0, \"ticks\": \"\"}}, \"type\": \"parcoords\"}], \"pie\": [{\"automargin\": true, \"type\": \"pie\"}], \"scatter\": [{\"marker\": {\"colorbar\": {\"outlinewidth\": 0, \"ticks\": \"\"}}, \"type\": \"scatter\"}], \"scatter3d\": [{\"line\": {\"colorbar\": {\"outlinewidth\": 0, \"ticks\": \"\"}}, \"marker\": {\"colorbar\": {\"outlinewidth\": 0, \"ticks\": \"\"}}, \"type\": \"scatter3d\"}], \"scattercarpet\": [{\"marker\": {\"colorbar\": {\"outlinewidth\": 0, \"ticks\": \"\"}}, \"type\": \"scattercarpet\"}], \"scattergeo\": [{\"marker\": {\"colorbar\": {\"outlinewidth\": 0, \"ticks\": \"\"}}, \"type\": \"scattergeo\"}], \"scattergl\": [{\"marker\": {\"colorbar\": {\"outlinewidth\": 0, \"ticks\": \"\"}}, \"type\": \"scattergl\"}], \"scattermapbox\": [{\"marker\": {\"colorbar\": {\"outlinewidth\": 0, \"ticks\": \"\"}}, \"type\": \"scattermapbox\"}], \"scatterpolar\": [{\"marker\": {\"colorbar\": {\"outlinewidth\": 0, \"ticks\": \"\"}}, \"type\": \"scatterpolar\"}], \"scatterpolargl\": [{\"marker\": {\"colorbar\": {\"outlinewidth\": 0, \"ticks\": \"\"}}, \"type\": \"scatterpolargl\"}], \"scatterternary\": [{\"marker\": {\"colorbar\": {\"outlinewidth\": 0, \"ticks\": \"\"}}, \"type\": \"scatterternary\"}], \"surface\": [{\"colorbar\": {\"outlinewidth\": 0, \"ticks\": \"\"}, \"colorscale\": [[0.0, \"#0d0887\"], [0.1111111111111111, \"#46039f\"], [0.2222222222222222, \"#7201a8\"], [0.3333333333333333, \"#9c179e\"], [0.4444444444444444, \"#bd3786\"], [0.5555555555555556, \"#d8576b\"], [0.6666666666666666, \"#ed7953\"], [0.7777777777777778, \"#fb9f3a\"], [0.8888888888888888, \"#fdca26\"], [1.0, \"#f0f921\"]], \"type\": \"surface\"}], \"table\": [{\"cells\": {\"fill\": {\"color\": \"#EBF0F8\"}, \"line\": {\"color\": \"white\"}}, \"header\": {\"fill\": {\"color\": \"#C8D4E3\"}, \"line\": {\"color\": \"white\"}}, \"type\": \"table\"}]}, \"layout\": {\"annotationdefaults\": {\"arrowcolor\": \"#2a3f5f\", \"arrowhead\": 0, \"arrowwidth\": 1}, \"autotypenumbers\": \"strict\", \"coloraxis\": {\"colorbar\": {\"outlinewidth\": 0, \"ticks\": \"\"}}, \"colorscale\": {\"diverging\": [[0, \"#8e0152\"], [0.1, \"#c51b7d\"], [0.2, \"#de77ae\"], [0.3, \"#f1b6da\"], [0.4, \"#fde0ef\"], [0.5, \"#f7f7f7\"], [0.6, \"#e6f5d0\"], [0.7, \"#b8e186\"], [0.8, \"#7fbc41\"], [0.9, \"#4d9221\"], [1, \"#276419\"]], \"sequential\": [[0.0, \"#0d0887\"], [0.1111111111111111, \"#46039f\"], [0.2222222222222222, \"#7201a8\"], [0.3333333333333333, \"#9c179e\"], [0.4444444444444444, \"#bd3786\"], [0.5555555555555556, \"#d8576b\"], [0.6666666666666666, \"#ed7953\"], [0.7777777777777778, \"#fb9f3a\"], [0.8888888888888888, \"#fdca26\"], [1.0, \"#f0f921\"]], \"sequentialminus\": [[0.0, \"#0d0887\"], [0.1111111111111111, \"#46039f\"], [0.2222222222222222, \"#7201a8\"], [0.3333333333333333, \"#9c179e\"], [0.4444444444444444, \"#bd3786\"], [0.5555555555555556, \"#d8576b\"], [0.6666666666666666, \"#ed7953\"], [0.7777777777777778, \"#fb9f3a\"], [0.8888888888888888, \"#fdca26\"], [1.0, \"#f0f921\"]]}, \"colorway\": [\"#636efa\", \"#EF553B\", \"#00cc96\", \"#ab63fa\", \"#FFA15A\", \"#19d3f3\", \"#FF6692\", \"#B6E880\", \"#FF97FF\", \"#FECB52\"], \"font\": {\"color\": \"#2a3f5f\"}, \"geo\": {\"bgcolor\": \"white\", \"lakecolor\": \"white\", \"landcolor\": \"#E5ECF6\", \"showlakes\": true, \"showland\": true, \"subunitcolor\": \"white\"}, \"hoverlabel\": {\"align\": \"left\"}, \"hovermode\": \"closest\", \"mapbox\": {\"style\": \"light\"}, \"paper_bgcolor\": \"white\", \"plot_bgcolor\": \"#E5ECF6\", \"polar\": {\"angularaxis\": {\"gridcolor\": \"white\", \"linecolor\": \"white\", \"ticks\": \"\"}, \"bgcolor\": \"#E5ECF6\", \"radialaxis\": {\"gridcolor\": \"white\", \"linecolor\": \"white\", \"ticks\": \"\"}}, \"scene\": {\"xaxis\": {\"backgroundcolor\": \"#E5ECF6\", \"gridcolor\": \"white\", \"gridwidth\": 2, \"linecolor\": \"white\", \"showbackground\": true, \"ticks\": \"\", \"zerolinecolor\": \"white\"}, \"yaxis\": {\"backgroundcolor\": \"#E5ECF6\", \"gridcolor\": \"white\", \"gridwidth\": 2, \"linecolor\": \"white\", \"showbackground\": true, \"ticks\": \"\", \"zerolinecolor\": \"white\"}, \"zaxis\": {\"backgroundcolor\": \"#E5ECF6\", \"gridcolor\": \"white\", \"gridwidth\": 2, \"linecolor\": \"white\", \"showbackground\": true, \"ticks\": \"\", \"zerolinecolor\": \"white\"}}, \"shapedefaults\": {\"line\": {\"color\": \"#2a3f5f\"}}, \"ternary\": {\"aaxis\": {\"gridcolor\": \"white\", \"linecolor\": \"white\", \"ticks\": \"\"}, \"baxis\": {\"gridcolor\": \"white\", \"linecolor\": \"white\", \"ticks\": \"\"}, \"bgcolor\": \"#E5ECF6\", \"caxis\": {\"gridcolor\": \"white\", \"linecolor\": \"white\", \"ticks\": \"\"}}, \"title\": {\"x\": 0.05}, \"xaxis\": {\"automargin\": true, \"gridcolor\": \"white\", \"linecolor\": \"white\", \"ticks\": \"\", \"title\": {\"standoff\": 15}, \"zerolinecolor\": \"white\", \"zerolinewidth\": 2}, \"yaxis\": {\"automargin\": true, \"gridcolor\": \"white\", \"linecolor\": \"white\", \"ticks\": \"\", \"title\": {\"standoff\": 15}, \"zerolinecolor\": \"white\", \"zerolinewidth\": 2}}}, \"title\": {\"text\": \"3d TSNE Plot for Clusters\"}, \"width\": 900},                        {\"responsive\": true}                    ).then(function(){\n",
       "                            \n",
       "var gd = document.getElementById('a6ced8bb-c28e-4e37-a181-ea491f06597d');\n",
       "var x = new MutationObserver(function (mutations, observer) {{\n",
       "        var display = window.getComputedStyle(gd).display;\n",
       "        if (!display || display === 'none') {{\n",
       "            console.log([gd, 'removed!']);\n",
       "            Plotly.purge(gd);\n",
       "            observer.disconnect();\n",
       "        }}\n",
       "}});\n",
       "\n",
       "// Listen for the removal of the full notebook cells\n",
       "var notebookContainer = gd.closest('#notebook-container');\n",
       "if (notebookContainer) {{\n",
       "    x.observe(notebookContainer, {childList: true});\n",
       "}}\n",
       "\n",
       "// Listen for the clearing of the current output cell\n",
       "var outputEl = gd.closest('.output');\n",
       "if (outputEl) {{\n",
       "    x.observe(outputEl, {childList: true});\n",
       "}}\n",
       "\n",
       "                        })                };                });            </script>        </div>"
      ]
     },
     "metadata": {},
     "output_type": "display_data"
    }
   ],
   "source": [
    "# 3D graph of clusters\n",
    "plot_model(kmeans, plot = 'tsne')"
   ]
  },
  {
   "cell_type": "code",
   "execution_count": 152,
   "metadata": {
    "scrolled": false
   },
   "outputs": [
    {
     "data": {
      "image/png": "[encoded data removed]",
      "text/plain": [
       "<Figure size 576x396 with 1 Axes>"
      ]
     },
     "metadata": {},
     "output_type": "display_data"
    }
   ],
   "source": [
    "plot_model(kmeans, plot = 'silhouette')"
   ]
  },
  {
   "cell_type": "code",
   "execution_count": 153,
   "metadata": {
    "scrolled": false
   },
   "outputs": [
    {
     "data": {
      "image/png": "[encoded data removed]",
      "text/plain": [
       "<Figure size 576x396 with 2 Axes>"
      ]
     },
     "metadata": {},
     "output_type": "display_data"
    }
   ],
   "source": [
    "plot_model(kmeans, plot = 'distance')"
   ]
  },
  {
   "cell_type": "code",
   "execution_count": 154,
   "metadata": {
    "scrolled": true
   },
   "outputs": [
    {
     "data": {
      "application/vnd.plotly.v1+json": {
       "config": {
        "plotlyServerURL": "https://plot.ly"
       },
       "data": [
        {
         "alignmentgroup": "True",
         "bingroup": "x",
         "hovertemplate": "Cluster=%{x}<br>count=%{y}<extra></extra>",
         "legendgroup": "Cluster 0",
         "marker": {
          "color": "#636efa",
          "opacity": 0.7
         },
         "name": "Cluster 0",
         "offsetgroup": "Cluster 0",
         "orientation": "v",
         "showlegend": true,
         "type": "histogram",
         "x": [
          "Cluster 0",
          "Cluster 0",
          "Cluster 0",
          "Cluster 0",
          "Cluster 0",
          "Cluster 0",
          "Cluster 0",
          "Cluster 0",
          "Cluster 0",
          "Cluster 0",
          "Cluster 0",
          "Cluster 0",
          "Cluster 0",
          "Cluster 0",
          "Cluster 0",
          "Cluster 0",
          "Cluster 0",
          "Cluster 0",
          "Cluster 0",
          "Cluster 0",
          "Cluster 0",
          "Cluster 0",
          "Cluster 0",
          "Cluster 0",
          "Cluster 0",
          "Cluster 0",
          "Cluster 0",
          "Cluster 0",
          "Cluster 0",
          "Cluster 0",
          "Cluster 0",
          "Cluster 0",
          "Cluster 0",
          "Cluster 0",
          "Cluster 0",
          "Cluster 0",
          "Cluster 0",
          "Cluster 0",
          "Cluster 0",
          "Cluster 0",
          "Cluster 0",
          "Cluster 0",
          "Cluster 0",
          "Cluster 0",
          "Cluster 0",
          "Cluster 0",
          "Cluster 0",
          "Cluster 0",
          "Cluster 0",
          "Cluster 0",
          "Cluster 0",
          "Cluster 0",
          "Cluster 0",
          "Cluster 0",
          "Cluster 0",
          "Cluster 0",
          "Cluster 0",
          "Cluster 0",
          "Cluster 0",
          "Cluster 0",
          "Cluster 0",
          "Cluster 0",
          "Cluster 0",
          "Cluster 0",
          "Cluster 0",
          "Cluster 0",
          "Cluster 0",
          "Cluster 0",
          "Cluster 0",
          "Cluster 0",
          "Cluster 0",
          "Cluster 0",
          "Cluster 0",
          "Cluster 0",
          "Cluster 0",
          "Cluster 0",
          "Cluster 0",
          "Cluster 0",
          "Cluster 0",
          "Cluster 0",
          "Cluster 0",
          "Cluster 0",
          "Cluster 0",
          "Cluster 0",
          "Cluster 0",
          "Cluster 0",
          "Cluster 0",
          "Cluster 0",
          "Cluster 0",
          "Cluster 0",
          "Cluster 0",
          "Cluster 0",
          "Cluster 0",
          "Cluster 0",
          "Cluster 0",
          "Cluster 0",
          "Cluster 0",
          "Cluster 0",
          "Cluster 0",
          "Cluster 0",
          "Cluster 0",
          "Cluster 0"
         ],
         "xaxis": "x",
         "yaxis": "y"
        },
        {
         "alignmentgroup": "True",
         "customdata": [
          [
           978670349.7655998,
           609151,
           21,
           1472,
           1228
          ],
          [
           1000566465.531,
           562355,
           21,
           133,
           253
          ],
          [
           976254863.1318002,
           592026,
           21,
           133,
           253
          ],
          [
           1017714154.7754003,
           601989,
           21,
           133,
           253
          ],
          [
           803877851.4614997,
           475732,
           21,
           133,
           253
          ],
          [
           791008794.4116,
           499350,
           21,
           1424,
           1422
          ],
          [
           900759999.3516003,
           602254,
           21,
           1472,
           253
          ],
          [
           852974313.8837999,
           569417,
           21,
           668,
           126
          ],
          [
           1035170270.0628997,
           606735,
           21,
           133,
           253
          ],
          [
           792259542.3900002,
           459250,
           21,
           1472,
           253
          ],
          [
           822446892.6213001,
           539612,
           21,
           133,
           253
          ],
          [
           893233052.3929,
           585060,
           21,
           133,
           253
          ],
          [
           911564334.5165999,
           575057,
           21,
           133,
           253
          ],
          [
           890767965.9209,
           554923,
           21,
           133,
           253
          ],
          [
           824109424.0454,
           490982,
           21,
           1472,
           253
          ],
          [
           1042237047.5209,
           648086,
           21,
           133,
           253
          ],
          [
           910584281.5209999,
           578372,
           21,
           1472,
           253
          ],
          [
           877062301.2766997,
           580446,
           21,
           1472,
           253
          ],
          [
           1012136370.1281003,
           655256,
           21,
           1472,
           253
          ],
          [
           984695719.7760998,
           669925,
           21,
           133,
           253
          ],
          [
           997378619.5302001,
           616151,
           21,
           1472,
           253
          ],
          [
           822074196.9736998,
           508556,
           21,
           133,
           253
          ],
          [
           931572407.9125003,
           587910,
           21,
           133,
           253
          ],
          [
           898082177.6540003,
           579787,
           21,
           1472,
           253
          ],
          [
           913195998.346,
           549283,
           21,
           133,
           253
          ],
          [
           852905861.5925999,
           524289,
           21,
           719,
           253
          ],
          [
           955220800.6667,
           567332,
           21,
           133,
           253
          ],
          [
           961646883.0011997,
           585096,
           21,
           133,
           253
          ],
          [
           911519953.7163002,
           569055,
           21,
           133,
           253
          ],
          [
           905863662.6653999,
           542554,
           21,
           133,
           253
          ],
          [
           947365941.1408999,
           566547,
           21,
           133,
           253
          ],
          [
           1004070734.6649002,
           647744,
           21,
           668,
           253
          ],
          [
           1069967101.174,
           680764,
           21,
           133,
           253
          ],
          [
           801690042.9162,
           534364,
           21,
           1424,
           253
          ],
          [
           907003000.1725999,
           531143,
           21,
           133,
           253
          ],
          [
           851522767.5877999,
           520404,
           21,
           133,
           253
          ],
          [
           970532958.2013,
           589113,
           21,
           133,
           253
          ],
          [
           929912787.4232001,
           529409,
           21,
           668,
           126
          ],
          [
           959322286.2156998,
           566696,
           21,
           1472,
           253
          ],
          [
           803536031.7170999,
           476487,
           21,
           133,
           253
          ],
          [
           841540175.7370001,
           524344,
           21,
           719,
           253
          ],
          [
           835289764.2666,
           486535,
           21,
           133,
           253
          ],
          [
           842079794.5753999,
           480046,
           21,
           133,
           253
          ],
          [
           963880366.9252998,
           625916,
           21,
           133,
           253
          ],
          [
           829719219.1971,
           500621,
           21,
           133,
           253
          ],
          [
           863907921.6895998,
           525636,
           21,
           133,
           253
          ],
          [
           1038790167.6832007,
           665237,
           21,
           1472,
           253
          ],
          [
           915407526.6067,
           572098,
           21,
           133,
           253
          ],
          [
           870815777,
           542318,
           21,
           1472,
           253
          ],
          [
           996036219.5338,
           625681,
           21,
           427,
           253
          ],
          [
           814491500.1788,
           475779,
           21,
           1472,
           253
          ],
          [
           1038554952.1249995,
           605896,
           21,
           1472,
           253
          ],
          [
           811685985.5058001,
           499493,
           21,
           1472,
           253
          ],
          [
           919051528.3386999,
           548502,
           21,
           133,
           253
          ],
          [
           916908480.1450999,
           592223,
           21,
           1472,
           253
          ],
          [
           816767478.9854,
           550698,
           21,
           1472,
           253
          ],
          [
           799594195.928,
           531629,
           21,
           719,
           253
          ],
          [
           1069079402.6281999,
           635654,
           21,
           1472,
           253
          ],
          [
           791763232.5484998,
           475737,
           21,
           1472,
           253
          ],
          [
           954730257.1873001,
           548463,
           21,
           133,
           253
          ],
          [
           1038609976.6796998,
           600457,
           21,
           133,
           253
          ],
          [
           1076397269.7009,
           617432,
           21,
           133,
           253
          ],
          [
           893136968.3176,
           517405,
           21,
           133,
           253
          ],
          [
           815136333.3887999,
           492760,
           21,
           668,
           253
          ],
          [
           1001577914.4626001,
           624248,
           21,
           133,
           253
          ],
          [
           923168809.9266001,
           515347,
           21,
           133,
           253
          ],
          [
           980509027.6268998,
           576697,
           21,
           133,
           253
          ],
          [
           990809308.5361,
           574526,
           21,
           133,
           253
          ],
          [
           1005136740.7399999,
           586708,
           21,
           133,
           253
          ],
          [
           946367842.802,
           589358,
           21,
           133,
           253
          ],
          [
           822171077.6913998,
           508354,
           21,
           133,
           253
          ],
          [
           1054730303.001,
           640831,
           21,
           133,
           253
          ],
          [
           916159089.2551998,
           574453,
           21,
           719,
           253
          ],
          [
           804725263.7512003,
           510636,
           21,
           668,
           126
          ],
          [
           1074209423.1547,
           674925,
           21,
           668,
           253
          ],
          [
           1041530085.8783001,
           726815,
           21,
           133,
           253
          ],
          [
           946285681.9358003,
           590485,
           21,
           1472,
           253
          ],
          [
           1002260709.9547,
           670129,
           21,
           1472,
           253
          ],
          [
           914073525.1349998,
           538098,
           21,
           1472,
           253
          ],
          [
           844377199.405,
           587477,
           21,
           1424,
           253
          ],
          [
           829448940.5689,
           566641,
           21,
           133,
           253
          ],
          [
           846561426.7871,
           540691,
           21,
           133,
           253
          ],
          [
           960741046.0084999,
           641924,
           21,
           133,
           253
          ],
          [
           1041173202.9808,
           673919,
           21,
           133,
           253
          ],
          [
           828762099.7712001,
           523956,
           21,
           133,
           253
          ],
          [
           1042288905.1294999,
           688812,
           21,
           133,
           253
          ],
          [
           957311751.9592004,
           651012,
           21,
           133,
           253
          ],
          [
           996026276,
           594064,
           21,
           1472,
           253
          ],
          [
           814459607.1964998,
           529914,
           21,
           133,
           253
          ],
          [
           922216620.8741001,
           547313,
           21,
           668,
           253
          ],
          [
           922135649.0012,
           598720,
           21,
           1472,
           126
          ],
          [
           989039915.4806002,
           651087,
           21,
           668,
           253
          ],
          [
           838459301.8989998,
           536048,
           21,
           133,
           253
          ],
          [
           812170943.6929998,
           583166,
           21,
           133,
           253
          ],
          [
           1013070165.3360997,
           698716,
           21,
           133,
           253
          ],
          [
           1039503052.2722999,
           686275,
           21,
           133,
           253
          ],
          [
           999067352.8643,
           614409,
           21,
           719,
           253
          ],
          [
           919038927.1364,
           594560,
           21,
           1472,
           253
          ],
          [
           815194447.605,
           565139,
           21,
           133,
           253
          ],
          [
           1048120296.5631,
           602120,
           21,
           1472,
           253
          ],
          [
           1078355578.3846998,
           606877,
           21,
           1472,
           253
          ],
          [
           1036811206.0792998,
           669454,
           21,
           133,
           253
          ]
         ],
         "hovertemplate": "Cluster=%{x}<br>Total_Value=%{customdata[0]}<br>Total_Units=%{customdata[1]}<br>ProductFamily_ID=%{customdata[2]}<br>ProductBrand_ID=%{customdata[3]}<br>ProductName_ID=%{customdata[4]}<extra></extra>",
         "legendgroup": "Cluster 0",
         "marker": {
          "color": "#636efa"
         },
         "name": "Cluster 0",
         "notched": true,
         "offsetgroup": "Cluster 0",
         "showlegend": false,
         "type": "box",
         "x": [
          "Cluster 0",
          "Cluster 0",
          "Cluster 0",
          "Cluster 0",
          "Cluster 0",
          "Cluster 0",
          "Cluster 0",
          "Cluster 0",
          "Cluster 0",
          "Cluster 0",
          "Cluster 0",
          "Cluster 0",
          "Cluster 0",
          "Cluster 0",
          "Cluster 0",
          "Cluster 0",
          "Cluster 0",
          "Cluster 0",
          "Cluster 0",
          "Cluster 0",
          "Cluster 0",
          "Cluster 0",
          "Cluster 0",
          "Cluster 0",
          "Cluster 0",
          "Cluster 0",
          "Cluster 0",
          "Cluster 0",
          "Cluster 0",
          "Cluster 0",
          "Cluster 0",
          "Cluster 0",
          "Cluster 0",
          "Cluster 0",
          "Cluster 0",
          "Cluster 0",
          "Cluster 0",
          "Cluster 0",
          "Cluster 0",
          "Cluster 0",
          "Cluster 0",
          "Cluster 0",
          "Cluster 0",
          "Cluster 0",
          "Cluster 0",
          "Cluster 0",
          "Cluster 0",
          "Cluster 0",
          "Cluster 0",
          "Cluster 0",
          "Cluster 0",
          "Cluster 0",
          "Cluster 0",
          "Cluster 0",
          "Cluster 0",
          "Cluster 0",
          "Cluster 0",
          "Cluster 0",
          "Cluster 0",
          "Cluster 0",
          "Cluster 0",
          "Cluster 0",
          "Cluster 0",
          "Cluster 0",
          "Cluster 0",
          "Cluster 0",
          "Cluster 0",
          "Cluster 0",
          "Cluster 0",
          "Cluster 0",
          "Cluster 0",
          "Cluster 0",
          "Cluster 0",
          "Cluster 0",
          "Cluster 0",
          "Cluster 0",
          "Cluster 0",
          "Cluster 0",
          "Cluster 0",
          "Cluster 0",
          "Cluster 0",
          "Cluster 0",
          "Cluster 0",
          "Cluster 0",
          "Cluster 0",
          "Cluster 0",
          "Cluster 0",
          "Cluster 0",
          "Cluster 0",
          "Cluster 0",
          "Cluster 0",
          "Cluster 0",
          "Cluster 0",
          "Cluster 0",
          "Cluster 0",
          "Cluster 0",
          "Cluster 0",
          "Cluster 0",
          "Cluster 0",
          "Cluster 0",
          "Cluster 0",
          "Cluster 0"
         ],
         "xaxis": "x2",
         "yaxis": "y2"
        },
        {
         "alignmentgroup": "True",
         "bingroup": "x",
         "hovertemplate": "Cluster=%{x}<br>count=%{y}<extra></extra>",
         "legendgroup": "Cluster 1",
         "marker": {
          "color": "#EF553B",
          "opacity": 0.7
         },
         "name": "Cluster 1",
         "offsetgroup": "Cluster 1",
         "orientation": "v",
         "showlegend": true,
         "type": "histogram",
         "x": [
          "Cluster 1",
          "Cluster 1",
          "Cluster 1",
          "Cluster 1",
          "Cluster 1",
          "Cluster 1",
          "Cluster 1",
          "Cluster 1",
          "Cluster 1",
          "Cluster 1",
          "Cluster 1",
          "Cluster 1",
          "Cluster 1",
          "Cluster 1",
          "Cluster 1",
          "Cluster 1",
          "Cluster 1",
          "Cluster 1",
          "Cluster 1",
          "Cluster 1",
          "Cluster 1",
          "Cluster 1",
          "Cluster 1",
          "Cluster 1",
          "Cluster 1",
          "Cluster 1",
          "Cluster 1",
          "Cluster 1",
          "Cluster 1",
          "Cluster 1",
          "Cluster 1",
          "Cluster 1",
          "Cluster 1",
          "Cluster 1",
          "Cluster 1",
          "Cluster 1",
          "Cluster 1",
          "Cluster 1",
          "Cluster 1",
          "Cluster 1",
          "Cluster 1",
          "Cluster 1",
          "Cluster 1",
          "Cluster 1",
          "Cluster 1",
          "Cluster 1",
          "Cluster 1",
          "Cluster 1",
          "Cluster 1",
          "Cluster 1",
          "Cluster 1",
          "Cluster 1",
          "Cluster 1",
          "Cluster 1",
          "Cluster 1",
          "Cluster 1",
          "Cluster 1",
          "Cluster 1",
          "Cluster 1",
          "Cluster 1",
          "Cluster 1",
          "Cluster 1",
          "Cluster 1",
          "Cluster 1",
          "Cluster 1",
          "Cluster 1",
          "Cluster 1",
          "Cluster 1",
          "Cluster 1",
          "Cluster 1",
          "Cluster 1",
          "Cluster 1",
          "Cluster 1",
          "Cluster 1",
          "Cluster 1",
          "Cluster 1",
          "Cluster 1",
          "Cluster 1",
          "Cluster 1",
          "Cluster 1",
          "Cluster 1",
          "Cluster 1",
          "Cluster 1",
          "Cluster 1",
          "Cluster 1",
          "Cluster 1",
          "Cluster 1",
          "Cluster 1",
          "Cluster 1",
          "Cluster 1",
          "Cluster 1",
          "Cluster 1",
          "Cluster 1",
          "Cluster 1",
          "Cluster 1",
          "Cluster 1",
          "Cluster 1",
          "Cluster 1",
          "Cluster 1",
          "Cluster 1",
          "Cluster 1",
          "Cluster 1",
          "Cluster 1",
          "Cluster 1",
          "Cluster 1",
          "Cluster 1",
          "Cluster 1",
          "Cluster 1",
          "Cluster 1",
          "Cluster 1",
          "Cluster 1",
          "Cluster 1",
          "Cluster 1",
          "Cluster 1",
          "Cluster 1",
          "Cluster 1",
          "Cluster 1",
          "Cluster 1",
          "Cluster 1",
          "Cluster 1",
          "Cluster 1",
          "Cluster 1",
          "Cluster 1",
          "Cluster 1",
          "Cluster 1",
          "Cluster 1",
          "Cluster 1",
          "Cluster 1",
          "Cluster 1",
          "Cluster 1",
          "Cluster 1",
          "Cluster 1",
          "Cluster 1"
         ],
         "xaxis": "x",
         "yaxis": "y"
        },
        {
         "alignmentgroup": "True",
         "customdata": [
          [
           565531149.8959999,
           361538,
           21,
           133,
           253
          ],
          [
           732281805.7708,
           473029,
           21,
           1472,
           253
          ],
          [
           584267337.9401999,
           344879,
           21,
           668,
           253
          ],
          [
           600817385.9239,
           392671,
           21,
           133,
           253
          ],
          [
           597410616,
           347668,
           21,
           719,
           253
          ],
          [
           581236402.027,
           396852,
           21,
           1472,
           253
          ],
          [
           646307708.2104,
           384655,
           21,
           427,
           253
          ],
          [
           532929245.64869994,
           308191,
           21,
           133,
           253
          ],
          [
           619318226.9077001,
           365105,
           21,
           133,
           253
          ],
          [
           679629547.7758,
           394492,
           21,
           133,
           253
          ],
          [
           574321253.7484,
           340423,
           21,
           133,
           253
          ],
          [
           737470634.6410999,
           441307,
           21,
           133,
           253
          ],
          [
           675799533,
           414901,
           21,
           1472,
           253
          ],
          [
           558301923.8277,
           373568,
           21,
           133,
           253
          ],
          [
           558361719.8284,
           326787,
           21,
           133,
           253
          ],
          [
           643101697.7714001,
           385167,
           21,
           133,
           253
          ],
          [
           562096760.6,
           327060,
           21,
           133,
           253
          ],
          [
           690722046.579,
           368389,
           21,
           1472,
           253
          ],
          [
           641204756.6255001,
           432031,
           21,
           133,
           253
          ],
          [
           689942317.1189001,
           403819,
           21,
           133,
           253
          ],
          [
           660710326,
           413219,
           21,
           719,
           253
          ],
          [
           590273306.0935999,
           384269,
           21,
           1472,
           253
          ],
          [
           734963580.1779001,
           444418,
           21,
           1472,
           253
          ],
          [
           573058942.5,
           348690,
           21,
           1472,
           253
          ],
          [
           778009849.7458999,
           482423,
           21,
           133,
           253
          ],
          [
           597142296.1273,
           391255,
           21,
           1472,
           253
          ],
          [
           626035612.7858,
           408946,
           21,
           133,
           253
          ],
          [
           719256086.4566002,
           445346,
           21,
           427,
           253
          ],
          [
           601784402.4365001,
           396172,
           21,
           1472,
           253
          ],
          [
           595450128.7409,
           380399,
           21,
           1472,
           253
          ],
          [
           668177864.7501,
           423022,
           21,
           1472,
           253
          ],
          [
           564055066.6308,
           348420,
           12,
           133,
           253
          ],
          [
           711961280.1460003,
           457551,
           21,
           1472,
           253
          ],
          [
           761640179.5730001,
           460215,
           21,
           1472,
           1228
          ],
          [
           707863405.5951,
           456295,
           21,
           174,
           253
          ],
          [
           628293081.416,
           391811,
           21,
           133,
           253
          ],
          [
           617250922.1316998,
           415242,
           12,
           1472,
           253
          ],
          [
           584955241.8602002,
           375310,
           21,
           1424,
           2646
          ],
          [
           629466842,
           407344,
           21,
           1472,
           253
          ],
          [
           688385520.2087,
           407386,
           21,
           133,
           253
          ],
          [
           679693170.1613998,
           422713,
           21,
           133,
           253
          ],
          [
           605180801.141,
           355975,
           21,
           478,
           253
          ],
          [
           684973717.2682,
           429529,
           21,
           1424,
           2646
          ],
          [
           728796501.4586002,
           459829,
           21,
           427,
           253
          ],
          [
           635534919.9069,
           390484,
           12,
           133,
           253
          ],
          [
           676749694.6448002,
           448061,
           21,
           1472,
           126
          ],
          [
           786755352.9120998,
           494233,
           21,
           427,
           253
          ],
          [
           752055977.176,
           456590,
           21,
           1472,
           1228
          ],
          [
           578458725.75,
           342752,
           21,
           133,
           253
          ],
          [
           783271392.0971999,
           491556,
           21,
           133,
           253
          ],
          [
           552947115.6665,
           343927,
           21,
           133,
           253
          ],
          [
           610284613.257,
           374459,
           21,
           1424,
           253
          ],
          [
           686799015.0436,
           391661,
           21,
           1472,
           253
          ],
          [
           548287089.2142,
           314593,
           21,
           133,
           253
          ],
          [
           752686689.2569001,
           454254,
           21,
           1472,
           1228
          ],
          [
           776550497.6666,
           510697,
           21,
           133,
           253
          ],
          [
           698669399.9336,
           466380,
           21,
           719,
           253
          ],
          [
           634324113.4115,
           409880,
           21,
           133,
           253
          ],
          [
           739035149.013,
           442402,
           21,
           133,
           253
          ],
          [
           655600856.9059,
           423616,
           21,
           133,
           253
          ],
          [
           776987786.7663,
           503865,
           21,
           1472,
           253
          ],
          [
           616178351.4707,
           394064,
           21,
           719,
           253
          ],
          [
           562669550.1732001,
           332200,
           21,
           133,
           253
          ],
          [
           763818139.5341002,
           459016,
           21,
           133,
           253
          ],
          [
           645784860.4860002,
           377987,
           12,
           133,
           253
          ],
          [
           753615489.515,
           468763,
           21,
           133,
           253
          ],
          [
           613668804,
           397200,
           21,
           133,
           253
          ],
          [
           759757671.3715,
           438684,
           21,
           668,
           1060
          ],
          [
           578876465.9920001,
           338822,
           21,
           668,
           253
          ],
          [
           622637042.855,
           353563,
           21,
           427,
           253
          ],
          [
           585560570.2822998,
           375587,
           21,
           719,
           253
          ],
          [
           560433637.4572,
           388753,
           21,
           133,
           253
          ],
          [
           771315283.6747999,
           478831,
           21,
           133,
           253
          ],
          [
           621042508.1495,
           384164,
           21,
           133,
           253
          ],
          [
           543883657.8899,
           320499,
           21,
           1472,
           253
          ],
          [
           759866119.4906999,
           516770,
           21,
           174,
           1060
          ],
          [
           690713945.8333,
           424622,
           21,
           427,
           253
          ],
          [
           585100322.5569999,
           384413,
           21,
           133,
           253
          ],
          [
           574438375.6909999,
           344136,
           21,
           133,
           253
          ],
          [
           588486260.344,
           329487,
           21,
           668,
           253
          ],
          [
           674888485.0566,
           432652,
           21,
           1472,
           253
          ],
          [
           657377908.9419999,
           424110,
           21,
           1472,
           253
          ],
          [
           635328802.3419,
           426774,
           21,
           174,
           126
          ],
          [
           764773964.407,
           533341,
           21,
           133,
           253
          ],
          [
           748638776.6263,
           470635,
           21,
           719,
           253
          ],
          [
           548844535.0493,
           332544,
           21,
           133,
           253
          ],
          [
           608125665,
           395698,
           21,
           1472,
           253
          ],
          [
           576464014.6334,
           341693,
           21,
           1472,
           1228
          ],
          [
           536027858.8508999,
           346345,
           21,
           1472,
           253
          ],
          [
           685773467.8024998,
           435554,
           21,
           427,
           253
          ],
          [
           773083948.8960001,
           468812,
           21,
           1472,
           1228
          ],
          [
           614040196.7794001,
           396316,
           21,
           1472,
           253
          ],
          [
           703413314.6466999,
           389558,
           21,
           719,
           253
          ],
          [
           772137615.7865,
           503874,
           21,
           133,
           253
          ],
          [
           673824625.1828,
           370931,
           21,
           1424,
           253
          ],
          [
           648294652.5291001,
           381383,
           21,
           1472,
           253
          ],
          [
           661668956.4976002,
           369179,
           21,
           133,
           253
          ],
          [
           718609104.8334999,
           458879,
           21,
           1472,
           253
          ],
          [
           663550012.0347,
           430537,
           21,
           1472,
           253
          ],
          [
           674380684.7863,
           419092,
           21,
           133,
           253
          ],
          [
           698567267.3971,
           436613,
           21,
           668,
           253
          ],
          [
           656733903.8346999,
           411491,
           21,
           668,
           126
          ],
          [
           766209360.2466,
           484650,
           21,
           1472,
           253
          ],
          [
           595693511.7448001,
           389190,
           21,
           133,
           253
          ],
          [
           734067091.768,
           461161,
           21,
           133,
           253
          ],
          [
           569898220.072,
           375933,
           21,
           1424,
           253
          ],
          [
           785372857.7037,
           466065,
           12,
           427,
           1228
          ],
          [
           586849417.5984002,
           367322,
           21,
           1472,
           253
          ],
          [
           664389107.7104999,
           425145,
           21,
           133,
           253
          ],
          [
           531548929.3334,
           315074,
           21,
           133,
           253
          ],
          [
           659716794.25,
           390070,
           21,
           1472,
           253
          ],
          [
           645540855.6638001,
           392664,
           21,
           1472,
           253
          ],
          [
           716186008.0729003,
           456328,
           21,
           1472,
           1228
          ],
          [
           699858456.9185,
           394837,
           21,
           133,
           253
          ],
          [
           561044579.3220999,
           333006,
           12,
           1472,
           253
          ],
          [
           634563724.9027001,
           422491,
           21,
           133,
           253
          ],
          [
           554261527.2014999,
           337187,
           21,
           1472,
           253
          ],
          [
           682044240.4861999,
           386907,
           21,
           1472,
           253
          ],
          [
           557007539.882,
           341003,
           21,
           133,
           253
          ],
          [
           579252860.3333,
           351570,
           21,
           133,
           253
          ],
          [
           540930837.333,
           316125,
           21,
           133,
           253
          ],
          [
           575834324.6928,
           405275,
           21,
           174,
           253
          ],
          [
           650900764.5673002,
           421087,
           21,
           133,
           253
          ],
          [
           605603051,
           351450,
           21,
           133,
           253
          ],
          [
           631925694.1307999,
           400282,
           21,
           1472,
           253
          ],
          [
           777764109.2959,
           529442,
           21,
           133,
           253
          ],
          [
           706115921.9305999,
           453288,
           21,
           1472,
           253
          ],
          [
           558049486.9505999,
           389917,
           21,
           133,
           253
          ],
          [
           766171118.2041999,
           519566,
           21,
           133,
           253
          ],
          [
           615562047.9184,
           366805,
           21,
           1472,
           253
          ],
          [
           530225528.9801,
           339998,
           21,
           668,
           253
          ],
          [
           696001248.1092999,
           459238,
           21,
           1472,
           253
          ],
          [
           576107202,
           331686,
           21,
           133,
           253
          ]
         ],
         "hovertemplate": "Cluster=%{x}<br>Total_Value=%{customdata[0]}<br>Total_Units=%{customdata[1]}<br>ProductFamily_ID=%{customdata[2]}<br>ProductBrand_ID=%{customdata[3]}<br>ProductName_ID=%{customdata[4]}<extra></extra>",
         "legendgroup": "Cluster 1",
         "marker": {
          "color": "#EF553B"
         },
         "name": "Cluster 1",
         "notched": true,
         "offsetgroup": "Cluster 1",
         "showlegend": false,
         "type": "box",
         "x": [
          "Cluster 1",
          "Cluster 1",
          "Cluster 1",
          "Cluster 1",
          "Cluster 1",
          "Cluster 1",
          "Cluster 1",
          "Cluster 1",
          "Cluster 1",
          "Cluster 1",
          "Cluster 1",
          "Cluster 1",
          "Cluster 1",
          "Cluster 1",
          "Cluster 1",
          "Cluster 1",
          "Cluster 1",
          "Cluster 1",
          "Cluster 1",
          "Cluster 1",
          "Cluster 1",
          "Cluster 1",
          "Cluster 1",
          "Cluster 1",
          "Cluster 1",
          "Cluster 1",
          "Cluster 1",
          "Cluster 1",
          "Cluster 1",
          "Cluster 1",
          "Cluster 1",
          "Cluster 1",
          "Cluster 1",
          "Cluster 1",
          "Cluster 1",
          "Cluster 1",
          "Cluster 1",
          "Cluster 1",
          "Cluster 1",
          "Cluster 1",
          "Cluster 1",
          "Cluster 1",
          "Cluster 1",
          "Cluster 1",
          "Cluster 1",
          "Cluster 1",
          "Cluster 1",
          "Cluster 1",
          "Cluster 1",
          "Cluster 1",
          "Cluster 1",
          "Cluster 1",
          "Cluster 1",
          "Cluster 1",
          "Cluster 1",
          "Cluster 1",
          "Cluster 1",
          "Cluster 1",
          "Cluster 1",
          "Cluster 1",
          "Cluster 1",
          "Cluster 1",
          "Cluster 1",
          "Cluster 1",
          "Cluster 1",
          "Cluster 1",
          "Cluster 1",
          "Cluster 1",
          "Cluster 1",
          "Cluster 1",
          "Cluster 1",
          "Cluster 1",
          "Cluster 1",
          "Cluster 1",
          "Cluster 1",
          "Cluster 1",
          "Cluster 1",
          "Cluster 1",
          "Cluster 1",
          "Cluster 1",
          "Cluster 1",
          "Cluster 1",
          "Cluster 1",
          "Cluster 1",
          "Cluster 1",
          "Cluster 1",
          "Cluster 1",
          "Cluster 1",
          "Cluster 1",
          "Cluster 1",
          "Cluster 1",
          "Cluster 1",
          "Cluster 1",
          "Cluster 1",
          "Cluster 1",
          "Cluster 1",
          "Cluster 1",
          "Cluster 1",
          "Cluster 1",
          "Cluster 1",
          "Cluster 1",
          "Cluster 1",
          "Cluster 1",
          "Cluster 1",
          "Cluster 1",
          "Cluster 1",
          "Cluster 1",
          "Cluster 1",
          "Cluster 1",
          "Cluster 1",
          "Cluster 1",
          "Cluster 1",
          "Cluster 1",
          "Cluster 1",
          "Cluster 1",
          "Cluster 1",
          "Cluster 1",
          "Cluster 1",
          "Cluster 1",
          "Cluster 1",
          "Cluster 1",
          "Cluster 1",
          "Cluster 1",
          "Cluster 1",
          "Cluster 1",
          "Cluster 1",
          "Cluster 1",
          "Cluster 1",
          "Cluster 1",
          "Cluster 1",
          "Cluster 1",
          "Cluster 1",
          "Cluster 1"
         ],
         "xaxis": "x2",
         "yaxis": "y2"
        },
        {
         "alignmentgroup": "True",
         "bingroup": "x",
         "hovertemplate": "Cluster=%{x}<br>count=%{y}<extra></extra>",
         "legendgroup": "Cluster 2",
         "marker": {
          "color": "#00cc96",
          "opacity": 0.7
         },
         "name": "Cluster 2",
         "offsetgroup": "Cluster 2",
         "orientation": "v",
         "showlegend": true,
         "type": "histogram",
         "x": [
          "Cluster 2",
          "Cluster 2",
          "Cluster 2",
          "Cluster 2",
          "Cluster 2",
          "Cluster 2",
          "Cluster 2",
          "Cluster 2",
          "Cluster 2",
          "Cluster 2",
          "Cluster 2",
          "Cluster 2",
          "Cluster 2",
          "Cluster 2",
          "Cluster 2",
          "Cluster 2",
          "Cluster 2",
          "Cluster 2",
          "Cluster 2",
          "Cluster 2",
          "Cluster 2",
          "Cluster 2",
          "Cluster 2",
          "Cluster 2",
          "Cluster 2",
          "Cluster 2",
          "Cluster 2",
          "Cluster 2",
          "Cluster 2",
          "Cluster 2",
          "Cluster 2",
          "Cluster 2",
          "Cluster 2",
          "Cluster 2",
          "Cluster 2",
          "Cluster 2",
          "Cluster 2",
          "Cluster 2",
          "Cluster 2",
          "Cluster 2",
          "Cluster 2",
          "Cluster 2",
          "Cluster 2",
          "Cluster 2",
          "Cluster 2",
          "Cluster 2",
          "Cluster 2",
          "Cluster 2",
          "Cluster 2",
          "Cluster 2",
          "Cluster 2",
          "Cluster 2",
          "Cluster 2",
          "Cluster 2",
          "Cluster 2",
          "Cluster 2",
          "Cluster 2",
          "Cluster 2",
          "Cluster 2"
         ],
         "xaxis": "x",
         "yaxis": "y"
        },
        {
         "alignmentgroup": "True",
         "customdata": [
          [
           1278850248.2944007,
           771093,
           21,
           133,
           253
          ],
          [
           1108835405.5988,
           718907,
           21,
           133,
           253
          ],
          [
           1334471121.8870997,
           749371,
           21,
           1472,
           253
          ],
          [
           1108002036.2167006,
           705273,
           21,
           427,
           253
          ],
          [
           1191857875.7558005,
           679321,
           21,
           133,
           253
          ],
          [
           1140355509.6644,
           689900,
           21,
           427,
           253
          ],
          [
           1268647712.5110998,
           777638,
           21,
           719,
           253
          ],
          [
           1160743311.5015001,
           667665,
           21,
           427,
           253
          ],
          [
           1282848053.8525999,
           742274,
           21,
           133,
           253
          ],
          [
           1416623446.2125998,
           839756,
           21,
           427,
           253
          ],
          [
           1218366360.0148997,
           708514,
           21,
           1472,
           253
          ],
          [
           1471505493.1983016,
           939118,
           21,
           133,
           253
          ],
          [
           1169364296.2509003,
           734598,
           21,
           133,
           253
          ],
          [
           1308067315.4334002,
           813595,
           21,
           133,
           253
          ],
          [
           1290233374.3125,
           772001,
           21,
           1472,
           253
          ],
          [
           1333924098.2401001,
           779978,
           21,
           133,
           253
          ],
          [
           1404915007.27,
           866814,
           21,
           427,
           253
          ],
          [
           1234217737.7556002,
           677877,
           21,
           1472,
           253
          ],
          [
           1134115409.7233,
           712893,
           21,
           133,
           253
          ],
          [
           1199980094.6602998,
           687403,
           21,
           1472,
           253
          ],
          [
           1264066725.2656,
           784910,
           21,
           427,
           253
          ],
          [
           1131001863.9279,
           702759,
           21,
           133,
           253
          ],
          [
           1251509973.5224,
           750291,
           21,
           133,
           253
          ],
          [
           1305667712.7896,
           741691,
           21,
           719,
           253
          ],
          [
           1274327245.0180001,
           778024,
           21,
           133,
           253
          ],
          [
           1301694284.7874,
           750038,
           21,
           1472,
           253
          ],
          [
           1362467257.4617,
           868698,
           21,
           668,
           253
          ],
          [
           1407608673.3586,
           859044,
           21,
           133,
           253
          ],
          [
           1210704291.0865,
           772023,
           21,
           1472,
           253
          ],
          [
           1477278997.0577002,
           990405,
           21,
           133,
           253
          ],
          [
           1200281657.5049996,
           726681,
           21,
           1472,
           253
          ],
          [
           1289131466.8477,
           796176,
           21,
           719,
           253
          ],
          [
           1113355206.7336998,
           725336,
           21,
           133,
           253
          ],
          [
           1363672735.907099,
           828076,
           21,
           668,
           253
          ],
          [
           1221876719.8955998,
           736600,
           21,
           1472,
           253
          ],
          [
           1426604282.5762005,
           848996,
           21,
           1472,
           253
          ],
          [
           1113166067.8463998,
           715800,
           21,
           1472,
           253
          ],
          [
           1269881528.3039002,
           808602,
           21,
           1472,
           253
          ],
          [
           1220390976.4309,
           799222,
           21,
           1472,
           253
          ],
          [
           1147669930.0689,
           692652,
           21,
           1472,
           253
          ],
          [
           1266455081.0529003,
           822275,
           21,
           133,
           253
          ],
          [
           1309677292.6081007,
           837262,
           21,
           427,
           253
          ],
          [
           1138652163.3837996,
           659358,
           21,
           133,
           253
          ],
          [
           1118299470.0098994,
           740275,
           21,
           133,
           253
          ],
          [
           1238840838.0685997,
           833774,
           21,
           133,
           253
          ],
          [
           1215017819.746,
           801145,
           21,
           133,
           253
          ],
          [
           1197372963.4457996,
           683624,
           21,
           133,
           253
          ],
          [
           1495054312.7382,
           975637,
           21,
           1472,
           253
          ],
          [
           1196780448.4078999,
           776041,
           21,
           1472,
           253
          ],
          [
           1261300284.6283998,
           797480,
           21,
           1472,
           253
          ],
          [
           1442814788.7218006,
           901738,
           21,
           719,
           253
          ],
          [
           1505714563.4963,
           987002,
           21,
           719,
           253
          ],
          [
           1120210013.9105,
           716424,
           21,
           133,
           253
          ],
          [
           1164621093.5215,
           707020,
           21,
           719,
           2646
          ],
          [
           1180317904.8852,
           724633,
           21,
           133,
           253
          ],
          [
           1198623565.779,
           749384,
           21,
           133,
           253
          ],
          [
           1249078174.933,
           772445,
           21,
           1472,
           253
          ],
          [
           1317090927.3523996,
           778560,
           21,
           1472,
           253
          ],
          [
           1198396642.388,
           801195,
           21,
           1472,
           253
          ]
         ],
         "hovertemplate": "Cluster=%{x}<br>Total_Value=%{customdata[0]}<br>Total_Units=%{customdata[1]}<br>ProductFamily_ID=%{customdata[2]}<br>ProductBrand_ID=%{customdata[3]}<br>ProductName_ID=%{customdata[4]}<extra></extra>",
         "legendgroup": "Cluster 2",
         "marker": {
          "color": "#00cc96"
         },
         "name": "Cluster 2",
         "notched": true,
         "offsetgroup": "Cluster 2",
         "showlegend": false,
         "type": "box",
         "x": [
          "Cluster 2",
          "Cluster 2",
          "Cluster 2",
          "Cluster 2",
          "Cluster 2",
          "Cluster 2",
          "Cluster 2",
          "Cluster 2",
          "Cluster 2",
          "Cluster 2",
          "Cluster 2",
          "Cluster 2",
          "Cluster 2",
          "Cluster 2",
          "Cluster 2",
          "Cluster 2",
          "Cluster 2",
          "Cluster 2",
          "Cluster 2",
          "Cluster 2",
          "Cluster 2",
          "Cluster 2",
          "Cluster 2",
          "Cluster 2",
          "Cluster 2",
          "Cluster 2",
          "Cluster 2",
          "Cluster 2",
          "Cluster 2",
          "Cluster 2",
          "Cluster 2",
          "Cluster 2",
          "Cluster 2",
          "Cluster 2",
          "Cluster 2",
          "Cluster 2",
          "Cluster 2",
          "Cluster 2",
          "Cluster 2",
          "Cluster 2",
          "Cluster 2",
          "Cluster 2",
          "Cluster 2",
          "Cluster 2",
          "Cluster 2",
          "Cluster 2",
          "Cluster 2",
          "Cluster 2",
          "Cluster 2",
          "Cluster 2",
          "Cluster 2",
          "Cluster 2",
          "Cluster 2",
          "Cluster 2",
          "Cluster 2",
          "Cluster 2",
          "Cluster 2",
          "Cluster 2",
          "Cluster 2"
         ],
         "xaxis": "x2",
         "yaxis": "y2"
        },
        {
         "alignmentgroup": "True",
         "bingroup": "x",
         "hovertemplate": "Cluster=%{x}<br>count=%{y}<extra></extra>",
         "legendgroup": "Cluster 3",
         "marker": {
          "color": "#ab63fa",
          "opacity": 0.7
         },
         "name": "Cluster 3",
         "offsetgroup": "Cluster 3",
         "orientation": "v",
         "showlegend": true,
         "type": "histogram",
         "x": [
          "Cluster 3",
          "Cluster 3",
          "Cluster 3",
          "Cluster 3",
          "Cluster 3",
          "Cluster 3",
          "Cluster 3",
          "Cluster 3",
          "Cluster 3",
          "Cluster 3",
          "Cluster 3",
          "Cluster 3",
          "Cluster 3",
          "Cluster 3",
          "Cluster 3",
          "Cluster 3",
          "Cluster 3",
          "Cluster 3",
          "Cluster 3",
          "Cluster 3",
          "Cluster 3",
          "Cluster 3",
          "Cluster 3",
          "Cluster 3",
          "Cluster 3",
          "Cluster 3",
          "Cluster 3",
          "Cluster 3",
          "Cluster 3",
          "Cluster 3",
          "Cluster 3",
          "Cluster 3",
          "Cluster 3",
          "Cluster 3",
          "Cluster 3",
          "Cluster 3",
          "Cluster 3",
          "Cluster 3",
          "Cluster 3",
          "Cluster 3",
          "Cluster 3",
          "Cluster 3",
          "Cluster 3",
          "Cluster 3",
          "Cluster 3",
          "Cluster 3",
          "Cluster 3",
          "Cluster 3",
          "Cluster 3",
          "Cluster 3",
          "Cluster 3",
          "Cluster 3",
          "Cluster 3",
          "Cluster 3",
          "Cluster 3",
          "Cluster 3",
          "Cluster 3",
          "Cluster 3",
          "Cluster 3",
          "Cluster 3",
          "Cluster 3",
          "Cluster 3",
          "Cluster 3",
          "Cluster 3",
          "Cluster 3",
          "Cluster 3",
          "Cluster 3",
          "Cluster 3",
          "Cluster 3",
          "Cluster 3",
          "Cluster 3",
          "Cluster 3",
          "Cluster 3",
          "Cluster 3",
          "Cluster 3",
          "Cluster 3",
          "Cluster 3",
          "Cluster 3",
          "Cluster 3",
          "Cluster 3",
          "Cluster 3",
          "Cluster 3",
          "Cluster 3",
          "Cluster 3",
          "Cluster 3",
          "Cluster 3",
          "Cluster 3",
          "Cluster 3",
          "Cluster 3",
          "Cluster 3",
          "Cluster 3",
          "Cluster 3",
          "Cluster 3",
          "Cluster 3",
          "Cluster 3",
          "Cluster 3",
          "Cluster 3",
          "Cluster 3",
          "Cluster 3",
          "Cluster 3",
          "Cluster 3",
          "Cluster 3",
          "Cluster 3"
         ],
         "xaxis": "x",
         "yaxis": "y"
        },
        {
         "alignmentgroup": "True",
         "customdata": [
          [
           362450015.04370004,
           253616,
           21,
           1472,
           253
          ],
          [
           350896033.96680003,
           226281,
           21,
           1472,
           253
          ],
          [
           327783377,
           214108,
           21,
           1472,
           253
          ],
          [
           349908991.56969994,
           219846,
           21,
           1472,
           126
          ],
          [
           512483945.81329995,
           323515,
           21,
           1472,
           253
          ],
          [
           454984073.6667,
           284261,
           21,
           1472,
           1228
          ],
          [
           433219647.98710006,
           258771,
           21,
           1424,
           2646
          ],
          [
           468129422.2925,
           273267,
           12,
           174,
           253
          ],
          [
           451921677.143,
           311387,
           21,
           133,
           253
          ],
          [
           485005843.6687001,
           326036,
           12,
           1472,
           253
          ],
          [
           423678311,
           255940,
           21,
           1472,
           253
          ],
          [
           467056188.0106,
           288146,
           21,
           1472,
           2646
          ],
          [
           319691422.1614,
           192770,
           21,
           427,
           253
          ],
          [
           489993922.8906,
           307334,
           21,
           668,
           126
          ],
          [
           306694268,
           171969,
           21,
           427,
           253
          ],
          [
           266418896.93350002,
           153226,
           12,
           1424,
           2646
          ],
          [
           384224905.7232,
           236927,
           21,
           1472,
           253
          ],
          [
           259093601.76720005,
           156171,
           21,
           133,
           253
          ],
          [
           438050582.8333,
           292544,
           21,
           133,
           253
          ],
          [
           425764712.9116,
           261983,
           21,
           133,
           253
          ],
          [
           477707817.9318,
           278446,
           21,
           133,
           253
          ],
          [
           426202388.43289995,
           283795,
           21,
           223,
           1060
          ],
          [
           483765370.3333,
           320866,
           21,
           174,
           253
          ],
          [
           493160729.8334,
           315712,
           21,
           1472,
           253
          ],
          [
           476319957,
           268635,
           21,
           133,
           253
          ],
          [
           443983195.3724,
           296507,
           21,
           133,
           253
          ],
          [
           523889395,
           331426,
           21,
           668,
           253
          ],
          [
           482204992.0623,
           291080,
           21,
           133,
           253
          ],
          [
           527105279.12259984,
           312598,
           21,
           1472,
           253
          ],
          [
           491619166.9649,
           315991,
           21,
           1424,
           253
          ],
          [
           429282595.4323001,
           266120,
           21,
           133,
           253
          ],
          [
           349396786.90379995,
           215075,
           21,
           133,
           253
          ],
          [
           253577495.54709995,
           151506,
           12,
           133,
           253
          ],
          [
           231359109.653,
           146769,
           12,
           1472,
           1228
          ],
          [
           462235879.4983,
           299240,
           21,
           133,
           253
          ],
          [
           458537177.94929993,
           270728,
           21,
           1472,
           1228
          ],
          [
           404861199.6397,
           267561,
           12,
           1472,
           253
          ],
          [
           397945051.68376,
           259255,
           12,
           1472,
           253
          ],
          [
           486775562.7856,
           311631,
           21,
           1472,
           253
          ],
          [
           262413693.37639996,
           155707,
           12,
           1472,
           1228
          ],
          [
           393079391.5,
           236999,
           21,
           133,
           253
          ],
          [
           364609804.9578999,
           235088,
           21,
           427,
           1422
          ],
          [
           486305557.29129994,
           329469,
           21,
           174,
           1422
          ],
          [
           508325452.2,
           319688,
           12,
           133,
           253
          ],
          [
           510871643.6959001,
           318147,
           12,
           1424,
           1422
          ],
          [
           481824968,
           282830,
           21,
           133,
           253
          ],
          [
           306930979.765,
           178794,
           12,
           1472,
           1287
          ],
          [
           523296292.5,
           336891,
           21,
           1472,
           253
          ],
          [
           419339432.5997999,
           264166,
           21,
           133,
           253
          ],
          [
           438096417.8522001,
           269965,
           21,
           133,
           253
          ],
          [
           424179415,
           271123,
           21,
           427,
           253
          ],
          [
           519250289,
           318822,
           21,
           427,
           253
          ],
          [
           463849408.3983001,
           261731,
           21,
           133,
           253
          ],
          [
           467390892.16709995,
           299691,
           21,
           133,
           253
          ],
          [
           335799210.0989,
           204622,
           21,
           1472,
           2646
          ],
          [
           212674193.535,
           128599,
           12,
           1425,
           1422
          ],
          [
           462872555.533,
           295315,
           21,
           133,
           253
          ],
          [
           369559949.5364001,
           231062,
           21,
           668,
           126
          ],
          [
           383583600.4772,
           236703,
           12,
           133,
           253
          ],
          [
           492472975.9787,
           314442,
           21,
           1472,
           253
          ],
          [
           476208590.7251,
           279326,
           21,
           1472,
           253
          ],
          [
           467374216.3,
           296208,
           12,
           133,
           253
          ],
          [
           338593974.44079995,
           220371,
           12,
           1472,
           253
          ],
          [
           500043112.9050001,
           319253,
           12,
           1472,
           253
          ],
          [
           222658481,
           145729,
           21,
           1472,
           253
          ],
          [
           147502335,
           91599,
           12,
           230,
           253
          ],
          [
           420595017.9760001,
           290075,
           21,
           133,
           253
          ],
          [
           427715418.41110003,
           262089,
           12,
           1472,
           253
          ],
          [
           284323922.7299001,
           182570,
           12,
           133,
           253
          ],
          [
           431857115.2647,
           282383,
           12,
           1424,
           253
          ],
          [
           364284082,
           223506,
           21,
           133,
           253
          ],
          [
           404766791.45719993,
           247138,
           12,
           133,
           253
          ],
          [
           497666021,
           313018,
           21,
           1472,
           253
          ],
          [
           457451654.0325001,
           274317,
           12,
           133,
           253
          ],
          [
           502829989.1000999,
           313226,
           12,
           133,
           253
          ],
          [
           360549196.5678,
           204107,
           12,
           133,
           253
          ],
          [
           523499343.63199997,
           295314,
           21,
           668,
           253
          ],
          [
           246980870.0073,
           147051,
           21,
           719,
           253
          ],
          [
           349915627,
           207805,
           21,
           1472,
           1228
          ],
          [
           407449876.6665,
           231631,
           21,
           668,
           253
          ],
          [
           520704612,
           311092,
           12,
           133,
           253
          ],
          [
           413500696,
           272385,
           21,
           1472,
           253
          ],
          [
           236508211.5,
           155097,
           21,
           133,
           253
          ],
          [
           515782289.2390999,
           285715,
           21,
           1472,
           126
          ],
          [
           469904820.9618999,
           293833,
           21,
           133,
           253
          ],
          [
           384022543.7564,
           223851,
           21,
           1472,
           253
          ],
          [
           260065697.33070004,
           160978,
           21,
           133,
           253
          ],
          [
           290718459.9505,
           181189,
           21,
           133,
           253
          ],
          [
           441706589.553,
           266685,
           21,
           1472,
           253
          ],
          [
           421427287.1329001,
           236203,
           21,
           133,
           253
          ],
          [
           233675398.06230003,
           127603,
           12,
           133,
           253
          ],
          [
           327180283.26329994,
           183250,
           21,
           133,
           253
          ],
          [
           266602911.26400006,
           168925,
           21,
           133,
           253
          ],
          [
           518904031.7676,
           323284,
           21,
           133,
           253
          ],
          [
           450022448.2671,
           259521,
           21,
           133,
           253
          ],
          [
           256500155.879,
           174595,
           21,
           668,
           253
          ],
          [
           315225883.0402,
           196688,
           21,
           133,
           253
          ],
          [
           481777417,
           282379,
           21,
           1472,
           253
          ],
          [
           378420460.4118,
           247934,
           21,
           1472,
           253
          ],
          [
           392414105.9936001,
           246394,
           21,
           133,
           253
          ],
          [
           313248156.8835,
           198853,
           21,
           133,
           253
          ],
          [
           431841694.706,
           263579,
           21,
           133,
           253
          ],
          [
           357800262.6833,
           221690,
           21,
           133,
           253
          ]
         ],
         "hovertemplate": "Cluster=%{x}<br>Total_Value=%{customdata[0]}<br>Total_Units=%{customdata[1]}<br>ProductFamily_ID=%{customdata[2]}<br>ProductBrand_ID=%{customdata[3]}<br>ProductName_ID=%{customdata[4]}<extra></extra>",
         "legendgroup": "Cluster 3",
         "marker": {
          "color": "#ab63fa"
         },
         "name": "Cluster 3",
         "notched": true,
         "offsetgroup": "Cluster 3",
         "showlegend": false,
         "type": "box",
         "x": [
          "Cluster 3",
          "Cluster 3",
          "Cluster 3",
          "Cluster 3",
          "Cluster 3",
          "Cluster 3",
          "Cluster 3",
          "Cluster 3",
          "Cluster 3",
          "Cluster 3",
          "Cluster 3",
          "Cluster 3",
          "Cluster 3",
          "Cluster 3",
          "Cluster 3",
          "Cluster 3",
          "Cluster 3",
          "Cluster 3",
          "Cluster 3",
          "Cluster 3",
          "Cluster 3",
          "Cluster 3",
          "Cluster 3",
          "Cluster 3",
          "Cluster 3",
          "Cluster 3",
          "Cluster 3",
          "Cluster 3",
          "Cluster 3",
          "Cluster 3",
          "Cluster 3",
          "Cluster 3",
          "Cluster 3",
          "Cluster 3",
          "Cluster 3",
          "Cluster 3",
          "Cluster 3",
          "Cluster 3",
          "Cluster 3",
          "Cluster 3",
          "Cluster 3",
          "Cluster 3",
          "Cluster 3",
          "Cluster 3",
          "Cluster 3",
          "Cluster 3",
          "Cluster 3",
          "Cluster 3",
          "Cluster 3",
          "Cluster 3",
          "Cluster 3",
          "Cluster 3",
          "Cluster 3",
          "Cluster 3",
          "Cluster 3",
          "Cluster 3",
          "Cluster 3",
          "Cluster 3",
          "Cluster 3",
          "Cluster 3",
          "Cluster 3",
          "Cluster 3",
          "Cluster 3",
          "Cluster 3",
          "Cluster 3",
          "Cluster 3",
          "Cluster 3",
          "Cluster 3",
          "Cluster 3",
          "Cluster 3",
          "Cluster 3",
          "Cluster 3",
          "Cluster 3",
          "Cluster 3",
          "Cluster 3",
          "Cluster 3",
          "Cluster 3",
          "Cluster 3",
          "Cluster 3",
          "Cluster 3",
          "Cluster 3",
          "Cluster 3",
          "Cluster 3",
          "Cluster 3",
          "Cluster 3",
          "Cluster 3",
          "Cluster 3",
          "Cluster 3",
          "Cluster 3",
          "Cluster 3",
          "Cluster 3",
          "Cluster 3",
          "Cluster 3",
          "Cluster 3",
          "Cluster 3",
          "Cluster 3",
          "Cluster 3",
          "Cluster 3",
          "Cluster 3",
          "Cluster 3",
          "Cluster 3",
          "Cluster 3",
          "Cluster 3"
         ],
         "xaxis": "x2",
         "yaxis": "y2"
        },
        {
         "alignmentgroup": "True",
         "bingroup": "x",
         "hovertemplate": "Cluster=%{x}<br>count=%{y}<extra></extra>",
         "legendgroup": "Cluster 4",
         "marker": {
          "color": "#FFA15A",
          "opacity": 0.7
         },
         "name": "Cluster 4",
         "offsetgroup": "Cluster 4",
         "orientation": "v",
         "showlegend": true,
         "type": "histogram",
         "x": [
          "Cluster 4",
          "Cluster 4",
          "Cluster 4",
          "Cluster 4",
          "Cluster 4",
          "Cluster 4",
          "Cluster 4",
          "Cluster 4",
          "Cluster 4",
          "Cluster 4",
          "Cluster 4",
          "Cluster 4",
          "Cluster 4"
         ],
         "xaxis": "x",
         "yaxis": "y"
        },
        {
         "alignmentgroup": "True",
         "customdata": [
          [
           2039309795.3119,
           1143981,
           21,
           1472,
           253
          ],
          [
           1885980155.6267009,
           1157980,
           21,
           133,
           253
          ],
          [
           1946545686.4424007,
           1217720,
           21,
           1472,
           253
          ],
          [
           1604784067.2512999,
           989654,
           21,
           133,
           253
          ],
          [
           1704254745.3667002,
           1053420,
           21,
           1472,
           253
          ],
          [
           1988502924.024199,
           1201569,
           21,
           133,
           253
          ],
          [
           1874296729.5358,
           1059257,
           21,
           1472,
           253
          ],
          [
           1587122413.2056003,
           1057880,
           21,
           133,
           253
          ],
          [
           1796778665.2555,
           1082013,
           21,
           1472,
           253
          ],
          [
           2370246101.6712003,
           1429100,
           21,
           133,
           253
          ],
          [
           1876968376.9563007,
           1127792,
           21,
           1472,
           253
          ],
          [
           1639873025.5622,
           963583,
           21,
           719,
           253
          ],
          [
           1624717242.2251005,
           1051391,
           21,
           1472,
           253
          ]
         ],
         "hovertemplate": "Cluster=%{x}<br>Total_Value=%{customdata[0]}<br>Total_Units=%{customdata[1]}<br>ProductFamily_ID=%{customdata[2]}<br>ProductBrand_ID=%{customdata[3]}<br>ProductName_ID=%{customdata[4]}<extra></extra>",
         "legendgroup": "Cluster 4",
         "marker": {
          "color": "#FFA15A"
         },
         "name": "Cluster 4",
         "notched": true,
         "offsetgroup": "Cluster 4",
         "showlegend": false,
         "type": "box",
         "x": [
          "Cluster 4",
          "Cluster 4",
          "Cluster 4",
          "Cluster 4",
          "Cluster 4",
          "Cluster 4",
          "Cluster 4",
          "Cluster 4",
          "Cluster 4",
          "Cluster 4",
          "Cluster 4",
          "Cluster 4",
          "Cluster 4"
         ],
         "xaxis": "x2",
         "yaxis": "y2"
        }
       ],
       "layout": {
        "barmode": "relative",
        "height": 600,
        "legend": {
         "title": {
          "text": "Cluster"
         },
         "tracegroupgap": 0
        },
        "margin": {
         "t": 60
        },
        "template": {
         "data": {
          "bar": [
           {
            "error_x": {
             "color": "#2a3f5f"
            },
            "error_y": {
             "color": "#2a3f5f"
            },
            "marker": {
             "line": {
              "color": "#E5ECF6",
              "width": 0.5
             }
            },
            "type": "bar"
           }
          ],
          "barpolar": [
           {
            "marker": {
             "line": {
              "color": "#E5ECF6",
              "width": 0.5
             }
            },
            "type": "barpolar"
           }
          ],
          "carpet": [
           {
            "aaxis": {
             "endlinecolor": "#2a3f5f",
             "gridcolor": "white",
             "linecolor": "white",
             "minorgridcolor": "white",
             "startlinecolor": "#2a3f5f"
            },
            "baxis": {
             "endlinecolor": "#2a3f5f",
             "gridcolor": "white",
             "linecolor": "white",
             "minorgridcolor": "white",
             "startlinecolor": "#2a3f5f"
            },
            "type": "carpet"
           }
          ],
          "choropleth": [
           {
            "colorbar": {
             "outlinewidth": 0,
             "ticks": ""
            },
            "type": "choropleth"
           }
          ],
          "contour": [
           {
            "colorbar": {
             "outlinewidth": 0,
             "ticks": ""
            },
            "colorscale": [
             [
              0,
              "#0d0887"
             ],
             [
              0.1111111111111111,
              "#46039f"
             ],
             [
              0.2222222222222222,
              "#7201a8"
             ],
             [
              0.3333333333333333,
              "#9c179e"
             ],
             [
              0.4444444444444444,
              "#bd3786"
             ],
             [
              0.5555555555555556,
              "#d8576b"
             ],
             [
              0.6666666666666666,
              "#ed7953"
             ],
             [
              0.7777777777777778,
              "#fb9f3a"
             ],
             [
              0.8888888888888888,
              "#fdca26"
             ],
             [
              1,
              "#f0f921"
             ]
            ],
            "type": "contour"
           }
          ],
          "contourcarpet": [
           {
            "colorbar": {
             "outlinewidth": 0,
             "ticks": ""
            },
            "type": "contourcarpet"
           }
          ],
          "heatmap": [
           {
            "colorbar": {
             "outlinewidth": 0,
             "ticks": ""
            },
            "colorscale": [
             [
              0,
              "#0d0887"
             ],
             [
              0.1111111111111111,
              "#46039f"
             ],
             [
              0.2222222222222222,
              "#7201a8"
             ],
             [
              0.3333333333333333,
              "#9c179e"
             ],
             [
              0.4444444444444444,
              "#bd3786"
             ],
             [
              0.5555555555555556,
              "#d8576b"
             ],
             [
              0.6666666666666666,
              "#ed7953"
             ],
             [
              0.7777777777777778,
              "#fb9f3a"
             ],
             [
              0.8888888888888888,
              "#fdca26"
             ],
             [
              1,
              "#f0f921"
             ]
            ],
            "type": "heatmap"
           }
          ],
          "heatmapgl": [
           {
            "colorbar": {
             "outlinewidth": 0,
             "ticks": ""
            },
            "colorscale": [
             [
              0,
              "#0d0887"
             ],
             [
              0.1111111111111111,
              "#46039f"
             ],
             [
              0.2222222222222222,
              "#7201a8"
             ],
             [
              0.3333333333333333,
              "#9c179e"
             ],
             [
              0.4444444444444444,
              "#bd3786"
             ],
             [
              0.5555555555555556,
              "#d8576b"
             ],
             [
              0.6666666666666666,
              "#ed7953"
             ],
             [
              0.7777777777777778,
              "#fb9f3a"
             ],
             [
              0.8888888888888888,
              "#fdca26"
             ],
             [
              1,
              "#f0f921"
             ]
            ],
            "type": "heatmapgl"
           }
          ],
          "histogram": [
           {
            "marker": {
             "colorbar": {
              "outlinewidth": 0,
              "ticks": ""
             }
            },
            "type": "histogram"
           }
          ],
          "histogram2d": [
           {
            "colorbar": {
             "outlinewidth": 0,
             "ticks": ""
            },
            "colorscale": [
             [
              0,
              "#0d0887"
             ],
             [
              0.1111111111111111,
              "#46039f"
             ],
             [
              0.2222222222222222,
              "#7201a8"
             ],
             [
              0.3333333333333333,
              "#9c179e"
             ],
             [
              0.4444444444444444,
              "#bd3786"
             ],
             [
              0.5555555555555556,
              "#d8576b"
             ],
             [
              0.6666666666666666,
              "#ed7953"
             ],
             [
              0.7777777777777778,
              "#fb9f3a"
             ],
             [
              0.8888888888888888,
              "#fdca26"
             ],
             [
              1,
              "#f0f921"
             ]
            ],
            "type": "histogram2d"
           }
          ],
          "histogram2dcontour": [
           {
            "colorbar": {
             "outlinewidth": 0,
             "ticks": ""
            },
            "colorscale": [
             [
              0,
              "#0d0887"
             ],
             [
              0.1111111111111111,
              "#46039f"
             ],
             [
              0.2222222222222222,
              "#7201a8"
             ],
             [
              0.3333333333333333,
              "#9c179e"
             ],
             [
              0.4444444444444444,
              "#bd3786"
             ],
             [
              0.5555555555555556,
              "#d8576b"
             ],
             [
              0.6666666666666666,
              "#ed7953"
             ],
             [
              0.7777777777777778,
              "#fb9f3a"
             ],
             [
              0.8888888888888888,
              "#fdca26"
             ],
             [
              1,
              "#f0f921"
             ]
            ],
            "type": "histogram2dcontour"
           }
          ],
          "mesh3d": [
           {
            "colorbar": {
             "outlinewidth": 0,
             "ticks": ""
            },
            "type": "mesh3d"
           }
          ],
          "parcoords": [
           {
            "line": {
             "colorbar": {
              "outlinewidth": 0,
              "ticks": ""
             }
            },
            "type": "parcoords"
           }
          ],
          "pie": [
           {
            "automargin": true,
            "type": "pie"
           }
          ],
          "scatter": [
           {
            "marker": {
             "colorbar": {
              "outlinewidth": 0,
              "ticks": ""
             }
            },
            "type": "scatter"
           }
          ],
          "scatter3d": [
           {
            "line": {
             "colorbar": {
              "outlinewidth": 0,
              "ticks": ""
             }
            },
            "marker": {
             "colorbar": {
              "outlinewidth": 0,
              "ticks": ""
             }
            },
            "type": "scatter3d"
           }
          ],
          "scattercarpet": [
           {
            "marker": {
             "colorbar": {
              "outlinewidth": 0,
              "ticks": ""
             }
            },
            "type": "scattercarpet"
           }
          ],
          "scattergeo": [
           {
            "marker": {
             "colorbar": {
              "outlinewidth": 0,
              "ticks": ""
             }
            },
            "type": "scattergeo"
           }
          ],
          "scattergl": [
           {
            "marker": {
             "colorbar": {
              "outlinewidth": 0,
              "ticks": ""
             }
            },
            "type": "scattergl"
           }
          ],
          "scattermapbox": [
           {
            "marker": {
             "colorbar": {
              "outlinewidth": 0,
              "ticks": ""
             }
            },
            "type": "scattermapbox"
           }
          ],
          "scatterpolar": [
           {
            "marker": {
             "colorbar": {
              "outlinewidth": 0,
              "ticks": ""
             }
            },
            "type": "scatterpolar"
           }
          ],
          "scatterpolargl": [
           {
            "marker": {
             "colorbar": {
              "outlinewidth": 0,
              "ticks": ""
             }
            },
            "type": "scatterpolargl"
           }
          ],
          "scatterternary": [
           {
            "marker": {
             "colorbar": {
              "outlinewidth": 0,
              "ticks": ""
             }
            },
            "type": "scatterternary"
           }
          ],
          "surface": [
           {
            "colorbar": {
             "outlinewidth": 0,
             "ticks": ""
            },
            "colorscale": [
             [
              0,
              "#0d0887"
             ],
             [
              0.1111111111111111,
              "#46039f"
             ],
             [
              0.2222222222222222,
              "#7201a8"
             ],
             [
              0.3333333333333333,
              "#9c179e"
             ],
             [
              0.4444444444444444,
              "#bd3786"
             ],
             [
              0.5555555555555556,
              "#d8576b"
             ],
             [
              0.6666666666666666,
              "#ed7953"
             ],
             [
              0.7777777777777778,
              "#fb9f3a"
             ],
             [
              0.8888888888888888,
              "#fdca26"
             ],
             [
              1,
              "#f0f921"
             ]
            ],
            "type": "surface"
           }
          ],
          "table": [
           {
            "cells": {
             "fill": {
              "color": "#EBF0F8"
             },
             "line": {
              "color": "white"
             }
            },
            "header": {
             "fill": {
              "color": "#C8D4E3"
             },
             "line": {
              "color": "white"
             }
            },
            "type": "table"
           }
          ]
         },
         "layout": {
          "annotationdefaults": {
           "arrowcolor": "#2a3f5f",
           "arrowhead": 0,
           "arrowwidth": 1
          },
          "autotypenumbers": "strict",
          "coloraxis": {
           "colorbar": {
            "outlinewidth": 0,
            "ticks": ""
           }
          },
          "colorscale": {
           "diverging": [
            [
             0,
             "#8e0152"
            ],
            [
             0.1,
             "#c51b7d"
            ],
            [
             0.2,
             "#de77ae"
            ],
            [
             0.3,
             "#f1b6da"
            ],
            [
             0.4,
             "#fde0ef"
            ],
            [
             0.5,
             "#f7f7f7"
            ],
            [
             0.6,
             "#e6f5d0"
            ],
            [
             0.7,
             "#b8e186"
            ],
            [
             0.8,
             "#7fbc41"
            ],
            [
             0.9,
             "#4d9221"
            ],
            [
             1,
             "#276419"
            ]
           ],
           "sequential": [
            [
             0,
             "#0d0887"
            ],
            [
             0.1111111111111111,
             "#46039f"
            ],
            [
             0.2222222222222222,
             "#7201a8"
            ],
            [
             0.3333333333333333,
             "#9c179e"
            ],
            [
             0.4444444444444444,
             "#bd3786"
            ],
            [
             0.5555555555555556,
             "#d8576b"
            ],
            [
             0.6666666666666666,
             "#ed7953"
            ],
            [
             0.7777777777777778,
             "#fb9f3a"
            ],
            [
             0.8888888888888888,
             "#fdca26"
            ],
            [
             1,
             "#f0f921"
            ]
           ],
           "sequentialminus": [
            [
             0,
             "#0d0887"
            ],
            [
             0.1111111111111111,
             "#46039f"
            ],
            [
             0.2222222222222222,
             "#7201a8"
            ],
            [
             0.3333333333333333,
             "#9c179e"
            ],
            [
             0.4444444444444444,
             "#bd3786"
            ],
            [
             0.5555555555555556,
             "#d8576b"
            ],
            [
             0.6666666666666666,
             "#ed7953"
            ],
            [
             0.7777777777777778,
             "#fb9f3a"
            ],
            [
             0.8888888888888888,
             "#fdca26"
            ],
            [
             1,
             "#f0f921"
            ]
           ]
          },
          "colorway": [
           "#636efa",
           "#EF553B",
           "#00cc96",
           "#ab63fa",
           "#FFA15A",
           "#19d3f3",
           "#FF6692",
           "#B6E880",
           "#FF97FF",
           "#FECB52"
          ],
          "font": {
           "color": "#2a3f5f"
          },
          "geo": {
           "bgcolor": "white",
           "lakecolor": "white",
           "landcolor": "#E5ECF6",
           "showlakes": true,
           "showland": true,
           "subunitcolor": "white"
          },
          "hoverlabel": {
           "align": "left"
          },
          "hovermode": "closest",
          "mapbox": {
           "style": "light"
          },
          "paper_bgcolor": "white",
          "plot_bgcolor": "#E5ECF6",
          "polar": {
           "angularaxis": {
            "gridcolor": "white",
            "linecolor": "white",
            "ticks": ""
           },
           "bgcolor": "#E5ECF6",
           "radialaxis": {
            "gridcolor": "white",
            "linecolor": "white",
            "ticks": ""
           }
          },
          "scene": {
           "xaxis": {
            "backgroundcolor": "#E5ECF6",
            "gridcolor": "white",
            "gridwidth": 2,
            "linecolor": "white",
            "showbackground": true,
            "ticks": "",
            "zerolinecolor": "white"
           },
           "yaxis": {
            "backgroundcolor": "#E5ECF6",
            "gridcolor": "white",
            "gridwidth": 2,
            "linecolor": "white",
            "showbackground": true,
            "ticks": "",
            "zerolinecolor": "white"
           },
           "zaxis": {
            "backgroundcolor": "#E5ECF6",
            "gridcolor": "white",
            "gridwidth": 2,
            "linecolor": "white",
            "showbackground": true,
            "ticks": "",
            "zerolinecolor": "white"
           }
          },
          "shapedefaults": {
           "line": {
            "color": "#2a3f5f"
           }
          },
          "ternary": {
           "aaxis": {
            "gridcolor": "white",
            "linecolor": "white",
            "ticks": ""
           },
           "baxis": {
            "gridcolor": "white",
            "linecolor": "white",
            "ticks": ""
           },
           "bgcolor": "#E5ECF6",
           "caxis": {
            "gridcolor": "white",
            "linecolor": "white",
            "ticks": ""
           }
          },
          "title": {
           "x": 0.05
          },
          "xaxis": {
           "automargin": true,
           "gridcolor": "white",
           "linecolor": "white",
           "ticks": "",
           "title": {
            "standoff": 15
           },
           "zerolinecolor": "white",
           "zerolinewidth": 2
          },
          "yaxis": {
           "automargin": true,
           "gridcolor": "white",
           "linecolor": "white",
           "ticks": "",
           "title": {
            "standoff": 15
           },
           "zerolinecolor": "white",
           "zerolinewidth": 2
          }
         }
        },
        "xaxis": {
         "anchor": "y",
         "categoryarray": [
          "Cluster 0",
          "Cluster 1",
          "Cluster 2",
          "Cluster 3",
          "Cluster 4"
         ],
         "categoryorder": "array",
         "domain": [
          0,
          1
         ],
         "title": {
          "text": "Cluster"
         }
        },
        "xaxis2": {
         "anchor": "y2",
         "domain": [
          0,
          1
         ],
         "matches": "x",
         "showgrid": true,
         "showticklabels": false
        },
        "yaxis": {
         "anchor": "x",
         "domain": [
          0,
          0.7326
         ],
         "title": {
          "text": "count"
         }
        },
        "yaxis2": {
         "anchor": "x2",
         "domain": [
          0.7426,
          1
         ],
         "matches": "y2",
         "showgrid": false,
         "showline": false,
         "showticklabels": false,
         "ticks": ""
        }
       }
      },
      "text/html": [
       "<div>                            <div id=\"ac59565a-b2b3-4e81-b8cc-57d24e507732\" class=\"plotly-graph-div\" style=\"height:600px; width:100%;\"></div>            <script type=\"text/javascript\">                require([\"plotly\"], function(Plotly) {                    window.PLOTLYENV=window.PLOTLYENV || {};                                    if (document.getElementById(\"ac59565a-b2b3-4e81-b8cc-57d24e507732\")) {                    Plotly.newPlot(                        \"ac59565a-b2b3-4e81-b8cc-57d24e507732\",                        [{\"alignmentgroup\": \"True\", \"bingroup\": \"x\", \"hovertemplate\": \"Cluster=%{x}<br>count=%{y}<extra></extra>\", \"legendgroup\": \"Cluster 0\", \"marker\": {\"color\": \"#636efa\", \"opacity\": 0.7}, \"name\": \"Cluster 0\", \"offsetgroup\": \"Cluster 0\", \"orientation\": \"v\", \"showlegend\": true, \"type\": \"histogram\", \"x\": [\"Cluster 0\", \"Cluster 0\", \"Cluster 0\", \"Cluster 0\", \"Cluster 0\", \"Cluster 0\", \"Cluster 0\", \"Cluster 0\", \"Cluster 0\", \"Cluster 0\", \"Cluster 0\", \"Cluster 0\", \"Cluster 0\", \"Cluster 0\", \"Cluster 0\", \"Cluster 0\", \"Cluster 0\", \"Cluster 0\", \"Cluster 0\", \"Cluster 0\", \"Cluster 0\", \"Cluster 0\", \"Cluster 0\", \"Cluster 0\", \"Cluster 0\", \"Cluster 0\", \"Cluster 0\", \"Cluster 0\", \"Cluster 0\", \"Cluster 0\", \"Cluster 0\", \"Cluster 0\", \"Cluster 0\", \"Cluster 0\", \"Cluster 0\", \"Cluster 0\", \"Cluster 0\", \"Cluster 0\", \"Cluster 0\", \"Cluster 0\", \"Cluster 0\", \"Cluster 0\", \"Cluster 0\", \"Cluster 0\", \"Cluster 0\", \"Cluster 0\", \"Cluster 0\", \"Cluster 0\", \"Cluster 0\", \"Cluster 0\", \"Cluster 0\", \"Cluster 0\", \"Cluster 0\", \"Cluster 0\", \"Cluster 0\", \"Cluster 0\", \"Cluster 0\", \"Cluster 0\", \"Cluster 0\", \"Cluster 0\", \"Cluster 0\", \"Cluster 0\", \"Cluster 0\", \"Cluster 0\", \"Cluster 0\", \"Cluster 0\", \"Cluster 0\", \"Cluster 0\", \"Cluster 0\", \"Cluster 0\", \"Cluster 0\", \"Cluster 0\", \"Cluster 0\", \"Cluster 0\", \"Cluster 0\", \"Cluster 0\", \"Cluster 0\", \"Cluster 0\", \"Cluster 0\", \"Cluster 0\", \"Cluster 0\", \"Cluster 0\", \"Cluster 0\", \"Cluster 0\", \"Cluster 0\", \"Cluster 0\", \"Cluster 0\", \"Cluster 0\", \"Cluster 0\", \"Cluster 0\", \"Cluster 0\", \"Cluster 0\", \"Cluster 0\", \"Cluster 0\", \"Cluster 0\", \"Cluster 0\", \"Cluster 0\", \"Cluster 0\", \"Cluster 0\", \"Cluster 0\", \"Cluster 0\", \"Cluster 0\"], \"xaxis\": \"x\", \"yaxis\": \"y\"}, {\"alignmentgroup\": \"True\", \"customdata\": [[978670349.7655998, 609151.0, 21.0, 1472.0, 1228.0], [1000566465.531, 562355.0, 21.0, 133.0, 253.0], [976254863.1318002, 592026.0, 21.0, 133.0, 253.0], [1017714154.7754003, 601989.0, 21.0, 133.0, 253.0], [803877851.4614997, 475732.0, 21.0, 133.0, 253.0], [791008794.4116, 499350.0, 21.0, 1424.0, 1422.0], [900759999.3516003, 602254.0, 21.0, 1472.0, 253.0], [852974313.8837999, 569417.0, 21.0, 668.0, 126.0], [1035170270.0628997, 606735.0, 21.0, 133.0, 253.0], [792259542.3900002, 459250.0, 21.0, 1472.0, 253.0], [822446892.6213001, 539612.0, 21.0, 133.0, 253.0], [893233052.3929, 585060.0, 21.0, 133.0, 253.0], [911564334.5165999, 575057.0, 21.0, 133.0, 253.0], [890767965.9209, 554923.0, 21.0, 133.0, 253.0], [824109424.0454, 490982.0, 21.0, 1472.0, 253.0], [1042237047.5209, 648086.0, 21.0, 133.0, 253.0], [910584281.5209999, 578372.0, 21.0, 1472.0, 253.0], [877062301.2766997, 580446.0, 21.0, 1472.0, 253.0], [1012136370.1281003, 655256.0, 21.0, 1472.0, 253.0], [984695719.7760998, 669925.0, 21.0, 133.0, 253.0], [997378619.5302001, 616151.0, 21.0, 1472.0, 253.0], [822074196.9736998, 508556.0, 21.0, 133.0, 253.0], [931572407.9125003, 587910.0, 21.0, 133.0, 253.0], [898082177.6540003, 579787.0, 21.0, 1472.0, 253.0], [913195998.346, 549283.0, 21.0, 133.0, 253.0], [852905861.5925999, 524289.0, 21.0, 719.0, 253.0], [955220800.6667, 567332.0, 21.0, 133.0, 253.0], [961646883.0011997, 585096.0, 21.0, 133.0, 253.0], [911519953.7163002, 569055.0, 21.0, 133.0, 253.0], [905863662.6653999, 542554.0, 21.0, 133.0, 253.0], [947365941.1408999, 566547.0, 21.0, 133.0, 253.0], [1004070734.6649002, 647744.0, 21.0, 668.0, 253.0], [1069967101.174, 680764.0, 21.0, 133.0, 253.0], [801690042.9162, 534364.0, 21.0, 1424.0, 253.0], [907003000.1725999, 531143.0, 21.0, 133.0, 253.0], [851522767.5877999, 520404.0, 21.0, 133.0, 253.0], [970532958.2013, 589113.0, 21.0, 133.0, 253.0], [929912787.4232001, 529409.0, 21.0, 668.0, 126.0], [959322286.2156998, 566696.0, 21.0, 1472.0, 253.0], [803536031.7170999, 476487.0, 21.0, 133.0, 253.0], [841540175.7370001, 524344.0, 21.0, 719.0, 253.0], [835289764.2666, 486535.0, 21.0, 133.0, 253.0], [842079794.5753999, 480046.0, 21.0, 133.0, 253.0], [963880366.9252998, 625916.0, 21.0, 133.0, 253.0], [829719219.1971, 500621.0, 21.0, 133.0, 253.0], [863907921.6895998, 525636.0, 21.0, 133.0, 253.0], [1038790167.6832007, 665237.0, 21.0, 1472.0, 253.0], [915407526.6067, 572098.0, 21.0, 133.0, 253.0], [870815777.0, 542318.0, 21.0, 1472.0, 253.0], [996036219.5338, 625681.0, 21.0, 427.0, 253.0], [814491500.1788, 475779.0, 21.0, 1472.0, 253.0], [1038554952.1249995, 605896.0, 21.0, 1472.0, 253.0], [811685985.5058001, 499493.0, 21.0, 1472.0, 253.0], [919051528.3386999, 548502.0, 21.0, 133.0, 253.0], [916908480.1450999, 592223.0, 21.0, 1472.0, 253.0], [816767478.9854, 550698.0, 21.0, 1472.0, 253.0], [799594195.928, 531629.0, 21.0, 719.0, 253.0], [1069079402.6281999, 635654.0, 21.0, 1472.0, 253.0], [791763232.5484998, 475737.0, 21.0, 1472.0, 253.0], [954730257.1873001, 548463.0, 21.0, 133.0, 253.0], [1038609976.6796998, 600457.0, 21.0, 133.0, 253.0], [1076397269.7009, 617432.0, 21.0, 133.0, 253.0], [893136968.3176, 517405.0, 21.0, 133.0, 253.0], [815136333.3887999, 492760.0, 21.0, 668.0, 253.0], [1001577914.4626001, 624248.0, 21.0, 133.0, 253.0], [923168809.9266001, 515347.0, 21.0, 133.0, 253.0], [980509027.6268998, 576697.0, 21.0, 133.0, 253.0], [990809308.5361, 574526.0, 21.0, 133.0, 253.0], [1005136740.7399999, 586708.0, 21.0, 133.0, 253.0], [946367842.802, 589358.0, 21.0, 133.0, 253.0], [822171077.6913998, 508354.0, 21.0, 133.0, 253.0], [1054730303.001, 640831.0, 21.0, 133.0, 253.0], [916159089.2551998, 574453.0, 21.0, 719.0, 253.0], [804725263.7512003, 510636.0, 21.0, 668.0, 126.0], [1074209423.1547, 674925.0, 21.0, 668.0, 253.0], [1041530085.8783001, 726815.0, 21.0, 133.0, 253.0], [946285681.9358003, 590485.0, 21.0, 1472.0, 253.0], [1002260709.9547, 670129.0, 21.0, 1472.0, 253.0], [914073525.1349998, 538098.0, 21.0, 1472.0, 253.0], [844377199.405, 587477.0, 21.0, 1424.0, 253.0], [829448940.5689, 566641.0, 21.0, 133.0, 253.0], [846561426.7871, 540691.0, 21.0, 133.0, 253.0], [960741046.0084999, 641924.0, 21.0, 133.0, 253.0], [1041173202.9808, 673919.0, 21.0, 133.0, 253.0], [828762099.7712001, 523956.0, 21.0, 133.0, 253.0], [1042288905.1294999, 688812.0, 21.0, 133.0, 253.0], [957311751.9592004, 651012.0, 21.0, 133.0, 253.0], [996026276.0, 594064.0, 21.0, 1472.0, 253.0], [814459607.1964998, 529914.0, 21.0, 133.0, 253.0], [922216620.8741001, 547313.0, 21.0, 668.0, 253.0], [922135649.0012, 598720.0, 21.0, 1472.0, 126.0], [989039915.4806002, 651087.0, 21.0, 668.0, 253.0], [838459301.8989998, 536048.0, 21.0, 133.0, 253.0], [812170943.6929998, 583166.0, 21.0, 133.0, 253.0], [1013070165.3360997, 698716.0, 21.0, 133.0, 253.0], [1039503052.2722999, 686275.0, 21.0, 133.0, 253.0], [999067352.8643, 614409.0, 21.0, 719.0, 253.0], [919038927.1364, 594560.0, 21.0, 1472.0, 253.0], [815194447.605, 565139.0, 21.0, 133.0, 253.0], [1048120296.5631, 602120.0, 21.0, 1472.0, 253.0], [1078355578.3846998, 606877.0, 21.0, 1472.0, 253.0], [1036811206.0792998, 669454.0, 21.0, 133.0, 253.0]], \"hovertemplate\": \"Cluster=%{x}<br>Total_Value=%{customdata[0]}<br>Total_Units=%{customdata[1]}<br>ProductFamily_ID=%{customdata[2]}<br>ProductBrand_ID=%{customdata[3]}<br>ProductName_ID=%{customdata[4]}<extra></extra>\", \"legendgroup\": \"Cluster 0\", \"marker\": {\"color\": \"#636efa\"}, \"name\": \"Cluster 0\", \"notched\": true, \"offsetgroup\": \"Cluster 0\", \"showlegend\": false, \"type\": \"box\", \"x\": [\"Cluster 0\", \"Cluster 0\", \"Cluster 0\", \"Cluster 0\", \"Cluster 0\", \"Cluster 0\", \"Cluster 0\", \"Cluster 0\", \"Cluster 0\", \"Cluster 0\", \"Cluster 0\", \"Cluster 0\", \"Cluster 0\", \"Cluster 0\", \"Cluster 0\", \"Cluster 0\", \"Cluster 0\", \"Cluster 0\", \"Cluster 0\", \"Cluster 0\", \"Cluster 0\", \"Cluster 0\", \"Cluster 0\", \"Cluster 0\", \"Cluster 0\", \"Cluster 0\", \"Cluster 0\", \"Cluster 0\", \"Cluster 0\", \"Cluster 0\", \"Cluster 0\", \"Cluster 0\", \"Cluster 0\", \"Cluster 0\", \"Cluster 0\", \"Cluster 0\", \"Cluster 0\", \"Cluster 0\", \"Cluster 0\", \"Cluster 0\", \"Cluster 0\", \"Cluster 0\", \"Cluster 0\", \"Cluster 0\", \"Cluster 0\", \"Cluster 0\", \"Cluster 0\", \"Cluster 0\", \"Cluster 0\", \"Cluster 0\", \"Cluster 0\", \"Cluster 0\", \"Cluster 0\", \"Cluster 0\", \"Cluster 0\", \"Cluster 0\", \"Cluster 0\", \"Cluster 0\", \"Cluster 0\", \"Cluster 0\", \"Cluster 0\", \"Cluster 0\", \"Cluster 0\", \"Cluster 0\", \"Cluster 0\", \"Cluster 0\", \"Cluster 0\", \"Cluster 0\", \"Cluster 0\", \"Cluster 0\", \"Cluster 0\", \"Cluster 0\", \"Cluster 0\", \"Cluster 0\", \"Cluster 0\", \"Cluster 0\", \"Cluster 0\", \"Cluster 0\", \"Cluster 0\", \"Cluster 0\", \"Cluster 0\", \"Cluster 0\", \"Cluster 0\", \"Cluster 0\", \"Cluster 0\", \"Cluster 0\", \"Cluster 0\", \"Cluster 0\", \"Cluster 0\", \"Cluster 0\", \"Cluster 0\", \"Cluster 0\", \"Cluster 0\", \"Cluster 0\", \"Cluster 0\", \"Cluster 0\", \"Cluster 0\", \"Cluster 0\", \"Cluster 0\", \"Cluster 0\", \"Cluster 0\", \"Cluster 0\"], \"xaxis\": \"x2\", \"yaxis\": \"y2\"}, {\"alignmentgroup\": \"True\", \"bingroup\": \"x\", \"hovertemplate\": \"Cluster=%{x}<br>count=%{y}<extra></extra>\", \"legendgroup\": \"Cluster 1\", \"marker\": {\"color\": \"#EF553B\", \"opacity\": 0.7}, \"name\": \"Cluster 1\", \"offsetgroup\": \"Cluster 1\", \"orientation\": \"v\", \"showlegend\": true, \"type\": \"histogram\", \"x\": [\"Cluster 1\", \"Cluster 1\", \"Cluster 1\", \"Cluster 1\", \"Cluster 1\", \"Cluster 1\", \"Cluster 1\", \"Cluster 1\", \"Cluster 1\", \"Cluster 1\", \"Cluster 1\", \"Cluster 1\", \"Cluster 1\", \"Cluster 1\", \"Cluster 1\", \"Cluster 1\", \"Cluster 1\", \"Cluster 1\", \"Cluster 1\", \"Cluster 1\", \"Cluster 1\", \"Cluster 1\", \"Cluster 1\", \"Cluster 1\", \"Cluster 1\", \"Cluster 1\", \"Cluster 1\", \"Cluster 1\", \"Cluster 1\", \"Cluster 1\", \"Cluster 1\", \"Cluster 1\", \"Cluster 1\", \"Cluster 1\", \"Cluster 1\", \"Cluster 1\", \"Cluster 1\", \"Cluster 1\", \"Cluster 1\", \"Cluster 1\", \"Cluster 1\", \"Cluster 1\", \"Cluster 1\", \"Cluster 1\", \"Cluster 1\", \"Cluster 1\", \"Cluster 1\", \"Cluster 1\", \"Cluster 1\", \"Cluster 1\", \"Cluster 1\", \"Cluster 1\", \"Cluster 1\", \"Cluster 1\", \"Cluster 1\", \"Cluster 1\", \"Cluster 1\", \"Cluster 1\", \"Cluster 1\", \"Cluster 1\", \"Cluster 1\", \"Cluster 1\", \"Cluster 1\", \"Cluster 1\", \"Cluster 1\", \"Cluster 1\", \"Cluster 1\", \"Cluster 1\", \"Cluster 1\", \"Cluster 1\", \"Cluster 1\", \"Cluster 1\", \"Cluster 1\", \"Cluster 1\", \"Cluster 1\", \"Cluster 1\", \"Cluster 1\", \"Cluster 1\", \"Cluster 1\", \"Cluster 1\", \"Cluster 1\", \"Cluster 1\", \"Cluster 1\", \"Cluster 1\", \"Cluster 1\", \"Cluster 1\", \"Cluster 1\", \"Cluster 1\", \"Cluster 1\", \"Cluster 1\", \"Cluster 1\", \"Cluster 1\", \"Cluster 1\", \"Cluster 1\", \"Cluster 1\", \"Cluster 1\", \"Cluster 1\", \"Cluster 1\", \"Cluster 1\", \"Cluster 1\", \"Cluster 1\", \"Cluster 1\", \"Cluster 1\", \"Cluster 1\", \"Cluster 1\", \"Cluster 1\", \"Cluster 1\", \"Cluster 1\", \"Cluster 1\", \"Cluster 1\", \"Cluster 1\", \"Cluster 1\", \"Cluster 1\", \"Cluster 1\", \"Cluster 1\", \"Cluster 1\", \"Cluster 1\", \"Cluster 1\", \"Cluster 1\", \"Cluster 1\", \"Cluster 1\", \"Cluster 1\", \"Cluster 1\", \"Cluster 1\", \"Cluster 1\", \"Cluster 1\", \"Cluster 1\", \"Cluster 1\", \"Cluster 1\", \"Cluster 1\", \"Cluster 1\", \"Cluster 1\", \"Cluster 1\"], \"xaxis\": \"x\", \"yaxis\": \"y\"}, {\"alignmentgroup\": \"True\", \"customdata\": [[565531149.8959999, 361538.0, 21.0, 133.0, 253.0], [732281805.7708, 473029.0, 21.0, 1472.0, 253.0], [584267337.9401999, 344879.0, 21.0, 668.0, 253.0], [600817385.9239, 392671.0, 21.0, 133.0, 253.0], [597410616.0, 347668.0, 21.0, 719.0, 253.0], [581236402.027, 396852.0, 21.0, 1472.0, 253.0], [646307708.2104, 384655.0, 21.0, 427.0, 253.0], [532929245.64869994, 308191.0, 21.0, 133.0, 253.0], [619318226.9077001, 365105.0, 21.0, 133.0, 253.0], [679629547.7758, 394492.0, 21.0, 133.0, 253.0], [574321253.7484, 340423.0, 21.0, 133.0, 253.0], [737470634.6410999, 441307.0, 21.0, 133.0, 253.0], [675799533.0, 414901.0, 21.0, 1472.0, 253.0], [558301923.8277, 373568.0, 21.0, 133.0, 253.0], [558361719.8284, 326787.0, 21.0, 133.0, 253.0], [643101697.7714001, 385167.0, 21.0, 133.0, 253.0], [562096760.6, 327060.0, 21.0, 133.0, 253.0], [690722046.579, 368389.0, 21.0, 1472.0, 253.0], [641204756.6255001, 432031.0, 21.0, 133.0, 253.0], [689942317.1189001, 403819.0, 21.0, 133.0, 253.0], [660710326.0, 413219.0, 21.0, 719.0, 253.0], [590273306.0935999, 384269.0, 21.0, 1472.0, 253.0], [734963580.1779001, 444418.0, 21.0, 1472.0, 253.0], [573058942.5, 348690.0, 21.0, 1472.0, 253.0], [778009849.7458999, 482423.0, 21.0, 133.0, 253.0], [597142296.1273, 391255.0, 21.0, 1472.0, 253.0], [626035612.7858, 408946.0, 21.0, 133.0, 253.0], [719256086.4566002, 445346.0, 21.0, 427.0, 253.0], [601784402.4365001, 396172.0, 21.0, 1472.0, 253.0], [595450128.7409, 380399.0, 21.0, 1472.0, 253.0], [668177864.7501, 423022.0, 21.0, 1472.0, 253.0], [564055066.6308, 348420.0, 12.0, 133.0, 253.0], [711961280.1460003, 457551.0, 21.0, 1472.0, 253.0], [761640179.5730001, 460215.0, 21.0, 1472.0, 1228.0], [707863405.5951, 456295.0, 21.0, 174.0, 253.0], [628293081.416, 391811.0, 21.0, 133.0, 253.0], [617250922.1316998, 415242.0, 12.0, 1472.0, 253.0], [584955241.8602002, 375310.0, 21.0, 1424.0, 2646.0], [629466842.0, 407344.0, 21.0, 1472.0, 253.0], [688385520.2087, 407386.0, 21.0, 133.0, 253.0], [679693170.1613998, 422713.0, 21.0, 133.0, 253.0], [605180801.141, 355975.0, 21.0, 478.0, 253.0], [684973717.2682, 429529.0, 21.0, 1424.0, 2646.0], [728796501.4586002, 459829.0, 21.0, 427.0, 253.0], [635534919.9069, 390484.0, 12.0, 133.0, 253.0], [676749694.6448002, 448061.0, 21.0, 1472.0, 126.0], [786755352.9120998, 494233.0, 21.0, 427.0, 253.0], [752055977.176, 456590.0, 21.0, 1472.0, 1228.0], [578458725.75, 342752.0, 21.0, 133.0, 253.0], [783271392.0971999, 491556.0, 21.0, 133.0, 253.0], [552947115.6665, 343927.0, 21.0, 133.0, 253.0], [610284613.257, 374459.0, 21.0, 1424.0, 253.0], [686799015.0436, 391661.0, 21.0, 1472.0, 253.0], [548287089.2142, 314593.0, 21.0, 133.0, 253.0], [752686689.2569001, 454254.0, 21.0, 1472.0, 1228.0], [776550497.6666, 510697.0, 21.0, 133.0, 253.0], [698669399.9336, 466380.0, 21.0, 719.0, 253.0], [634324113.4115, 409880.0, 21.0, 133.0, 253.0], [739035149.013, 442402.0, 21.0, 133.0, 253.0], [655600856.9059, 423616.0, 21.0, 133.0, 253.0], [776987786.7663, 503865.0, 21.0, 1472.0, 253.0], [616178351.4707, 394064.0, 21.0, 719.0, 253.0], [562669550.1732001, 332200.0, 21.0, 133.0, 253.0], [763818139.5341002, 459016.0, 21.0, 133.0, 253.0], [645784860.4860002, 377987.0, 12.0, 133.0, 253.0], [753615489.515, 468763.0, 21.0, 133.0, 253.0], [613668804.0, 397200.0, 21.0, 133.0, 253.0], [759757671.3715, 438684.0, 21.0, 668.0, 1060.0], [578876465.9920001, 338822.0, 21.0, 668.0, 253.0], [622637042.855, 353563.0, 21.0, 427.0, 253.0], [585560570.2822998, 375587.0, 21.0, 719.0, 253.0], [560433637.4572, 388753.0, 21.0, 133.0, 253.0], [771315283.6747999, 478831.0, 21.0, 133.0, 253.0], [621042508.1495, 384164.0, 21.0, 133.0, 253.0], [543883657.8899, 320499.0, 21.0, 1472.0, 253.0], [759866119.4906999, 516770.0, 21.0, 174.0, 1060.0], [690713945.8333, 424622.0, 21.0, 427.0, 253.0], [585100322.5569999, 384413.0, 21.0, 133.0, 253.0], [574438375.6909999, 344136.0, 21.0, 133.0, 253.0], [588486260.344, 329487.0, 21.0, 668.0, 253.0], [674888485.0566, 432652.0, 21.0, 1472.0, 253.0], [657377908.9419999, 424110.0, 21.0, 1472.0, 253.0], [635328802.3419, 426774.0, 21.0, 174.0, 126.0], [764773964.407, 533341.0, 21.0, 133.0, 253.0], [748638776.6263, 470635.0, 21.0, 719.0, 253.0], [548844535.0493, 332544.0, 21.0, 133.0, 253.0], [608125665.0, 395698.0, 21.0, 1472.0, 253.0], [576464014.6334, 341693.0, 21.0, 1472.0, 1228.0], [536027858.8508999, 346345.0, 21.0, 1472.0, 253.0], [685773467.8024998, 435554.0, 21.0, 427.0, 253.0], [773083948.8960001, 468812.0, 21.0, 1472.0, 1228.0], [614040196.7794001, 396316.0, 21.0, 1472.0, 253.0], [703413314.6466999, 389558.0, 21.0, 719.0, 253.0], [772137615.7865, 503874.0, 21.0, 133.0, 253.0], [673824625.1828, 370931.0, 21.0, 1424.0, 253.0], [648294652.5291001, 381383.0, 21.0, 1472.0, 253.0], [661668956.4976002, 369179.0, 21.0, 133.0, 253.0], [718609104.8334999, 458879.0, 21.0, 1472.0, 253.0], [663550012.0347, 430537.0, 21.0, 1472.0, 253.0], [674380684.7863, 419092.0, 21.0, 133.0, 253.0], [698567267.3971, 436613.0, 21.0, 668.0, 253.0], [656733903.8346999, 411491.0, 21.0, 668.0, 126.0], [766209360.2466, 484650.0, 21.0, 1472.0, 253.0], [595693511.7448001, 389190.0, 21.0, 133.0, 253.0], [734067091.768, 461161.0, 21.0, 133.0, 253.0], [569898220.072, 375933.0, 21.0, 1424.0, 253.0], [785372857.7037, 466065.0, 12.0, 427.0, 1228.0], [586849417.5984002, 367322.0, 21.0, 1472.0, 253.0], [664389107.7104999, 425145.0, 21.0, 133.0, 253.0], [531548929.3334, 315074.0, 21.0, 133.0, 253.0], [659716794.25, 390070.0, 21.0, 1472.0, 253.0], [645540855.6638001, 392664.0, 21.0, 1472.0, 253.0], [716186008.0729003, 456328.0, 21.0, 1472.0, 1228.0], [699858456.9185, 394837.0, 21.0, 133.0, 253.0], [561044579.3220999, 333006.0, 12.0, 1472.0, 253.0], [634563724.9027001, 422491.0, 21.0, 133.0, 253.0], [554261527.2014999, 337187.0, 21.0, 1472.0, 253.0], [682044240.4861999, 386907.0, 21.0, 1472.0, 253.0], [557007539.882, 341003.0, 21.0, 133.0, 253.0], [579252860.3333, 351570.0, 21.0, 133.0, 253.0], [540930837.333, 316125.0, 21.0, 133.0, 253.0], [575834324.6928, 405275.0, 21.0, 174.0, 253.0], [650900764.5673002, 421087.0, 21.0, 133.0, 253.0], [605603051.0, 351450.0, 21.0, 133.0, 253.0], [631925694.1307999, 400282.0, 21.0, 1472.0, 253.0], [777764109.2959, 529442.0, 21.0, 133.0, 253.0], [706115921.9305999, 453288.0, 21.0, 1472.0, 253.0], [558049486.9505999, 389917.0, 21.0, 133.0, 253.0], [766171118.2041999, 519566.0, 21.0, 133.0, 253.0], [615562047.9184, 366805.0, 21.0, 1472.0, 253.0], [530225528.9801, 339998.0, 21.0, 668.0, 253.0], [696001248.1092999, 459238.0, 21.0, 1472.0, 253.0], [576107202.0, 331686.0, 21.0, 133.0, 253.0]], \"hovertemplate\": \"Cluster=%{x}<br>Total_Value=%{customdata[0]}<br>Total_Units=%{customdata[1]}<br>ProductFamily_ID=%{customdata[2]}<br>ProductBrand_ID=%{customdata[3]}<br>ProductName_ID=%{customdata[4]}<extra></extra>\", \"legendgroup\": \"Cluster 1\", \"marker\": {\"color\": \"#EF553B\"}, \"name\": \"Cluster 1\", \"notched\": true, \"offsetgroup\": \"Cluster 1\", \"showlegend\": false, \"type\": \"box\", \"x\": [\"Cluster 1\", \"Cluster 1\", \"Cluster 1\", \"Cluster 1\", \"Cluster 1\", \"Cluster 1\", \"Cluster 1\", \"Cluster 1\", \"Cluster 1\", \"Cluster 1\", \"Cluster 1\", \"Cluster 1\", \"Cluster 1\", \"Cluster 1\", \"Cluster 1\", \"Cluster 1\", \"Cluster 1\", \"Cluster 1\", \"Cluster 1\", \"Cluster 1\", \"Cluster 1\", \"Cluster 1\", \"Cluster 1\", \"Cluster 1\", \"Cluster 1\", \"Cluster 1\", \"Cluster 1\", \"Cluster 1\", \"Cluster 1\", \"Cluster 1\", \"Cluster 1\", \"Cluster 1\", \"Cluster 1\", \"Cluster 1\", \"Cluster 1\", \"Cluster 1\", \"Cluster 1\", \"Cluster 1\", \"Cluster 1\", \"Cluster 1\", \"Cluster 1\", \"Cluster 1\", \"Cluster 1\", \"Cluster 1\", \"Cluster 1\", \"Cluster 1\", \"Cluster 1\", \"Cluster 1\", \"Cluster 1\", \"Cluster 1\", \"Cluster 1\", \"Cluster 1\", \"Cluster 1\", \"Cluster 1\", \"Cluster 1\", \"Cluster 1\", \"Cluster 1\", \"Cluster 1\", \"Cluster 1\", \"Cluster 1\", \"Cluster 1\", \"Cluster 1\", \"Cluster 1\", \"Cluster 1\", \"Cluster 1\", \"Cluster 1\", \"Cluster 1\", \"Cluster 1\", \"Cluster 1\", \"Cluster 1\", \"Cluster 1\", \"Cluster 1\", \"Cluster 1\", \"Cluster 1\", \"Cluster 1\", \"Cluster 1\", \"Cluster 1\", \"Cluster 1\", \"Cluster 1\", \"Cluster 1\", \"Cluster 1\", \"Cluster 1\", \"Cluster 1\", \"Cluster 1\", \"Cluster 1\", \"Cluster 1\", \"Cluster 1\", \"Cluster 1\", \"Cluster 1\", \"Cluster 1\", \"Cluster 1\", \"Cluster 1\", \"Cluster 1\", \"Cluster 1\", \"Cluster 1\", \"Cluster 1\", \"Cluster 1\", \"Cluster 1\", \"Cluster 1\", \"Cluster 1\", \"Cluster 1\", \"Cluster 1\", \"Cluster 1\", \"Cluster 1\", \"Cluster 1\", \"Cluster 1\", \"Cluster 1\", \"Cluster 1\", \"Cluster 1\", \"Cluster 1\", \"Cluster 1\", \"Cluster 1\", \"Cluster 1\", \"Cluster 1\", \"Cluster 1\", \"Cluster 1\", \"Cluster 1\", \"Cluster 1\", \"Cluster 1\", \"Cluster 1\", \"Cluster 1\", \"Cluster 1\", \"Cluster 1\", \"Cluster 1\", \"Cluster 1\", \"Cluster 1\", \"Cluster 1\", \"Cluster 1\", \"Cluster 1\", \"Cluster 1\", \"Cluster 1\", \"Cluster 1\", \"Cluster 1\"], \"xaxis\": \"x2\", \"yaxis\": \"y2\"}, {\"alignmentgroup\": \"True\", \"bingroup\": \"x\", \"hovertemplate\": \"Cluster=%{x}<br>count=%{y}<extra></extra>\", \"legendgroup\": \"Cluster 2\", \"marker\": {\"color\": \"#00cc96\", \"opacity\": 0.7}, \"name\": \"Cluster 2\", \"offsetgroup\": \"Cluster 2\", \"orientation\": \"v\", \"showlegend\": true, \"type\": \"histogram\", \"x\": [\"Cluster 2\", \"Cluster 2\", \"Cluster 2\", \"Cluster 2\", \"Cluster 2\", \"Cluster 2\", \"Cluster 2\", \"Cluster 2\", \"Cluster 2\", \"Cluster 2\", \"Cluster 2\", \"Cluster 2\", \"Cluster 2\", \"Cluster 2\", \"Cluster 2\", \"Cluster 2\", \"Cluster 2\", \"Cluster 2\", \"Cluster 2\", \"Cluster 2\", \"Cluster 2\", \"Cluster 2\", \"Cluster 2\", \"Cluster 2\", \"Cluster 2\", \"Cluster 2\", \"Cluster 2\", \"Cluster 2\", \"Cluster 2\", \"Cluster 2\", \"Cluster 2\", \"Cluster 2\", \"Cluster 2\", \"Cluster 2\", \"Cluster 2\", \"Cluster 2\", \"Cluster 2\", \"Cluster 2\", \"Cluster 2\", \"Cluster 2\", \"Cluster 2\", \"Cluster 2\", \"Cluster 2\", \"Cluster 2\", \"Cluster 2\", \"Cluster 2\", \"Cluster 2\", \"Cluster 2\", \"Cluster 2\", \"Cluster 2\", \"Cluster 2\", \"Cluster 2\", \"Cluster 2\", \"Cluster 2\", \"Cluster 2\", \"Cluster 2\", \"Cluster 2\", \"Cluster 2\", \"Cluster 2\"], \"xaxis\": \"x\", \"yaxis\": \"y\"}, {\"alignmentgroup\": \"True\", \"customdata\": [[1278850248.2944007, 771093.0, 21.0, 133.0, 253.0], [1108835405.5988, 718907.0, 21.0, 133.0, 253.0], [1334471121.8870997, 749371.0, 21.0, 1472.0, 253.0], [1108002036.2167006, 705273.0, 21.0, 427.0, 253.0], [1191857875.7558005, 679321.0, 21.0, 133.0, 253.0], [1140355509.6644, 689900.0, 21.0, 427.0, 253.0], [1268647712.5110998, 777638.0, 21.0, 719.0, 253.0], [1160743311.5015001, 667665.0, 21.0, 427.0, 253.0], [1282848053.8525999, 742274.0, 21.0, 133.0, 253.0], [1416623446.2125998, 839756.0, 21.0, 427.0, 253.0], [1218366360.0148997, 708514.0, 21.0, 1472.0, 253.0], [1471505493.1983016, 939118.0, 21.0, 133.0, 253.0], [1169364296.2509003, 734598.0, 21.0, 133.0, 253.0], [1308067315.4334002, 813595.0, 21.0, 133.0, 253.0], [1290233374.3125, 772001.0, 21.0, 1472.0, 253.0], [1333924098.2401001, 779978.0, 21.0, 133.0, 253.0], [1404915007.27, 866814.0, 21.0, 427.0, 253.0], [1234217737.7556002, 677877.0, 21.0, 1472.0, 253.0], [1134115409.7233, 712893.0, 21.0, 133.0, 253.0], [1199980094.6602998, 687403.0, 21.0, 1472.0, 253.0], [1264066725.2656, 784910.0, 21.0, 427.0, 253.0], [1131001863.9279, 702759.0, 21.0, 133.0, 253.0], [1251509973.5224, 750291.0, 21.0, 133.0, 253.0], [1305667712.7896, 741691.0, 21.0, 719.0, 253.0], [1274327245.0180001, 778024.0, 21.0, 133.0, 253.0], [1301694284.7874, 750038.0, 21.0, 1472.0, 253.0], [1362467257.4617, 868698.0, 21.0, 668.0, 253.0], [1407608673.3586, 859044.0, 21.0, 133.0, 253.0], [1210704291.0865, 772023.0, 21.0, 1472.0, 253.0], [1477278997.0577002, 990405.0, 21.0, 133.0, 253.0], [1200281657.5049996, 726681.0, 21.0, 1472.0, 253.0], [1289131466.8477, 796176.0, 21.0, 719.0, 253.0], [1113355206.7336998, 725336.0, 21.0, 133.0, 253.0], [1363672735.907099, 828076.0, 21.0, 668.0, 253.0], [1221876719.8955998, 736600.0, 21.0, 1472.0, 253.0], [1426604282.5762005, 848996.0, 21.0, 1472.0, 253.0], [1113166067.8463998, 715800.0, 21.0, 1472.0, 253.0], [1269881528.3039002, 808602.0, 21.0, 1472.0, 253.0], [1220390976.4309, 799222.0, 21.0, 1472.0, 253.0], [1147669930.0689, 692652.0, 21.0, 1472.0, 253.0], [1266455081.0529003, 822275.0, 21.0, 133.0, 253.0], [1309677292.6081007, 837262.0, 21.0, 427.0, 253.0], [1138652163.3837996, 659358.0, 21.0, 133.0, 253.0], [1118299470.0098994, 740275.0, 21.0, 133.0, 253.0], [1238840838.0685997, 833774.0, 21.0, 133.0, 253.0], [1215017819.746, 801145.0, 21.0, 133.0, 253.0], [1197372963.4457996, 683624.0, 21.0, 133.0, 253.0], [1495054312.7382, 975637.0, 21.0, 1472.0, 253.0], [1196780448.4078999, 776041.0, 21.0, 1472.0, 253.0], [1261300284.6283998, 797480.0, 21.0, 1472.0, 253.0], [1442814788.7218006, 901738.0, 21.0, 719.0, 253.0], [1505714563.4963, 987002.0, 21.0, 719.0, 253.0], [1120210013.9105, 716424.0, 21.0, 133.0, 253.0], [1164621093.5215, 707020.0, 21.0, 719.0, 2646.0], [1180317904.8852, 724633.0, 21.0, 133.0, 253.0], [1198623565.779, 749384.0, 21.0, 133.0, 253.0], [1249078174.933, 772445.0, 21.0, 1472.0, 253.0], [1317090927.3523996, 778560.0, 21.0, 1472.0, 253.0], [1198396642.388, 801195.0, 21.0, 1472.0, 253.0]], \"hovertemplate\": \"Cluster=%{x}<br>Total_Value=%{customdata[0]}<br>Total_Units=%{customdata[1]}<br>ProductFamily_ID=%{customdata[2]}<br>ProductBrand_ID=%{customdata[3]}<br>ProductName_ID=%{customdata[4]}<extra></extra>\", \"legendgroup\": \"Cluster 2\", \"marker\": {\"color\": \"#00cc96\"}, \"name\": \"Cluster 2\", \"notched\": true, \"offsetgroup\": \"Cluster 2\", \"showlegend\": false, \"type\": \"box\", \"x\": [\"Cluster 2\", \"Cluster 2\", \"Cluster 2\", \"Cluster 2\", \"Cluster 2\", \"Cluster 2\", \"Cluster 2\", \"Cluster 2\", \"Cluster 2\", \"Cluster 2\", \"Cluster 2\", \"Cluster 2\", \"Cluster 2\", \"Cluster 2\", \"Cluster 2\", \"Cluster 2\", \"Cluster 2\", \"Cluster 2\", \"Cluster 2\", \"Cluster 2\", \"Cluster 2\", \"Cluster 2\", \"Cluster 2\", \"Cluster 2\", \"Cluster 2\", \"Cluster 2\", \"Cluster 2\", \"Cluster 2\", \"Cluster 2\", \"Cluster 2\", \"Cluster 2\", \"Cluster 2\", \"Cluster 2\", \"Cluster 2\", \"Cluster 2\", \"Cluster 2\", \"Cluster 2\", \"Cluster 2\", \"Cluster 2\", \"Cluster 2\", \"Cluster 2\", \"Cluster 2\", \"Cluster 2\", \"Cluster 2\", \"Cluster 2\", \"Cluster 2\", \"Cluster 2\", \"Cluster 2\", \"Cluster 2\", \"Cluster 2\", \"Cluster 2\", \"Cluster 2\", \"Cluster 2\", \"Cluster 2\", \"Cluster 2\", \"Cluster 2\", \"Cluster 2\", \"Cluster 2\", \"Cluster 2\"], \"xaxis\": \"x2\", \"yaxis\": \"y2\"}, {\"alignmentgroup\": \"True\", \"bingroup\": \"x\", \"hovertemplate\": \"Cluster=%{x}<br>count=%{y}<extra></extra>\", \"legendgroup\": \"Cluster 3\", \"marker\": {\"color\": \"#ab63fa\", \"opacity\": 0.7}, \"name\": \"Cluster 3\", \"offsetgroup\": \"Cluster 3\", \"orientation\": \"v\", \"showlegend\": true, \"type\": \"histogram\", \"x\": [\"Cluster 3\", \"Cluster 3\", \"Cluster 3\", \"Cluster 3\", \"Cluster 3\", \"Cluster 3\", \"Cluster 3\", \"Cluster 3\", \"Cluster 3\", \"Cluster 3\", \"Cluster 3\", \"Cluster 3\", \"Cluster 3\", \"Cluster 3\", \"Cluster 3\", \"Cluster 3\", \"Cluster 3\", \"Cluster 3\", \"Cluster 3\", \"Cluster 3\", \"Cluster 3\", \"Cluster 3\", \"Cluster 3\", \"Cluster 3\", \"Cluster 3\", \"Cluster 3\", \"Cluster 3\", \"Cluster 3\", \"Cluster 3\", \"Cluster 3\", \"Cluster 3\", \"Cluster 3\", \"Cluster 3\", \"Cluster 3\", \"Cluster 3\", \"Cluster 3\", \"Cluster 3\", \"Cluster 3\", \"Cluster 3\", \"Cluster 3\", \"Cluster 3\", \"Cluster 3\", \"Cluster 3\", \"Cluster 3\", \"Cluster 3\", \"Cluster 3\", \"Cluster 3\", \"Cluster 3\", \"Cluster 3\", \"Cluster 3\", \"Cluster 3\", \"Cluster 3\", \"Cluster 3\", \"Cluster 3\", \"Cluster 3\", \"Cluster 3\", \"Cluster 3\", \"Cluster 3\", \"Cluster 3\", \"Cluster 3\", \"Cluster 3\", \"Cluster 3\", \"Cluster 3\", \"Cluster 3\", \"Cluster 3\", \"Cluster 3\", \"Cluster 3\", \"Cluster 3\", \"Cluster 3\", \"Cluster 3\", \"Cluster 3\", \"Cluster 3\", \"Cluster 3\", \"Cluster 3\", \"Cluster 3\", \"Cluster 3\", \"Cluster 3\", \"Cluster 3\", \"Cluster 3\", \"Cluster 3\", \"Cluster 3\", \"Cluster 3\", \"Cluster 3\", \"Cluster 3\", \"Cluster 3\", \"Cluster 3\", \"Cluster 3\", \"Cluster 3\", \"Cluster 3\", \"Cluster 3\", \"Cluster 3\", \"Cluster 3\", \"Cluster 3\", \"Cluster 3\", \"Cluster 3\", \"Cluster 3\", \"Cluster 3\", \"Cluster 3\", \"Cluster 3\", \"Cluster 3\", \"Cluster 3\", \"Cluster 3\", \"Cluster 3\"], \"xaxis\": \"x\", \"yaxis\": \"y\"}, {\"alignmentgroup\": \"True\", \"customdata\": [[362450015.04370004, 253616.0, 21.0, 1472.0, 253.0], [350896033.96680003, 226281.0, 21.0, 1472.0, 253.0], [327783377.0, 214108.0, 21.0, 1472.0, 253.0], [349908991.56969994, 219846.0, 21.0, 1472.0, 126.0], [512483945.81329995, 323515.0, 21.0, 1472.0, 253.0], [454984073.6667, 284261.0, 21.0, 1472.0, 1228.0], [433219647.98710006, 258771.0, 21.0, 1424.0, 2646.0], [468129422.2925, 273267.0, 12.0, 174.0, 253.0], [451921677.143, 311387.0, 21.0, 133.0, 253.0], [485005843.6687001, 326036.0, 12.0, 1472.0, 253.0], [423678311.0, 255940.0, 21.0, 1472.0, 253.0], [467056188.0106, 288146.0, 21.0, 1472.0, 2646.0], [319691422.1614, 192770.0, 21.0, 427.0, 253.0], [489993922.8906, 307334.0, 21.0, 668.0, 126.0], [306694268.0, 171969.0, 21.0, 427.0, 253.0], [266418896.93350002, 153226.0, 12.0, 1424.0, 2646.0], [384224905.7232, 236927.0, 21.0, 1472.0, 253.0], [259093601.76720005, 156171.0, 21.0, 133.0, 253.0], [438050582.8333, 292544.0, 21.0, 133.0, 253.0], [425764712.9116, 261983.0, 21.0, 133.0, 253.0], [477707817.9318, 278446.0, 21.0, 133.0, 253.0], [426202388.43289995, 283795.0, 21.0, 223.0, 1060.0], [483765370.3333, 320866.0, 21.0, 174.0, 253.0], [493160729.8334, 315712.0, 21.0, 1472.0, 253.0], [476319957.0, 268635.0, 21.0, 133.0, 253.0], [443983195.3724, 296507.0, 21.0, 133.0, 253.0], [523889395.0, 331426.0, 21.0, 668.0, 253.0], [482204992.0623, 291080.0, 21.0, 133.0, 253.0], [527105279.12259984, 312598.0, 21.0, 1472.0, 253.0], [491619166.9649, 315991.0, 21.0, 1424.0, 253.0], [429282595.4323001, 266120.0, 21.0, 133.0, 253.0], [349396786.90379995, 215075.0, 21.0, 133.0, 253.0], [253577495.54709995, 151506.0, 12.0, 133.0, 253.0], [231359109.653, 146769.0, 12.0, 1472.0, 1228.0], [462235879.4983, 299240.0, 21.0, 133.0, 253.0], [458537177.94929993, 270728.0, 21.0, 1472.0, 1228.0], [404861199.6397, 267561.0, 12.0, 1472.0, 253.0], [397945051.68376, 259255.0, 12.0, 1472.0, 253.0], [486775562.7856, 311631.0, 21.0, 1472.0, 253.0], [262413693.37639996, 155707.0, 12.0, 1472.0, 1228.0], [393079391.5, 236999.0, 21.0, 133.0, 253.0], [364609804.9578999, 235088.0, 21.0, 427.0, 1422.0], [486305557.29129994, 329469.0, 21.0, 174.0, 1422.0], [508325452.2, 319688.0, 12.0, 133.0, 253.0], [510871643.6959001, 318147.0, 12.0, 1424.0, 1422.0], [481824968.0, 282830.0, 21.0, 133.0, 253.0], [306930979.765, 178794.0, 12.0, 1472.0, 1287.0], [523296292.5, 336891.0, 21.0, 1472.0, 253.0], [419339432.5997999, 264166.0, 21.0, 133.0, 253.0], [438096417.8522001, 269965.0, 21.0, 133.0, 253.0], [424179415.0, 271123.0, 21.0, 427.0, 253.0], [519250289.0, 318822.0, 21.0, 427.0, 253.0], [463849408.3983001, 261731.0, 21.0, 133.0, 253.0], [467390892.16709995, 299691.0, 21.0, 133.0, 253.0], [335799210.0989, 204622.0, 21.0, 1472.0, 2646.0], [212674193.535, 128599.0, 12.0, 1425.0, 1422.0], [462872555.533, 295315.0, 21.0, 133.0, 253.0], [369559949.5364001, 231062.0, 21.0, 668.0, 126.0], [383583600.4772, 236703.0, 12.0, 133.0, 253.0], [492472975.9787, 314442.0, 21.0, 1472.0, 253.0], [476208590.7251, 279326.0, 21.0, 1472.0, 253.0], [467374216.3, 296208.0, 12.0, 133.0, 253.0], [338593974.44079995, 220371.0, 12.0, 1472.0, 253.0], [500043112.9050001, 319253.0, 12.0, 1472.0, 253.0], [222658481.0, 145729.0, 21.0, 1472.0, 253.0], [147502335.0, 91599.0, 12.0, 230.0, 253.0], [420595017.9760001, 290075.0, 21.0, 133.0, 253.0], [427715418.41110003, 262089.0, 12.0, 1472.0, 253.0], [284323922.7299001, 182570.0, 12.0, 133.0, 253.0], [431857115.2647, 282383.0, 12.0, 1424.0, 253.0], [364284082.0, 223506.0, 21.0, 133.0, 253.0], [404766791.45719993, 247138.0, 12.0, 133.0, 253.0], [497666021.0, 313018.0, 21.0, 1472.0, 253.0], [457451654.0325001, 274317.0, 12.0, 133.0, 253.0], [502829989.1000999, 313226.0, 12.0, 133.0, 253.0], [360549196.5678, 204107.0, 12.0, 133.0, 253.0], [523499343.63199997, 295314.0, 21.0, 668.0, 253.0], [246980870.0073, 147051.0, 21.0, 719.0, 253.0], [349915627.0, 207805.0, 21.0, 1472.0, 1228.0], [407449876.6665, 231631.0, 21.0, 668.0, 253.0], [520704612.0, 311092.0, 12.0, 133.0, 253.0], [413500696.0, 272385.0, 21.0, 1472.0, 253.0], [236508211.5, 155097.0, 21.0, 133.0, 253.0], [515782289.2390999, 285715.0, 21.0, 1472.0, 126.0], [469904820.9618999, 293833.0, 21.0, 133.0, 253.0], [384022543.7564, 223851.0, 21.0, 1472.0, 253.0], [260065697.33070004, 160978.0, 21.0, 133.0, 253.0], [290718459.9505, 181189.0, 21.0, 133.0, 253.0], [441706589.553, 266685.0, 21.0, 1472.0, 253.0], [421427287.1329001, 236203.0, 21.0, 133.0, 253.0], [233675398.06230003, 127603.0, 12.0, 133.0, 253.0], [327180283.26329994, 183250.0, 21.0, 133.0, 253.0], [266602911.26400006, 168925.0, 21.0, 133.0, 253.0], [518904031.7676, 323284.0, 21.0, 133.0, 253.0], [450022448.2671, 259521.0, 21.0, 133.0, 253.0], [256500155.879, 174595.0, 21.0, 668.0, 253.0], [315225883.0402, 196688.0, 21.0, 133.0, 253.0], [481777417.0, 282379.0, 21.0, 1472.0, 253.0], [378420460.4118, 247934.0, 21.0, 1472.0, 253.0], [392414105.9936001, 246394.0, 21.0, 133.0, 253.0], [313248156.8835, 198853.0, 21.0, 133.0, 253.0], [431841694.706, 263579.0, 21.0, 133.0, 253.0], [357800262.6833, 221690.0, 21.0, 133.0, 253.0]], \"hovertemplate\": \"Cluster=%{x}<br>Total_Value=%{customdata[0]}<br>Total_Units=%{customdata[1]}<br>ProductFamily_ID=%{customdata[2]}<br>ProductBrand_ID=%{customdata[3]}<br>ProductName_ID=%{customdata[4]}<extra></extra>\", \"legendgroup\": \"Cluster 3\", \"marker\": {\"color\": \"#ab63fa\"}, \"name\": \"Cluster 3\", \"notched\": true, \"offsetgroup\": \"Cluster 3\", \"showlegend\": false, \"type\": \"box\", \"x\": [\"Cluster 3\", \"Cluster 3\", \"Cluster 3\", \"Cluster 3\", \"Cluster 3\", \"Cluster 3\", \"Cluster 3\", \"Cluster 3\", \"Cluster 3\", \"Cluster 3\", \"Cluster 3\", \"Cluster 3\", \"Cluster 3\", \"Cluster 3\", \"Cluster 3\", \"Cluster 3\", \"Cluster 3\", \"Cluster 3\", \"Cluster 3\", \"Cluster 3\", \"Cluster 3\", \"Cluster 3\", \"Cluster 3\", \"Cluster 3\", \"Cluster 3\", \"Cluster 3\", \"Cluster 3\", \"Cluster 3\", \"Cluster 3\", \"Cluster 3\", \"Cluster 3\", \"Cluster 3\", \"Cluster 3\", \"Cluster 3\", \"Cluster 3\", \"Cluster 3\", \"Cluster 3\", \"Cluster 3\", \"Cluster 3\", \"Cluster 3\", \"Cluster 3\", \"Cluster 3\", \"Cluster 3\", \"Cluster 3\", \"Cluster 3\", \"Cluster 3\", \"Cluster 3\", \"Cluster 3\", \"Cluster 3\", \"Cluster 3\", \"Cluster 3\", \"Cluster 3\", \"Cluster 3\", \"Cluster 3\", \"Cluster 3\", \"Cluster 3\", \"Cluster 3\", \"Cluster 3\", \"Cluster 3\", \"Cluster 3\", \"Cluster 3\", \"Cluster 3\", \"Cluster 3\", \"Cluster 3\", \"Cluster 3\", \"Cluster 3\", \"Cluster 3\", \"Cluster 3\", \"Cluster 3\", \"Cluster 3\", \"Cluster 3\", \"Cluster 3\", \"Cluster 3\", \"Cluster 3\", \"Cluster 3\", \"Cluster 3\", \"Cluster 3\", \"Cluster 3\", \"Cluster 3\", \"Cluster 3\", \"Cluster 3\", \"Cluster 3\", \"Cluster 3\", \"Cluster 3\", \"Cluster 3\", \"Cluster 3\", \"Cluster 3\", \"Cluster 3\", \"Cluster 3\", \"Cluster 3\", \"Cluster 3\", \"Cluster 3\", \"Cluster 3\", \"Cluster 3\", \"Cluster 3\", \"Cluster 3\", \"Cluster 3\", \"Cluster 3\", \"Cluster 3\", \"Cluster 3\", \"Cluster 3\", \"Cluster 3\", \"Cluster 3\"], \"xaxis\": \"x2\", \"yaxis\": \"y2\"}, {\"alignmentgroup\": \"True\", \"bingroup\": \"x\", \"hovertemplate\": \"Cluster=%{x}<br>count=%{y}<extra></extra>\", \"legendgroup\": \"Cluster 4\", \"marker\": {\"color\": \"#FFA15A\", \"opacity\": 0.7}, \"name\": \"Cluster 4\", \"offsetgroup\": \"Cluster 4\", \"orientation\": \"v\", \"showlegend\": true, \"type\": \"histogram\", \"x\": [\"Cluster 4\", \"Cluster 4\", \"Cluster 4\", \"Cluster 4\", \"Cluster 4\", \"Cluster 4\", \"Cluster 4\", \"Cluster 4\", \"Cluster 4\", \"Cluster 4\", \"Cluster 4\", \"Cluster 4\", \"Cluster 4\"], \"xaxis\": \"x\", \"yaxis\": \"y\"}, {\"alignmentgroup\": \"True\", \"customdata\": [[2039309795.3119, 1143981.0, 21.0, 1472.0, 253.0], [1885980155.6267009, 1157980.0, 21.0, 133.0, 253.0], [1946545686.4424007, 1217720.0, 21.0, 1472.0, 253.0], [1604784067.2512999, 989654.0, 21.0, 133.0, 253.0], [1704254745.3667002, 1053420.0, 21.0, 1472.0, 253.0], [1988502924.024199, 1201569.0, 21.0, 133.0, 253.0], [1874296729.5358, 1059257.0, 21.0, 1472.0, 253.0], [1587122413.2056003, 1057880.0, 21.0, 133.0, 253.0], [1796778665.2555, 1082013.0, 21.0, 1472.0, 253.0], [2370246101.6712003, 1429100.0, 21.0, 133.0, 253.0], [1876968376.9563007, 1127792.0, 21.0, 1472.0, 253.0], [1639873025.5622, 963583.0, 21.0, 719.0, 253.0], [1624717242.2251005, 1051391.0, 21.0, 1472.0, 253.0]], \"hovertemplate\": \"Cluster=%{x}<br>Total_Value=%{customdata[0]}<br>Total_Units=%{customdata[1]}<br>ProductFamily_ID=%{customdata[2]}<br>ProductBrand_ID=%{customdata[3]}<br>ProductName_ID=%{customdata[4]}<extra></extra>\", \"legendgroup\": \"Cluster 4\", \"marker\": {\"color\": \"#FFA15A\"}, \"name\": \"Cluster 4\", \"notched\": true, \"offsetgroup\": \"Cluster 4\", \"showlegend\": false, \"type\": \"box\", \"x\": [\"Cluster 4\", \"Cluster 4\", \"Cluster 4\", \"Cluster 4\", \"Cluster 4\", \"Cluster 4\", \"Cluster 4\", \"Cluster 4\", \"Cluster 4\", \"Cluster 4\", \"Cluster 4\", \"Cluster 4\", \"Cluster 4\"], \"xaxis\": \"x2\", \"yaxis\": \"y2\"}],                        {\"barmode\": \"relative\", \"height\": 600, \"legend\": {\"title\": {\"text\": \"Cluster\"}, \"tracegroupgap\": 0}, \"margin\": {\"t\": 60}, \"template\": {\"data\": {\"bar\": [{\"error_x\": {\"color\": \"#2a3f5f\"}, \"error_y\": {\"color\": \"#2a3f5f\"}, \"marker\": {\"line\": {\"color\": \"#E5ECF6\", \"width\": 0.5}}, \"type\": \"bar\"}], \"barpolar\": [{\"marker\": {\"line\": {\"color\": \"#E5ECF6\", \"width\": 0.5}}, \"type\": \"barpolar\"}], \"carpet\": [{\"aaxis\": {\"endlinecolor\": \"#2a3f5f\", \"gridcolor\": \"white\", \"linecolor\": \"white\", \"minorgridcolor\": \"white\", \"startlinecolor\": \"#2a3f5f\"}, \"baxis\": {\"endlinecolor\": \"#2a3f5f\", \"gridcolor\": \"white\", \"linecolor\": \"white\", \"minorgridcolor\": \"white\", \"startlinecolor\": \"#2a3f5f\"}, \"type\": \"carpet\"}], \"choropleth\": [{\"colorbar\": {\"outlinewidth\": 0, \"ticks\": \"\"}, \"type\": \"choropleth\"}], \"contour\": [{\"colorbar\": {\"outlinewidth\": 0, \"ticks\": \"\"}, \"colorscale\": [[0.0, \"#0d0887\"], [0.1111111111111111, \"#46039f\"], [0.2222222222222222, \"#7201a8\"], [0.3333333333333333, \"#9c179e\"], [0.4444444444444444, \"#bd3786\"], [0.5555555555555556, \"#d8576b\"], [0.6666666666666666, \"#ed7953\"], [0.7777777777777778, \"#fb9f3a\"], [0.8888888888888888, \"#fdca26\"], [1.0, \"#f0f921\"]], \"type\": \"contour\"}], \"contourcarpet\": [{\"colorbar\": {\"outlinewidth\": 0, \"ticks\": \"\"}, \"type\": \"contourcarpet\"}], \"heatmap\": [{\"colorbar\": {\"outlinewidth\": 0, \"ticks\": \"\"}, \"colorscale\": [[0.0, \"#0d0887\"], [0.1111111111111111, \"#46039f\"], [0.2222222222222222, \"#7201a8\"], [0.3333333333333333, \"#9c179e\"], [0.4444444444444444, \"#bd3786\"], [0.5555555555555556, \"#d8576b\"], [0.6666666666666666, \"#ed7953\"], [0.7777777777777778, \"#fb9f3a\"], [0.8888888888888888, \"#fdca26\"], [1.0, \"#f0f921\"]], \"type\": \"heatmap\"}], \"heatmapgl\": [{\"colorbar\": {\"outlinewidth\": 0, \"ticks\": \"\"}, \"colorscale\": [[0.0, \"#0d0887\"], [0.1111111111111111, \"#46039f\"], [0.2222222222222222, \"#7201a8\"], [0.3333333333333333, \"#9c179e\"], [0.4444444444444444, \"#bd3786\"], [0.5555555555555556, \"#d8576b\"], [0.6666666666666666, \"#ed7953\"], [0.7777777777777778, \"#fb9f3a\"], [0.8888888888888888, \"#fdca26\"], [1.0, \"#f0f921\"]], \"type\": \"heatmapgl\"}], \"histogram\": [{\"marker\": {\"colorbar\": {\"outlinewidth\": 0, \"ticks\": \"\"}}, \"type\": \"histogram\"}], \"histogram2d\": [{\"colorbar\": {\"outlinewidth\": 0, \"ticks\": \"\"}, \"colorscale\": [[0.0, \"#0d0887\"], [0.1111111111111111, \"#46039f\"], [0.2222222222222222, \"#7201a8\"], [0.3333333333333333, \"#9c179e\"], [0.4444444444444444, \"#bd3786\"], [0.5555555555555556, \"#d8576b\"], [0.6666666666666666, \"#ed7953\"], [0.7777777777777778, \"#fb9f3a\"], [0.8888888888888888, \"#fdca26\"], [1.0, \"#f0f921\"]], \"type\": \"histogram2d\"}], \"histogram2dcontour\": [{\"colorbar\": {\"outlinewidth\": 0, \"ticks\": \"\"}, \"colorscale\": [[0.0, \"#0d0887\"], [0.1111111111111111, \"#46039f\"], [0.2222222222222222, \"#7201a8\"], [0.3333333333333333, \"#9c179e\"], [0.4444444444444444, \"#bd3786\"], [0.5555555555555556, \"#d8576b\"], [0.6666666666666666, \"#ed7953\"], [0.7777777777777778, \"#fb9f3a\"], [0.8888888888888888, \"#fdca26\"], [1.0, \"#f0f921\"]], \"type\": \"histogram2dcontour\"}], \"mesh3d\": [{\"colorbar\": {\"outlinewidth\": 0, \"ticks\": \"\"}, \"type\": \"mesh3d\"}], \"parcoords\": [{\"line\": {\"colorbar\": {\"outlinewidth\": 0, \"ticks\": \"\"}}, \"type\": \"parcoords\"}], \"pie\": [{\"automargin\": true, \"type\": \"pie\"}], \"scatter\": [{\"marker\": {\"colorbar\": {\"outlinewidth\": 0, \"ticks\": \"\"}}, \"type\": \"scatter\"}], \"scatter3d\": [{\"line\": {\"colorbar\": {\"outlinewidth\": 0, \"ticks\": \"\"}}, \"marker\": {\"colorbar\": {\"outlinewidth\": 0, \"ticks\": \"\"}}, \"type\": \"scatter3d\"}], \"scattercarpet\": [{\"marker\": {\"colorbar\": {\"outlinewidth\": 0, \"ticks\": \"\"}}, \"type\": \"scattercarpet\"}], \"scattergeo\": [{\"marker\": {\"colorbar\": {\"outlinewidth\": 0, \"ticks\": \"\"}}, \"type\": \"scattergeo\"}], \"scattergl\": [{\"marker\": {\"colorbar\": {\"outlinewidth\": 0, \"ticks\": \"\"}}, \"type\": \"scattergl\"}], \"scattermapbox\": [{\"marker\": {\"colorbar\": {\"outlinewidth\": 0, \"ticks\": \"\"}}, \"type\": \"scattermapbox\"}], \"scatterpolar\": [{\"marker\": {\"colorbar\": {\"outlinewidth\": 0, \"ticks\": \"\"}}, \"type\": \"scatterpolar\"}], \"scatterpolargl\": [{\"marker\": {\"colorbar\": {\"outlinewidth\": 0, \"ticks\": \"\"}}, \"type\": \"scatterpolargl\"}], \"scatterternary\": [{\"marker\": {\"colorbar\": {\"outlinewidth\": 0, \"ticks\": \"\"}}, \"type\": \"scatterternary\"}], \"surface\": [{\"colorbar\": {\"outlinewidth\": 0, \"ticks\": \"\"}, \"colorscale\": [[0.0, \"#0d0887\"], [0.1111111111111111, \"#46039f\"], [0.2222222222222222, \"#7201a8\"], [0.3333333333333333, \"#9c179e\"], [0.4444444444444444, \"#bd3786\"], [0.5555555555555556, \"#d8576b\"], [0.6666666666666666, \"#ed7953\"], [0.7777777777777778, \"#fb9f3a\"], [0.8888888888888888, \"#fdca26\"], [1.0, \"#f0f921\"]], \"type\": \"surface\"}], \"table\": [{\"cells\": {\"fill\": {\"color\": \"#EBF0F8\"}, \"line\": {\"color\": \"white\"}}, \"header\": {\"fill\": {\"color\": \"#C8D4E3\"}, \"line\": {\"color\": \"white\"}}, \"type\": \"table\"}]}, \"layout\": {\"annotationdefaults\": {\"arrowcolor\": \"#2a3f5f\", \"arrowhead\": 0, \"arrowwidth\": 1}, \"autotypenumbers\": \"strict\", \"coloraxis\": {\"colorbar\": {\"outlinewidth\": 0, \"ticks\": \"\"}}, \"colorscale\": {\"diverging\": [[0, \"#8e0152\"], [0.1, \"#c51b7d\"], [0.2, \"#de77ae\"], [0.3, \"#f1b6da\"], [0.4, \"#fde0ef\"], [0.5, \"#f7f7f7\"], [0.6, \"#e6f5d0\"], [0.7, \"#b8e186\"], [0.8, \"#7fbc41\"], [0.9, \"#4d9221\"], [1, \"#276419\"]], \"sequential\": [[0.0, \"#0d0887\"], [0.1111111111111111, \"#46039f\"], [0.2222222222222222, \"#7201a8\"], [0.3333333333333333, \"#9c179e\"], [0.4444444444444444, \"#bd3786\"], [0.5555555555555556, \"#d8576b\"], [0.6666666666666666, \"#ed7953\"], [0.7777777777777778, \"#fb9f3a\"], [0.8888888888888888, \"#fdca26\"], [1.0, \"#f0f921\"]], \"sequentialminus\": [[0.0, \"#0d0887\"], [0.1111111111111111, \"#46039f\"], [0.2222222222222222, \"#7201a8\"], [0.3333333333333333, \"#9c179e\"], [0.4444444444444444, \"#bd3786\"], [0.5555555555555556, \"#d8576b\"], [0.6666666666666666, \"#ed7953\"], [0.7777777777777778, \"#fb9f3a\"], [0.8888888888888888, \"#fdca26\"], [1.0, \"#f0f921\"]]}, \"colorway\": [\"#636efa\", \"#EF553B\", \"#00cc96\", \"#ab63fa\", \"#FFA15A\", \"#19d3f3\", \"#FF6692\", \"#B6E880\", \"#FF97FF\", \"#FECB52\"], \"font\": {\"color\": \"#2a3f5f\"}, \"geo\": {\"bgcolor\": \"white\", \"lakecolor\": \"white\", \"landcolor\": \"#E5ECF6\", \"showlakes\": true, \"showland\": true, \"subunitcolor\": \"white\"}, \"hoverlabel\": {\"align\": \"left\"}, \"hovermode\": \"closest\", \"mapbox\": {\"style\": \"light\"}, \"paper_bgcolor\": \"white\", \"plot_bgcolor\": \"#E5ECF6\", \"polar\": {\"angularaxis\": {\"gridcolor\": \"white\", \"linecolor\": \"white\", \"ticks\": \"\"}, \"bgcolor\": \"#E5ECF6\", \"radialaxis\": {\"gridcolor\": \"white\", \"linecolor\": \"white\", \"ticks\": \"\"}}, \"scene\": {\"xaxis\": {\"backgroundcolor\": \"#E5ECF6\", \"gridcolor\": \"white\", \"gridwidth\": 2, \"linecolor\": \"white\", \"showbackground\": true, \"ticks\": \"\", \"zerolinecolor\": \"white\"}, \"yaxis\": {\"backgroundcolor\": \"#E5ECF6\", \"gridcolor\": \"white\", \"gridwidth\": 2, \"linecolor\": \"white\", \"showbackground\": true, \"ticks\": \"\", \"zerolinecolor\": \"white\"}, \"zaxis\": {\"backgroundcolor\": \"#E5ECF6\", \"gridcolor\": \"white\", \"gridwidth\": 2, \"linecolor\": \"white\", \"showbackground\": true, \"ticks\": \"\", \"zerolinecolor\": \"white\"}}, \"shapedefaults\": {\"line\": {\"color\": \"#2a3f5f\"}}, \"ternary\": {\"aaxis\": {\"gridcolor\": \"white\", \"linecolor\": \"white\", \"ticks\": \"\"}, \"baxis\": {\"gridcolor\": \"white\", \"linecolor\": \"white\", \"ticks\": \"\"}, \"bgcolor\": \"#E5ECF6\", \"caxis\": {\"gridcolor\": \"white\", \"linecolor\": \"white\", \"ticks\": \"\"}}, \"title\": {\"x\": 0.05}, \"xaxis\": {\"automargin\": true, \"gridcolor\": \"white\", \"linecolor\": \"white\", \"ticks\": \"\", \"title\": {\"standoff\": 15}, \"zerolinecolor\": \"white\", \"zerolinewidth\": 2}, \"yaxis\": {\"automargin\": true, \"gridcolor\": \"white\", \"linecolor\": \"white\", \"ticks\": \"\", \"title\": {\"standoff\": 15}, \"zerolinecolor\": \"white\", \"zerolinewidth\": 2}}}, \"xaxis\": {\"anchor\": \"y\", \"categoryarray\": [\"Cluster 0\", \"Cluster 1\", \"Cluster 2\", \"Cluster 3\", \"Cluster 4\"], \"categoryorder\": \"array\", \"domain\": [0.0, 1.0], \"title\": {\"text\": \"Cluster\"}}, \"xaxis2\": {\"anchor\": \"y2\", \"domain\": [0.0, 1.0], \"matches\": \"x\", \"showgrid\": true, \"showticklabels\": false}, \"yaxis\": {\"anchor\": \"x\", \"domain\": [0.0, 0.7326], \"title\": {\"text\": \"count\"}}, \"yaxis2\": {\"anchor\": \"x2\", \"domain\": [0.7426, 1.0], \"matches\": \"y2\", \"showgrid\": false, \"showline\": false, \"showticklabels\": false, \"ticks\": \"\"}},                        {\"responsive\": true}                    ).then(function(){\n",
       "                            \n",
       "var gd = document.getElementById('ac59565a-b2b3-4e81-b8cc-57d24e507732');\n",
       "var x = new MutationObserver(function (mutations, observer) {{\n",
       "        var display = window.getComputedStyle(gd).display;\n",
       "        if (!display || display === 'none') {{\n",
       "            console.log([gd, 'removed!']);\n",
       "            Plotly.purge(gd);\n",
       "            observer.disconnect();\n",
       "        }}\n",
       "}});\n",
       "\n",
       "// Listen for the removal of the full notebook cells\n",
       "var notebookContainer = gd.closest('#notebook-container');\n",
       "if (notebookContainer) {{\n",
       "    x.observe(notebookContainer, {childList: true});\n",
       "}}\n",
       "\n",
       "// Listen for the clearing of the current output cell\n",
       "var outputEl = gd.closest('.output');\n",
       "if (outputEl) {{\n",
       "    x.observe(outputEl, {childList: true});\n",
       "}}\n",
       "\n",
       "                        })                };                });            </script>        </div>"
      ]
     },
     "metadata": {},
     "output_type": "display_data"
    }
   ],
   "source": [
    "# distribution\n",
    "plot_model(kmeans, plot = 'distribution')"
   ]
  },
  {
   "cell_type": "code",
   "execution_count": 224,
   "metadata": {},
   "outputs": [
    {
     "data": {
      "text/html": [
       "<div>\n",
       "<style scoped>\n",
       "    .dataframe tbody tr th:only-of-type {\n",
       "        vertical-align: middle;\n",
       "    }\n",
       "\n",
       "    .dataframe tbody tr th {\n",
       "        vertical-align: top;\n",
       "    }\n",
       "\n",
       "    .dataframe thead th {\n",
       "        text-align: right;\n",
       "    }\n",
       "</style>\n",
       "<table border=\"1\" class=\"dataframe\">\n",
       "  <thead>\n",
       "    <tr style=\"text-align: right;\">\n",
       "      <th></th>\n",
       "      <th>Total_Value</th>\n",
       "      <th>Total_Units</th>\n",
       "      <th>ProductFamily_ID</th>\n",
       "      <th>ProductBrand_ID</th>\n",
       "      <th>ProductName_ID</th>\n",
       "      <th>Cluster</th>\n",
       "    </tr>\n",
       "    <tr>\n",
       "      <th>POS_ID</th>\n",
       "      <th></th>\n",
       "      <th></th>\n",
       "      <th></th>\n",
       "      <th></th>\n",
       "      <th></th>\n",
       "      <th></th>\n",
       "    </tr>\n",
       "  </thead>\n",
       "  <tbody>\n",
       "    <tr>\n",
       "      <th>1</th>\n",
       "      <td>978670349.77</td>\n",
       "      <td>609151</td>\n",
       "      <td>21</td>\n",
       "      <td>1472</td>\n",
       "      <td>1228</td>\n",
       "      <td>Cluster 0</td>\n",
       "    </tr>\n",
       "    <tr>\n",
       "      <th>2</th>\n",
       "      <td>635534919.91</td>\n",
       "      <td>390484</td>\n",
       "      <td>12</td>\n",
       "      <td>133</td>\n",
       "      <td>253</td>\n",
       "      <td>Cluster 1</td>\n",
       "    </tr>\n",
       "    <tr>\n",
       "      <th>3</th>\n",
       "      <td>1048120296.56</td>\n",
       "      <td>602120</td>\n",
       "      <td>21</td>\n",
       "      <td>1472</td>\n",
       "      <td>253</td>\n",
       "      <td>Cluster 0</td>\n",
       "    </tr>\n",
       "    <tr>\n",
       "      <th>4</th>\n",
       "      <td>1261300284.63</td>\n",
       "      <td>797480</td>\n",
       "      <td>21</td>\n",
       "      <td>1472</td>\n",
       "      <td>253</td>\n",
       "      <td>Cluster 2</td>\n",
       "    </tr>\n",
       "    <tr>\n",
       "      <th>5</th>\n",
       "      <td>668177864.75</td>\n",
       "      <td>423022</td>\n",
       "      <td>21</td>\n",
       "      <td>1472</td>\n",
       "      <td>253</td>\n",
       "      <td>Cluster 1</td>\n",
       "    </tr>\n",
       "    <tr>\n",
       "      <th>...</th>\n",
       "      <td>...</td>\n",
       "      <td>...</td>\n",
       "      <td>...</td>\n",
       "      <td>...</td>\n",
       "      <td>...</td>\n",
       "      <td>...</td>\n",
       "    </tr>\n",
       "    <tr>\n",
       "      <th>406</th>\n",
       "      <td>786755352.91</td>\n",
       "      <td>494233</td>\n",
       "      <td>21</td>\n",
       "      <td>427</td>\n",
       "      <td>253</td>\n",
       "      <td>Cluster 1</td>\n",
       "    </tr>\n",
       "    <tr>\n",
       "      <th>407</th>\n",
       "      <td>1264066725.27</td>\n",
       "      <td>784910</td>\n",
       "      <td>21</td>\n",
       "      <td>427</td>\n",
       "      <td>253</td>\n",
       "      <td>Cluster 2</td>\n",
       "    </tr>\n",
       "    <tr>\n",
       "      <th>408</th>\n",
       "      <td>707863405.60</td>\n",
       "      <td>456295</td>\n",
       "      <td>21</td>\n",
       "      <td>174</td>\n",
       "      <td>253</td>\n",
       "      <td>Cluster 1</td>\n",
       "    </tr>\n",
       "    <tr>\n",
       "      <th>409</th>\n",
       "      <td>719256086.46</td>\n",
       "      <td>445346</td>\n",
       "      <td>21</td>\n",
       "      <td>427</td>\n",
       "      <td>253</td>\n",
       "      <td>Cluster 1</td>\n",
       "    </tr>\n",
       "    <tr>\n",
       "      <th>410</th>\n",
       "      <td>1362467257.46</td>\n",
       "      <td>868698</td>\n",
       "      <td>21</td>\n",
       "      <td>668</td>\n",
       "      <td>253</td>\n",
       "      <td>Cluster 2</td>\n",
       "    </tr>\n",
       "  </tbody>\n",
       "</table>\n",
       "<p>410 rows × 6 columns</p>\n",
       "</div>"
      ],
      "text/plain": [
       "         Total_Value  Total_Units  ProductFamily_ID  ProductBrand_ID  \\\n",
       "POS_ID                                                                 \n",
       "1       978670349.77       609151                21             1472   \n",
       "2       635534919.91       390484                12              133   \n",
       "3      1048120296.56       602120                21             1472   \n",
       "4      1261300284.63       797480                21             1472   \n",
       "5       668177864.75       423022                21             1472   \n",
       "...              ...          ...               ...              ...   \n",
       "406     786755352.91       494233                21              427   \n",
       "407    1264066725.27       784910                21              427   \n",
       "408     707863405.60       456295                21              174   \n",
       "409     719256086.46       445346                21              427   \n",
       "410    1362467257.46       868698                21              668   \n",
       "\n",
       "        ProductName_ID    Cluster  \n",
       "POS_ID                             \n",
       "1                 1228  Cluster 0  \n",
       "2                  253  Cluster 1  \n",
       "3                  253  Cluster 0  \n",
       "4                  253  Cluster 2  \n",
       "5                  253  Cluster 1  \n",
       "...                ...        ...  \n",
       "406                253  Cluster 1  \n",
       "407                253  Cluster 2  \n",
       "408                253  Cluster 1  \n",
       "409                253  Cluster 1  \n",
       "410                253  Cluster 2  \n",
       "\n",
       "[410 rows x 6 columns]"
      ]
     },
     "execution_count": 224,
     "metadata": {},
     "output_type": "execute_result"
    }
   ],
   "source": [
    "kmeans_results"
   ]
  },
  {
   "cell_type": "code",
   "execution_count": 225,
   "metadata": {},
   "outputs": [
    {
     "data": {
      "text/html": [
       "<div>\n",
       "<style scoped>\n",
       "    .dataframe tbody tr th:only-of-type {\n",
       "        vertical-align: middle;\n",
       "    }\n",
       "\n",
       "    .dataframe tbody tr th {\n",
       "        vertical-align: top;\n",
       "    }\n",
       "\n",
       "    .dataframe thead th {\n",
       "        text-align: right;\n",
       "    }\n",
       "</style>\n",
       "<table border=\"1\" class=\"dataframe\">\n",
       "  <thead>\n",
       "    <tr style=\"text-align: right;\">\n",
       "      <th></th>\n",
       "      <th>Total_Value</th>\n",
       "      <th>Total_Units</th>\n",
       "      <th>ProductFamily_ID</th>\n",
       "      <th>ProductBrand_ID</th>\n",
       "      <th>ProductName_ID</th>\n",
       "      <th>Cluster</th>\n",
       "    </tr>\n",
       "    <tr>\n",
       "      <th>POS_ID</th>\n",
       "      <th></th>\n",
       "      <th></th>\n",
       "      <th></th>\n",
       "      <th></th>\n",
       "      <th></th>\n",
       "      <th></th>\n",
       "    </tr>\n",
       "  </thead>\n",
       "  <tbody>\n",
       "    <tr>\n",
       "      <th>1</th>\n",
       "      <td>978670349.77</td>\n",
       "      <td>609151</td>\n",
       "      <td>21</td>\n",
       "      <td>1472</td>\n",
       "      <td>1228</td>\n",
       "      <td>Cluster 0</td>\n",
       "    </tr>\n",
       "    <tr>\n",
       "      <th>3</th>\n",
       "      <td>1048120296.56</td>\n",
       "      <td>602120</td>\n",
       "      <td>21</td>\n",
       "      <td>1472</td>\n",
       "      <td>253</td>\n",
       "      <td>Cluster 0</td>\n",
       "    </tr>\n",
       "    <tr>\n",
       "      <th>11</th>\n",
       "      <td>946285681.94</td>\n",
       "      <td>590485</td>\n",
       "      <td>21</td>\n",
       "      <td>1472</td>\n",
       "      <td>253</td>\n",
       "      <td>Cluster 0</td>\n",
       "    </tr>\n",
       "    <tr>\n",
       "      <th>13</th>\n",
       "      <td>1041173202.98</td>\n",
       "      <td>673919</td>\n",
       "      <td>21</td>\n",
       "      <td>133</td>\n",
       "      <td>253</td>\n",
       "      <td>Cluster 0</td>\n",
       "    </tr>\n",
       "    <tr>\n",
       "      <th>16</th>\n",
       "      <td>1013070165.34</td>\n",
       "      <td>698716</td>\n",
       "      <td>21</td>\n",
       "      <td>133</td>\n",
       "      <td>253</td>\n",
       "      <td>Cluster 0</td>\n",
       "    </tr>\n",
       "    <tr>\n",
       "      <th>...</th>\n",
       "      <td>...</td>\n",
       "      <td>...</td>\n",
       "      <td>...</td>\n",
       "      <td>...</td>\n",
       "      <td>...</td>\n",
       "      <td>...</td>\n",
       "    </tr>\n",
       "    <tr>\n",
       "      <th>374</th>\n",
       "      <td>997378619.53</td>\n",
       "      <td>616151</td>\n",
       "      <td>21</td>\n",
       "      <td>1472</td>\n",
       "      <td>253</td>\n",
       "      <td>Cluster 0</td>\n",
       "    </tr>\n",
       "    <tr>\n",
       "      <th>382</th>\n",
       "      <td>1078355578.38</td>\n",
       "      <td>606877</td>\n",
       "      <td>21</td>\n",
       "      <td>1472</td>\n",
       "      <td>253</td>\n",
       "      <td>Cluster 0</td>\n",
       "    </tr>\n",
       "    <tr>\n",
       "      <th>390</th>\n",
       "      <td>996026276.00</td>\n",
       "      <td>594064</td>\n",
       "      <td>21</td>\n",
       "      <td>1472</td>\n",
       "      <td>253</td>\n",
       "      <td>Cluster 0</td>\n",
       "    </tr>\n",
       "    <tr>\n",
       "      <th>394</th>\n",
       "      <td>922216620.87</td>\n",
       "      <td>547313</td>\n",
       "      <td>21</td>\n",
       "      <td>668</td>\n",
       "      <td>253</td>\n",
       "      <td>Cluster 0</td>\n",
       "    </tr>\n",
       "    <tr>\n",
       "      <th>401</th>\n",
       "      <td>914073525.13</td>\n",
       "      <td>538098</td>\n",
       "      <td>21</td>\n",
       "      <td>1472</td>\n",
       "      <td>253</td>\n",
       "      <td>Cluster 0</td>\n",
       "    </tr>\n",
       "  </tbody>\n",
       "</table>\n",
       "<p>102 rows × 6 columns</p>\n",
       "</div>"
      ],
      "text/plain": [
       "         Total_Value  Total_Units  ProductFamily_ID  ProductBrand_ID  \\\n",
       "POS_ID                                                                 \n",
       "1       978670349.77       609151                21             1472   \n",
       "3      1048120296.56       602120                21             1472   \n",
       "11      946285681.94       590485                21             1472   \n",
       "13     1041173202.98       673919                21              133   \n",
       "16     1013070165.34       698716                21              133   \n",
       "...              ...          ...               ...              ...   \n",
       "374     997378619.53       616151                21             1472   \n",
       "382    1078355578.38       606877                21             1472   \n",
       "390     996026276.00       594064                21             1472   \n",
       "394     922216620.87       547313                21              668   \n",
       "401     914073525.13       538098                21             1472   \n",
       "\n",
       "        ProductName_ID    Cluster  \n",
       "POS_ID                             \n",
       "1                 1228  Cluster 0  \n",
       "3                  253  Cluster 0  \n",
       "11                 253  Cluster 0  \n",
       "13                 253  Cluster 0  \n",
       "16                 253  Cluster 0  \n",
       "...                ...        ...  \n",
       "374                253  Cluster 0  \n",
       "382                253  Cluster 0  \n",
       "390                253  Cluster 0  \n",
       "394                253  Cluster 0  \n",
       "401                253  Cluster 0  \n",
       "\n",
       "[102 rows x 6 columns]"
      ]
     },
     "execution_count": 225,
     "metadata": {},
     "output_type": "execute_result"
    }
   ],
   "source": [
    "# Displaying results for Cluster 0 \n",
    "kmeans_results[kmeans_results.Cluster=='Cluster 0']"
   ]
  },
  {
   "cell_type": "code",
   "execution_count": 226,
   "metadata": {
    "scrolled": false
   },
   "outputs": [
    {
     "data": {
      "text/html": [
       "<div>\n",
       "<style scoped>\n",
       "    .dataframe tbody tr th:only-of-type {\n",
       "        vertical-align: middle;\n",
       "    }\n",
       "\n",
       "    .dataframe tbody tr th {\n",
       "        vertical-align: top;\n",
       "    }\n",
       "\n",
       "    .dataframe thead th {\n",
       "        text-align: right;\n",
       "    }\n",
       "</style>\n",
       "<table border=\"1\" class=\"dataframe\">\n",
       "  <thead>\n",
       "    <tr style=\"text-align: right;\">\n",
       "      <th></th>\n",
       "      <th>Total_Value</th>\n",
       "      <th>Total_Units</th>\n",
       "      <th>ProductFamily_ID</th>\n",
       "      <th>ProductBrand_ID</th>\n",
       "      <th>ProductName_ID</th>\n",
       "    </tr>\n",
       "    <tr>\n",
       "      <th>Cluster</th>\n",
       "      <th></th>\n",
       "      <th></th>\n",
       "      <th></th>\n",
       "      <th></th>\n",
       "      <th></th>\n",
       "    </tr>\n",
       "  </thead>\n",
       "  <tbody>\n",
       "    <tr>\n",
       "      <th>Cluster 0</th>\n",
       "      <td>926312759.01</td>\n",
       "      <td>576697.31</td>\n",
       "      <td>21</td>\n",
       "      <td>133</td>\n",
       "      <td>253</td>\n",
       "    </tr>\n",
       "    <tr>\n",
       "      <th>Cluster 1</th>\n",
       "      <td>650379848.28</td>\n",
       "      <td>404556.80</td>\n",
       "      <td>21</td>\n",
       "      <td>133</td>\n",
       "      <td>253</td>\n",
       "    </tr>\n",
       "    <tr>\n",
       "      <th>Cluster 2</th>\n",
       "      <td>1258010167.01</td>\n",
       "      <td>775852.29</td>\n",
       "      <td>21</td>\n",
       "      <td>133</td>\n",
       "      <td>253</td>\n",
       "    </tr>\n",
       "    <tr>\n",
       "      <th>Cluster 3</th>\n",
       "      <td>404022574.45</td>\n",
       "      <td>250576.04</td>\n",
       "      <td>21</td>\n",
       "      <td>133</td>\n",
       "      <td>253</td>\n",
       "    </tr>\n",
       "    <tr>\n",
       "      <th>Cluster 4</th>\n",
       "      <td>1841490763.73</td>\n",
       "      <td>1118103.08</td>\n",
       "      <td>21</td>\n",
       "      <td>1472</td>\n",
       "      <td>253</td>\n",
       "    </tr>\n",
       "  </tbody>\n",
       "</table>\n",
       "</div>"
      ],
      "text/plain": [
       "            Total_Value  Total_Units  ProductFamily_ID  ProductBrand_ID  \\\n",
       "Cluster                                                                   \n",
       "Cluster 0  926312759.01    576697.31                21              133   \n",
       "Cluster 1  650379848.28    404556.80                21              133   \n",
       "Cluster 2 1258010167.01    775852.29                21              133   \n",
       "Cluster 3  404022574.45    250576.04                21              133   \n",
       "Cluster 4 1841490763.73   1118103.08                21             1472   \n",
       "\n",
       "           ProductName_ID  \n",
       "Cluster                    \n",
       "Cluster 0             253  \n",
       "Cluster 1             253  \n",
       "Cluster 2             253  \n",
       "Cluster 3             253  \n",
       "Cluster 4             253  "
      ]
     },
     "execution_count": 226,
     "metadata": {},
     "output_type": "execute_result"
    }
   ],
   "source": [
    "# See common characteristics among clusters with Mode of categorical features and Mean of metric features\n",
    "results = kmeans_results.groupby('Cluster').agg({'Total_Value': 'mean','Total_Units':'mean',\\\n",
    "                                   'ProductFamily_ID': (lambda x: x.value_counts().index[0]),\\\n",
    "                                   'ProductBrand_ID': (lambda x: x.value_counts().index[0]),\\\n",
    "                                   'ProductName_ID': (lambda x: x.value_counts().index[0])})\n",
    "results\n",
    "# Here´s the mean of every cluster. And the most sold item/family/brand of each cluster (mode)"
   ]
  }
 ],
 "metadata": {
  "kernelspec": {
   "display_name": "Python 3",
   "language": "python",
   "name": "python3"
  },
  "language_info": {
   "codemirror_mode": {
    "name": "ipython",
    "version": 3
   },
   "file_extension": ".py",
   "mimetype": "text/x-python",
   "name": "python",
   "nbconvert_exporter": "python",
   "pygments_lexer": "ipython3",
   "version": "3.8.3"
  }
 },
 "nbformat": 4,
 "nbformat_minor": 5
}
